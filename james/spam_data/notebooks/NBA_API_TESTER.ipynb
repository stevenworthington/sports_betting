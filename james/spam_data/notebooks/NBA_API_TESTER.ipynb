{
 "cells": [
  {
   "cell_type": "code",
   "execution_count": 1,
   "id": "1d506ff5-7f4f-4ace-8a25-7c2755457bf6",
   "metadata": {},
   "outputs": [],
   "source": [
    "from nba_api.stats.endpoints import (\n",
    "  scoreboard, leaguegamefinder, playercareerstats,\n",
    "  boxscorematchupsv3, boxscoreadvancedv2, teamestimatedmetrics, \n",
    "  teamgamelogs, TeamGameLogs, TeamEstimatedMetrics, leaguedashteamstats,\n",
    "    hustlestatsboxscore, boxscoremiscv2, boxscorefourfactorsv2,\n",
    "    boxscorescoringv2, boxscoreusagev2, boxscoreplayertrackv2, boxscoreadvancedv3\n",
    ")"
   ]
  },
  {
   "cell_type": "code",
   "execution_count": 2,
   "id": "ddcf8416-4b7b-464e-97e0-4af075e91ccd",
   "metadata": {},
   "outputs": [],
   "source": [
    "from spam_data.api import game_stats"
   ]
  },
  {
   "cell_type": "code",
   "execution_count": 4,
   "id": "ca57c649-6cdb-48d9-854f-8d0463b8d964",
   "metadata": {},
   "outputs": [],
   "source": [
    "ids3 = game_stats.get_game_ids_from_season_id(22023)"
   ]
  },
  {
   "cell_type": "code",
   "execution_count": 7,
   "id": "92415c20-dca1-4ae6-91ac-c9699aebe06f",
   "metadata": {},
   "outputs": [
    {
     "data": {
      "text/plain": [
       "22300821"
      ]
     },
     "execution_count": 7,
     "metadata": {},
     "output_type": "execute_result"
    }
   ],
   "source": [
    "ids3[0]"
   ]
  },
  {
   "cell_type": "code",
   "execution_count": 3,
   "id": "e8cbf647-dce6-4e8a-b430-82d83cc697f7",
   "metadata": {},
   "outputs": [
    {
     "data": {
      "text/plain": [
       "\u001b[1;31mInit signature:\u001b[0m\n",
       "\u001b[0mleaguedashteamstats\u001b[0m\u001b[1;33m.\u001b[0m\u001b[0mLeagueDashTeamStats\u001b[0m\u001b[1;33m(\u001b[0m\u001b[1;33m\n",
       "\u001b[0m    \u001b[0mlast_n_games\u001b[0m\u001b[1;33m=\u001b[0m\u001b[1;34m'0'\u001b[0m\u001b[1;33m,\u001b[0m\u001b[1;33m\n",
       "\u001b[0m    \u001b[0mmeasure_type_detailed_defense\u001b[0m\u001b[1;33m=\u001b[0m\u001b[1;34m'Base'\u001b[0m\u001b[1;33m,\u001b[0m\u001b[1;33m\n",
       "\u001b[0m    \u001b[0mmonth\u001b[0m\u001b[1;33m=\u001b[0m\u001b[1;34m'0'\u001b[0m\u001b[1;33m,\u001b[0m\u001b[1;33m\n",
       "\u001b[0m    \u001b[0mopponent_team_id\u001b[0m\u001b[1;33m=\u001b[0m\u001b[1;36m0\u001b[0m\u001b[1;33m,\u001b[0m\u001b[1;33m\n",
       "\u001b[0m    \u001b[0mpace_adjust\u001b[0m\u001b[1;33m=\u001b[0m\u001b[1;34m'N'\u001b[0m\u001b[1;33m,\u001b[0m\u001b[1;33m\n",
       "\u001b[0m    \u001b[0mper_mode_detailed\u001b[0m\u001b[1;33m=\u001b[0m\u001b[1;34m'Totals'\u001b[0m\u001b[1;33m,\u001b[0m\u001b[1;33m\n",
       "\u001b[0m    \u001b[0mperiod\u001b[0m\u001b[1;33m=\u001b[0m\u001b[1;34m'0'\u001b[0m\u001b[1;33m,\u001b[0m\u001b[1;33m\n",
       "\u001b[0m    \u001b[0mplus_minus\u001b[0m\u001b[1;33m=\u001b[0m\u001b[1;34m'N'\u001b[0m\u001b[1;33m,\u001b[0m\u001b[1;33m\n",
       "\u001b[0m    \u001b[0mrank\u001b[0m\u001b[1;33m=\u001b[0m\u001b[1;34m'N'\u001b[0m\u001b[1;33m,\u001b[0m\u001b[1;33m\n",
       "\u001b[0m    \u001b[0mseason\u001b[0m\u001b[1;33m=\u001b[0m\u001b[1;34m'2023-24'\u001b[0m\u001b[1;33m,\u001b[0m\u001b[1;33m\n",
       "\u001b[0m    \u001b[0mseason_type_all_star\u001b[0m\u001b[1;33m=\u001b[0m\u001b[1;34m'Regular Season'\u001b[0m\u001b[1;33m,\u001b[0m\u001b[1;33m\n",
       "\u001b[0m    \u001b[0mconference_nullable\u001b[0m\u001b[1;33m=\u001b[0m\u001b[1;34m''\u001b[0m\u001b[1;33m,\u001b[0m\u001b[1;33m\n",
       "\u001b[0m    \u001b[0mdate_from_nullable\u001b[0m\u001b[1;33m=\u001b[0m\u001b[1;34m''\u001b[0m\u001b[1;33m,\u001b[0m\u001b[1;33m\n",
       "\u001b[0m    \u001b[0mdate_to_nullable\u001b[0m\u001b[1;33m=\u001b[0m\u001b[1;34m''\u001b[0m\u001b[1;33m,\u001b[0m\u001b[1;33m\n",
       "\u001b[0m    \u001b[0mdivision_simple_nullable\u001b[0m\u001b[1;33m=\u001b[0m\u001b[1;34m''\u001b[0m\u001b[1;33m,\u001b[0m\u001b[1;33m\n",
       "\u001b[0m    \u001b[0mgame_scope_simple_nullable\u001b[0m\u001b[1;33m=\u001b[0m\u001b[1;34m''\u001b[0m\u001b[1;33m,\u001b[0m\u001b[1;33m\n",
       "\u001b[0m    \u001b[0mgame_segment_nullable\u001b[0m\u001b[1;33m=\u001b[0m\u001b[1;34m''\u001b[0m\u001b[1;33m,\u001b[0m\u001b[1;33m\n",
       "\u001b[0m    \u001b[0mleague_id_nullable\u001b[0m\u001b[1;33m=\u001b[0m\u001b[1;34m''\u001b[0m\u001b[1;33m,\u001b[0m\u001b[1;33m\n",
       "\u001b[0m    \u001b[0mlocation_nullable\u001b[0m\u001b[1;33m=\u001b[0m\u001b[1;34m''\u001b[0m\u001b[1;33m,\u001b[0m\u001b[1;33m\n",
       "\u001b[0m    \u001b[0moutcome_nullable\u001b[0m\u001b[1;33m=\u001b[0m\u001b[1;34m''\u001b[0m\u001b[1;33m,\u001b[0m\u001b[1;33m\n",
       "\u001b[0m    \u001b[0mpo_round_nullable\u001b[0m\u001b[1;33m=\u001b[0m\u001b[1;34m''\u001b[0m\u001b[1;33m,\u001b[0m\u001b[1;33m\n",
       "\u001b[0m    \u001b[0mplayer_experience_nullable\u001b[0m\u001b[1;33m=\u001b[0m\u001b[1;34m''\u001b[0m\u001b[1;33m,\u001b[0m\u001b[1;33m\n",
       "\u001b[0m    \u001b[0mplayer_position_abbreviation_nullable\u001b[0m\u001b[1;33m=\u001b[0m\u001b[1;34m''\u001b[0m\u001b[1;33m,\u001b[0m\u001b[1;33m\n",
       "\u001b[0m    \u001b[0mseason_segment_nullable\u001b[0m\u001b[1;33m=\u001b[0m\u001b[1;34m''\u001b[0m\u001b[1;33m,\u001b[0m\u001b[1;33m\n",
       "\u001b[0m    \u001b[0mshot_clock_range_nullable\u001b[0m\u001b[1;33m=\u001b[0m\u001b[1;34m''\u001b[0m\u001b[1;33m,\u001b[0m\u001b[1;33m\n",
       "\u001b[0m    \u001b[0mstarter_bench_nullable\u001b[0m\u001b[1;33m=\u001b[0m\u001b[1;34m''\u001b[0m\u001b[1;33m,\u001b[0m\u001b[1;33m\n",
       "\u001b[0m    \u001b[0mteam_id_nullable\u001b[0m\u001b[1;33m=\u001b[0m\u001b[1;34m''\u001b[0m\u001b[1;33m,\u001b[0m\u001b[1;33m\n",
       "\u001b[0m    \u001b[0mtwo_way_nullable\u001b[0m\u001b[1;33m=\u001b[0m\u001b[1;34m''\u001b[0m\u001b[1;33m,\u001b[0m\u001b[1;33m\n",
       "\u001b[0m    \u001b[0mvs_conference_nullable\u001b[0m\u001b[1;33m=\u001b[0m\u001b[1;34m''\u001b[0m\u001b[1;33m,\u001b[0m\u001b[1;33m\n",
       "\u001b[0m    \u001b[0mvs_division_nullable\u001b[0m\u001b[1;33m=\u001b[0m\u001b[1;34m''\u001b[0m\u001b[1;33m,\u001b[0m\u001b[1;33m\n",
       "\u001b[0m    \u001b[0mproxy\u001b[0m\u001b[1;33m=\u001b[0m\u001b[1;32mNone\u001b[0m\u001b[1;33m,\u001b[0m\u001b[1;33m\n",
       "\u001b[0m    \u001b[0mheaders\u001b[0m\u001b[1;33m=\u001b[0m\u001b[1;32mNone\u001b[0m\u001b[1;33m,\u001b[0m\u001b[1;33m\n",
       "\u001b[0m    \u001b[0mtimeout\u001b[0m\u001b[1;33m=\u001b[0m\u001b[1;36m30\u001b[0m\u001b[1;33m,\u001b[0m\u001b[1;33m\n",
       "\u001b[0m    \u001b[0mget_request\u001b[0m\u001b[1;33m=\u001b[0m\u001b[1;32mTrue\u001b[0m\u001b[1;33m,\u001b[0m\u001b[1;33m\n",
       "\u001b[0m\u001b[1;33m)\u001b[0m\u001b[1;33m\u001b[0m\u001b[1;33m\u001b[0m\u001b[0m\n",
       "\u001b[1;31mDocstring:\u001b[0m      <no docstring>\n",
       "\u001b[1;31mFile:\u001b[0m           c:\\users\\james\\documents\\capstone\\sports_betting\\james\\spam_data\\.venv\\lib\\site-packages\\nba_api\\stats\\endpoints\\leaguedashteamstats.py\n",
       "\u001b[1;31mType:\u001b[0m           type\n",
       "\u001b[1;31mSubclasses:\u001b[0m     "
      ]
     },
     "metadata": {},
     "output_type": "display_data"
    }
   ],
   "source": [
    "leaguedashteamstats.LeagueDashTeamStats?"
   ]
  },
  {
   "cell_type": "code",
   "execution_count": 4,
   "id": "313cb1bc-2e1f-4ee6-b7a3-57f302b336ca",
   "metadata": {},
   "outputs": [
    {
     "data": {
      "text/plain": [
       "<nba_api.stats.endpoints.leaguedashteamstats.LeagueDashTeamStats at 0x18e506557f0>"
      ]
     },
     "execution_count": 4,
     "metadata": {},
     "output_type": "execute_result"
    }
   ],
   "source": [
    "leaguedashteamstats.LeagueDashTeamStats(month=2, season=\"2023-24\", measure_type_detailed_defense=\"Advanced\")"
   ]
  },
  {
   "cell_type": "code",
   "execution_count": 19,
   "id": "c8538bf7-78ed-4092-9408-b642fc4f4cfd",
   "metadata": {},
   "outputs": [
    {
     "ename": "IndexError",
     "evalue": "list index out of range",
     "output_type": "error",
     "traceback": [
      "\u001b[1;31m---------------------------------------------------------------------------\u001b[0m",
      "\u001b[1;31mIndexError\u001b[0m                                Traceback (most recent call last)",
      "Cell \u001b[1;32mIn[19], line 1\u001b[0m\n\u001b[1;32m----> 1\u001b[0m x \u001b[38;5;241m=\u001b[39m \u001b[43mboxscoreadvancedv3\u001b[49m\u001b[38;5;241;43m.\u001b[39;49m\u001b[43mBoxScoreAdvancedV3\u001b[49m\u001b[43m(\u001b[49m\u001b[43mgame_id\u001b[49m\u001b[38;5;241;43m=\u001b[39;49m\u001b[43m[\u001b[49m\u001b[43mids3\u001b[49m\u001b[43m[\u001b[49m\u001b[38;5;241;43m100\u001b[39;49m\u001b[43m]\u001b[49m\u001b[43m]\u001b[49m\u001b[43m)\u001b[49m\n",
      "File \u001b[1;32m~\\Documents\\Capstone\\sports_betting\\james\\spam_data\\.venv\\lib\\site-packages\\nba_api\\stats\\endpoints\\boxscoreadvancedv3.py:120\u001b[0m, in \u001b[0;36mBoxScoreAdvancedV3.__init__\u001b[1;34m(self, game_id, end_period, end_range, range_type, start_period, start_range, proxy, headers, timeout, get_request)\u001b[0m\n\u001b[0;32m    111\u001b[0m \u001b[38;5;28mself\u001b[39m\u001b[38;5;241m.\u001b[39mparameters \u001b[38;5;241m=\u001b[39m {\n\u001b[0;32m    112\u001b[0m     \u001b[38;5;124m\"\u001b[39m\u001b[38;5;124mGameID\u001b[39m\u001b[38;5;124m\"\u001b[39m: game_id,\n\u001b[0;32m    113\u001b[0m     \u001b[38;5;124m\"\u001b[39m\u001b[38;5;124mEndPeriod\u001b[39m\u001b[38;5;124m\"\u001b[39m: end_period,\n\u001b[1;32m   (...)\u001b[0m\n\u001b[0;32m    117\u001b[0m     \u001b[38;5;124m\"\u001b[39m\u001b[38;5;124mStartRange\u001b[39m\u001b[38;5;124m\"\u001b[39m: start_range,\n\u001b[0;32m    118\u001b[0m }\n\u001b[0;32m    119\u001b[0m \u001b[38;5;28;01mif\u001b[39;00m get_request:\n\u001b[1;32m--> 120\u001b[0m     \u001b[38;5;28;43mself\u001b[39;49m\u001b[38;5;241;43m.\u001b[39;49m\u001b[43mget_request\u001b[49m\u001b[43m(\u001b[49m\u001b[43m)\u001b[49m\n",
      "File \u001b[1;32m~\\Documents\\Capstone\\sports_betting\\james\\spam_data\\.venv\\lib\\site-packages\\nba_api\\stats\\endpoints\\boxscoreadvancedv3.py:130\u001b[0m, in \u001b[0;36mBoxScoreAdvancedV3.get_request\u001b[1;34m(self)\u001b[0m\n\u001b[0;32m    122\u001b[0m \u001b[38;5;28;01mdef\u001b[39;00m \u001b[38;5;21mget_request\u001b[39m(\u001b[38;5;28mself\u001b[39m):\n\u001b[0;32m    123\u001b[0m     \u001b[38;5;28mself\u001b[39m\u001b[38;5;241m.\u001b[39mnba_response \u001b[38;5;241m=\u001b[39m NBAStatsHTTP()\u001b[38;5;241m.\u001b[39msend_api_request(\n\u001b[0;32m    124\u001b[0m         endpoint\u001b[38;5;241m=\u001b[39m\u001b[38;5;28mself\u001b[39m\u001b[38;5;241m.\u001b[39mendpoint,\n\u001b[0;32m    125\u001b[0m         parameters\u001b[38;5;241m=\u001b[39m\u001b[38;5;28mself\u001b[39m\u001b[38;5;241m.\u001b[39mparameters,\n\u001b[1;32m   (...)\u001b[0m\n\u001b[0;32m    128\u001b[0m         timeout\u001b[38;5;241m=\u001b[39m\u001b[38;5;28mself\u001b[39m\u001b[38;5;241m.\u001b[39mtimeout,\n\u001b[0;32m    129\u001b[0m     )\n\u001b[1;32m--> 130\u001b[0m     \u001b[38;5;28;43mself\u001b[39;49m\u001b[38;5;241;43m.\u001b[39;49m\u001b[43mload_response\u001b[49m\u001b[43m(\u001b[49m\u001b[43m)\u001b[49m\n",
      "File \u001b[1;32m~\\Documents\\Capstone\\sports_betting\\james\\spam_data\\.venv\\lib\\site-packages\\nba_api\\stats\\endpoints\\boxscoreadvancedv3.py:133\u001b[0m, in \u001b[0;36mBoxScoreAdvancedV3.load_response\u001b[1;34m(self)\u001b[0m\n\u001b[0;32m    132\u001b[0m \u001b[38;5;28;01mdef\u001b[39;00m \u001b[38;5;21mload_response\u001b[39m(\u001b[38;5;28mself\u001b[39m):\n\u001b[1;32m--> 133\u001b[0m     data_sets \u001b[38;5;241m=\u001b[39m \u001b[38;5;28;43mself\u001b[39;49m\u001b[38;5;241;43m.\u001b[39;49m\u001b[43mnba_response\u001b[49m\u001b[38;5;241;43m.\u001b[39;49m\u001b[43mget_data_sets\u001b[49m\u001b[43m(\u001b[49m\u001b[38;5;28;43mself\u001b[39;49m\u001b[38;5;241;43m.\u001b[39;49m\u001b[43mendpoint\u001b[49m\u001b[43m)\u001b[49m\n\u001b[0;32m    134\u001b[0m     \u001b[38;5;28mself\u001b[39m\u001b[38;5;241m.\u001b[39mdata_sets \u001b[38;5;241m=\u001b[39m [\n\u001b[0;32m    135\u001b[0m         Endpoint\u001b[38;5;241m.\u001b[39mDataSet(data\u001b[38;5;241m=\u001b[39mdata_set)\n\u001b[0;32m    136\u001b[0m         \u001b[38;5;28;01mfor\u001b[39;00m data_set_name, data_set \u001b[38;5;129;01min\u001b[39;00m data_sets\u001b[38;5;241m.\u001b[39mitems()\n\u001b[0;32m    137\u001b[0m     ]\n\u001b[0;32m    138\u001b[0m     \u001b[38;5;28mself\u001b[39m\u001b[38;5;241m.\u001b[39mplayer_stats \u001b[38;5;241m=\u001b[39m Endpoint\u001b[38;5;241m.\u001b[39mDataSet(data\u001b[38;5;241m=\u001b[39mdata_sets[\u001b[38;5;124m\"\u001b[39m\u001b[38;5;124mPlayerStats\u001b[39m\u001b[38;5;124m\"\u001b[39m])\n",
      "File \u001b[1;32m~\\Documents\\Capstone\\sports_betting\\james\\spam_data\\.venv\\lib\\site-packages\\nba_api\\stats\\library\\http.py:150\u001b[0m, in \u001b[0;36mNBAStatsResponse.get_data_sets\u001b[1;34m(self, endpoint)\u001b[0m\n\u001b[0;32m    148\u001b[0m \u001b[38;5;28mself\u001b[39m\u001b[38;5;241m.\u001b[39mparser \u001b[38;5;241m=\u001b[39m NBAStatsParser(nba_dict\u001b[38;5;241m=\u001b[39m\u001b[38;5;28mself\u001b[39m\u001b[38;5;241m.\u001b[39mget_dict())\n\u001b[0;32m    149\u001b[0m endpoint_parser \u001b[38;5;241m=\u001b[39m \u001b[38;5;28mself\u001b[39m\u001b[38;5;241m.\u001b[39mparser\u001b[38;5;241m.\u001b[39mchange_parser(endpoint)\n\u001b[1;32m--> 150\u001b[0m \u001b[38;5;28;01mreturn\u001b[39;00m \u001b[43mendpoint_parser\u001b[49m\u001b[38;5;241;43m.\u001b[39;49m\u001b[43mget_data_sets\u001b[49m\u001b[43m(\u001b[49m\u001b[43m)\u001b[49m\n",
      "File \u001b[1;32m~\\Documents\\Capstone\\sports_betting\\james\\spam_data\\.venv\\lib\\site-packages\\nba_api\\stats\\library\\parserv3.py:64\u001b[0m, in \u001b[0;36mNBAStatsBoxscoreParserV3.get_data_sets\u001b[1;34m(self)\u001b[0m\n\u001b[0;32m     62\u001b[0m \u001b[38;5;28;01mdef\u001b[39;00m \u001b[38;5;21mget_data_sets\u001b[39m(\u001b[38;5;28mself\u001b[39m):\n\u001b[0;32m     63\u001b[0m     results \u001b[38;5;241m=\u001b[39m {\u001b[38;5;124m\"\u001b[39m\u001b[38;5;124mPlayerStats\u001b[39m\u001b[38;5;124m\"\u001b[39m: \u001b[38;5;28;01mNone\u001b[39;00m, \u001b[38;5;124m\"\u001b[39m\u001b[38;5;124mTeamStats\u001b[39m\u001b[38;5;124m\"\u001b[39m: \u001b[38;5;28;01mNone\u001b[39;00m}\n\u001b[1;32m---> 64\u001b[0m     team_head \u001b[38;5;241m=\u001b[39m \u001b[38;5;28;43mself\u001b[39;49m\u001b[38;5;241;43m.\u001b[39;49m\u001b[43mget_team_headers\u001b[49m\u001b[43m(\u001b[49m\u001b[43m)\u001b[49m\n\u001b[0;32m     65\u001b[0m     player_head \u001b[38;5;241m=\u001b[39m \u001b[38;5;28mself\u001b[39m\u001b[38;5;241m.\u001b[39mget_players_headers()\n\u001b[0;32m     66\u001b[0m     team_data \u001b[38;5;241m=\u001b[39m \u001b[38;5;28mself\u001b[39m\u001b[38;5;241m.\u001b[39mget_team_data()\n",
      "File \u001b[1;32m~\\Documents\\Capstone\\sports_betting\\james\\spam_data\\.venv\\lib\\site-packages\\nba_api\\stats\\library\\parserv3.py:7\u001b[0m, in \u001b[0;36mNBAStatsBoxscoreParserV3.get_team_headers\u001b[1;34m(self, headers, level)\u001b[0m\n\u001b[0;32m      5\u001b[0m \u001b[38;5;28;01mdef\u001b[39;00m \u001b[38;5;21mget_team_headers\u001b[39m(\u001b[38;5;28mself\u001b[39m, headers\u001b[38;5;241m=\u001b[39m\u001b[38;5;28mtuple\u001b[39m(), level\u001b[38;5;241m=\u001b[39m\u001b[38;5;241m0\u001b[39m):\n\u001b[0;32m      6\u001b[0m     \u001b[38;5;28;01mif\u001b[39;00m level \u001b[38;5;241m==\u001b[39m \u001b[38;5;241m0\u001b[39m:\n\u001b[1;32m----> 7\u001b[0m         tmp \u001b[38;5;241m=\u001b[39m \u001b[38;5;28mself\u001b[39m\u001b[38;5;241m.\u001b[39mnba_dict[\u001b[38;5;28;43mlist\u001b[39;49m\u001b[43m(\u001b[49m\u001b[38;5;28;43mself\u001b[39;49m\u001b[38;5;241;43m.\u001b[39;49m\u001b[43mnba_dict\u001b[49m\u001b[38;5;241;43m.\u001b[39;49m\u001b[43mkeys\u001b[49m\u001b[43m(\u001b[49m\u001b[43m)\u001b[49m\u001b[43m)\u001b[49m\u001b[43m[\u001b[49m\u001b[38;5;241;43m1\u001b[39;49m\u001b[43m]\u001b[49m]\n\u001b[0;32m      8\u001b[0m         headers \u001b[38;5;241m=\u001b[39m headers \u001b[38;5;241m+\u001b[39m \u001b[38;5;28mtuple\u001b[39m(\n\u001b[0;32m      9\u001b[0m             [header \u001b[38;5;28;01mfor\u001b[39;00m header \u001b[38;5;129;01min\u001b[39;00m tmp\u001b[38;5;241m.\u001b[39mkeys() \u001b[38;5;28;01mif\u001b[39;00m header \u001b[38;5;241m==\u001b[39m \u001b[38;5;124m\"\u001b[39m\u001b[38;5;124mgameId\u001b[39m\u001b[38;5;124m\"\u001b[39m]\n\u001b[0;32m     10\u001b[0m         )\n\u001b[0;32m     11\u001b[0m         \u001b[38;5;28;01mreturn\u001b[39;00m \u001b[38;5;28mself\u001b[39m\u001b[38;5;241m.\u001b[39mget_team_headers(headers, level\u001b[38;5;241m=\u001b[39m\u001b[38;5;241m1\u001b[39m)\n",
      "\u001b[1;31mIndexError\u001b[0m: list index out of range"
     ]
    }
   ],
   "source": [
    "x = boxscoreadvancedv3.BoxScoreAdvancedV3(game_id=[ids3[100]])"
   ]
  },
  {
   "cell_type": "code",
   "execution_count": 17,
   "id": "a08df074-ccc7-406c-a264-0416f42dc226",
   "metadata": {},
   "outputs": [
    {
     "ename": "KeyError",
     "evalue": "'resultSet'",
     "output_type": "error",
     "traceback": [
      "\u001b[1;31m---------------------------------------------------------------------------\u001b[0m",
      "\u001b[1;31mKeyError\u001b[0m                                  Traceback (most recent call last)",
      "Cell \u001b[1;32mIn[17], line 1\u001b[0m\n\u001b[1;32m----> 1\u001b[0m \u001b[43mboxscoreadvancedv2\u001b[49m\u001b[38;5;241;43m.\u001b[39;49m\u001b[43mBoxScoreAdvancedV2\u001b[49m\u001b[43m(\u001b[49m\u001b[43mgame_id\u001b[49m\u001b[38;5;241;43m=\u001b[39;49m\u001b[43mids3\u001b[49m\u001b[43m[\u001b[49m\u001b[38;5;241;43m8\u001b[39;49m\u001b[43m]\u001b[49m\u001b[43m)\u001b[49m\n",
      "File \u001b[1;32m~\\Documents\\Capstone\\sports_betting\\james\\spam_data\\.venv\\lib\\site-packages\\nba_api\\stats\\endpoints\\boxscoreadvancedv2.py:113\u001b[0m, in \u001b[0;36mBoxScoreAdvancedV2.__init__\u001b[1;34m(self, game_id, end_period, end_range, range_type, start_period, start_range, proxy, headers, timeout, get_request)\u001b[0m\n\u001b[0;32m    104\u001b[0m \u001b[38;5;28mself\u001b[39m\u001b[38;5;241m.\u001b[39mparameters \u001b[38;5;241m=\u001b[39m {\n\u001b[0;32m    105\u001b[0m     \u001b[38;5;124m\"\u001b[39m\u001b[38;5;124mGameID\u001b[39m\u001b[38;5;124m\"\u001b[39m: game_id,\n\u001b[0;32m    106\u001b[0m     \u001b[38;5;124m\"\u001b[39m\u001b[38;5;124mEndPeriod\u001b[39m\u001b[38;5;124m\"\u001b[39m: end_period,\n\u001b[1;32m   (...)\u001b[0m\n\u001b[0;32m    110\u001b[0m     \u001b[38;5;124m\"\u001b[39m\u001b[38;5;124mStartRange\u001b[39m\u001b[38;5;124m\"\u001b[39m: start_range,\n\u001b[0;32m    111\u001b[0m }\n\u001b[0;32m    112\u001b[0m \u001b[38;5;28;01mif\u001b[39;00m get_request:\n\u001b[1;32m--> 113\u001b[0m     \u001b[38;5;28;43mself\u001b[39;49m\u001b[38;5;241;43m.\u001b[39;49m\u001b[43mget_request\u001b[49m\u001b[43m(\u001b[49m\u001b[43m)\u001b[49m\n",
      "File \u001b[1;32m~\\Documents\\Capstone\\sports_betting\\james\\spam_data\\.venv\\lib\\site-packages\\nba_api\\stats\\endpoints\\boxscoreadvancedv2.py:123\u001b[0m, in \u001b[0;36mBoxScoreAdvancedV2.get_request\u001b[1;34m(self)\u001b[0m\n\u001b[0;32m    115\u001b[0m \u001b[38;5;28;01mdef\u001b[39;00m \u001b[38;5;21mget_request\u001b[39m(\u001b[38;5;28mself\u001b[39m):\n\u001b[0;32m    116\u001b[0m     \u001b[38;5;28mself\u001b[39m\u001b[38;5;241m.\u001b[39mnba_response \u001b[38;5;241m=\u001b[39m NBAStatsHTTP()\u001b[38;5;241m.\u001b[39msend_api_request(\n\u001b[0;32m    117\u001b[0m         endpoint\u001b[38;5;241m=\u001b[39m\u001b[38;5;28mself\u001b[39m\u001b[38;5;241m.\u001b[39mendpoint,\n\u001b[0;32m    118\u001b[0m         parameters\u001b[38;5;241m=\u001b[39m\u001b[38;5;28mself\u001b[39m\u001b[38;5;241m.\u001b[39mparameters,\n\u001b[1;32m   (...)\u001b[0m\n\u001b[0;32m    121\u001b[0m         timeout\u001b[38;5;241m=\u001b[39m\u001b[38;5;28mself\u001b[39m\u001b[38;5;241m.\u001b[39mtimeout,\n\u001b[0;32m    122\u001b[0m     )\n\u001b[1;32m--> 123\u001b[0m     \u001b[38;5;28;43mself\u001b[39;49m\u001b[38;5;241;43m.\u001b[39;49m\u001b[43mload_response\u001b[49m\u001b[43m(\u001b[49m\u001b[43m)\u001b[49m\n",
      "File \u001b[1;32m~\\Documents\\Capstone\\sports_betting\\james\\spam_data\\.venv\\lib\\site-packages\\nba_api\\stats\\endpoints\\boxscoreadvancedv2.py:126\u001b[0m, in \u001b[0;36mBoxScoreAdvancedV2.load_response\u001b[1;34m(self)\u001b[0m\n\u001b[0;32m    125\u001b[0m \u001b[38;5;28;01mdef\u001b[39;00m \u001b[38;5;21mload_response\u001b[39m(\u001b[38;5;28mself\u001b[39m):\n\u001b[1;32m--> 126\u001b[0m     data_sets \u001b[38;5;241m=\u001b[39m \u001b[38;5;28;43mself\u001b[39;49m\u001b[38;5;241;43m.\u001b[39;49m\u001b[43mnba_response\u001b[49m\u001b[38;5;241;43m.\u001b[39;49m\u001b[43mget_data_sets\u001b[49m\u001b[43m(\u001b[49m\u001b[43m)\u001b[49m\n\u001b[0;32m    127\u001b[0m     \u001b[38;5;28mself\u001b[39m\u001b[38;5;241m.\u001b[39mdata_sets \u001b[38;5;241m=\u001b[39m [\n\u001b[0;32m    128\u001b[0m         Endpoint\u001b[38;5;241m.\u001b[39mDataSet(data\u001b[38;5;241m=\u001b[39mdata_set)\n\u001b[0;32m    129\u001b[0m         \u001b[38;5;28;01mfor\u001b[39;00m data_set_name, data_set \u001b[38;5;129;01min\u001b[39;00m data_sets\u001b[38;5;241m.\u001b[39mitems()\n\u001b[0;32m    130\u001b[0m     ]\n\u001b[0;32m    131\u001b[0m     \u001b[38;5;28mself\u001b[39m\u001b[38;5;241m.\u001b[39mplayer_stats \u001b[38;5;241m=\u001b[39m Endpoint\u001b[38;5;241m.\u001b[39mDataSet(data\u001b[38;5;241m=\u001b[39mdata_sets[\u001b[38;5;124m\"\u001b[39m\u001b[38;5;124mPlayerStats\u001b[39m\u001b[38;5;124m\"\u001b[39m])\n",
      "File \u001b[1;32m~\\Documents\\Capstone\\sports_betting\\james\\spam_data\\.venv\\lib\\site-packages\\nba_api\\stats\\library\\http.py:129\u001b[0m, in \u001b[0;36mNBAStatsResponse.get_data_sets\u001b[1;34m(self, endpoint)\u001b[0m\n\u001b[0;32m    127\u001b[0m     results \u001b[38;5;241m=\u001b[39m raw_dict[\u001b[38;5;124m\"\u001b[39m\u001b[38;5;124mresultSets\u001b[39m\u001b[38;5;124m\"\u001b[39m]\n\u001b[0;32m    128\u001b[0m \u001b[38;5;28;01melse\u001b[39;00m:\n\u001b[1;32m--> 129\u001b[0m     results \u001b[38;5;241m=\u001b[39m \u001b[43mraw_dict\u001b[49m\u001b[43m[\u001b[49m\u001b[38;5;124;43m\"\u001b[39;49m\u001b[38;5;124;43mresultSet\u001b[39;49m\u001b[38;5;124;43m\"\u001b[39;49m\u001b[43m]\u001b[49m\n\u001b[0;32m    130\u001b[0m \u001b[38;5;28;01mif\u001b[39;00m \u001b[38;5;28misinstance\u001b[39m(results, \u001b[38;5;28mdict\u001b[39m):\n\u001b[0;32m    131\u001b[0m     \u001b[38;5;28;01mif\u001b[39;00m \u001b[38;5;124m\"\u001b[39m\u001b[38;5;124mname\u001b[39m\u001b[38;5;124m\"\u001b[39m \u001b[38;5;129;01mnot\u001b[39;00m \u001b[38;5;129;01min\u001b[39;00m results:\n",
      "\u001b[1;31mKeyError\u001b[0m: 'resultSet'"
     ]
    }
   ],
   "source": [
    "boxscoreadvancedv2.BoxScoreAdvancedV2(game_id=ids3[8])"
   ]
  },
  {
   "cell_type": "code",
   "execution_count": 20,
   "id": "c6139558-1d73-46e6-9b7b-c35bb3f39826",
   "metadata": {},
   "outputs": [],
   "source": [
    "x = leaguedashteamstats.LeagueDashTeamStats(month=1, season=\"2021-22\")"
   ]
  },
  {
   "cell_type": "code",
   "execution_count": 22,
   "id": "9236b2de-6205-4a48-b793-8e491891b301",
   "metadata": {},
   "outputs": [],
   "source": [
    "df = x.get_data_frames()[0]"
   ]
  },
  {
   "cell_type": "code",
   "execution_count": 25,
   "id": "176fe06d-5764-4a82-86a9-027316141fb1",
   "metadata": {},
   "outputs": [
    {
     "data": {
      "text/html": [
       "<div>\n",
       "<style scoped>\n",
       "    .dataframe tbody tr th:only-of-type {\n",
       "        vertical-align: middle;\n",
       "    }\n",
       "\n",
       "    .dataframe tbody tr th {\n",
       "        vertical-align: top;\n",
       "    }\n",
       "\n",
       "    .dataframe thead th {\n",
       "        text-align: right;\n",
       "    }\n",
       "</style>\n",
       "<table border=\"1\" class=\"dataframe\">\n",
       "  <thead>\n",
       "    <tr style=\"text-align: right;\">\n",
       "      <th></th>\n",
       "      <th>TEAM_ID</th>\n",
       "      <th>TEAM_NAME</th>\n",
       "      <th>GP</th>\n",
       "      <th>W</th>\n",
       "      <th>L</th>\n",
       "      <th>W_PCT</th>\n",
       "      <th>MIN</th>\n",
       "      <th>FGM</th>\n",
       "      <th>FGA</th>\n",
       "      <th>FG_PCT</th>\n",
       "      <th>...</th>\n",
       "      <th>REB_RANK</th>\n",
       "      <th>AST_RANK</th>\n",
       "      <th>TOV_RANK</th>\n",
       "      <th>STL_RANK</th>\n",
       "      <th>BLK_RANK</th>\n",
       "      <th>BLKA_RANK</th>\n",
       "      <th>PF_RANK</th>\n",
       "      <th>PFD_RANK</th>\n",
       "      <th>PTS_RANK</th>\n",
       "      <th>PLUS_MINUS_RANK</th>\n",
       "    </tr>\n",
       "  </thead>\n",
       "  <tbody>\n",
       "    <tr>\n",
       "      <th>0</th>\n",
       "      <td>1610612737</td>\n",
       "      <td>Atlanta Hawks</td>\n",
       "      <td>6</td>\n",
       "      <td>3</td>\n",
       "      <td>3</td>\n",
       "      <td>0.500</td>\n",
       "      <td>288.0</td>\n",
       "      <td>253</td>\n",
       "      <td>562</td>\n",
       "      <td>0.450</td>\n",
       "      <td>...</td>\n",
       "      <td>11</td>\n",
       "      <td>14</td>\n",
       "      <td>5</td>\n",
       "      <td>28</td>\n",
       "      <td>25</td>\n",
       "      <td>14</td>\n",
       "      <td>4</td>\n",
       "      <td>23</td>\n",
       "      <td>22</td>\n",
       "      <td>15</td>\n",
       "    </tr>\n",
       "    <tr>\n",
       "      <th>1</th>\n",
       "      <td>1610612738</td>\n",
       "      <td>Boston Celtics</td>\n",
       "      <td>6</td>\n",
       "      <td>2</td>\n",
       "      <td>4</td>\n",
       "      <td>0.333</td>\n",
       "      <td>313.0</td>\n",
       "      <td>249</td>\n",
       "      <td>578</td>\n",
       "      <td>0.431</td>\n",
       "      <td>...</td>\n",
       "      <td>16</td>\n",
       "      <td>11</td>\n",
       "      <td>14</td>\n",
       "      <td>13</td>\n",
       "      <td>1</td>\n",
       "      <td>22</td>\n",
       "      <td>26</td>\n",
       "      <td>15</td>\n",
       "      <td>12</td>\n",
       "      <td>22</td>\n",
       "    </tr>\n",
       "    <tr>\n",
       "      <th>2</th>\n",
       "      <td>1610612751</td>\n",
       "      <td>Brooklyn Nets</td>\n",
       "      <td>7</td>\n",
       "      <td>4</td>\n",
       "      <td>3</td>\n",
       "      <td>0.571</td>\n",
       "      <td>336.0</td>\n",
       "      <td>270</td>\n",
       "      <td>586</td>\n",
       "      <td>0.461</td>\n",
       "      <td>...</td>\n",
       "      <td>4</td>\n",
       "      <td>8</td>\n",
       "      <td>23</td>\n",
       "      <td>16</td>\n",
       "      <td>4</td>\n",
       "      <td>25</td>\n",
       "      <td>24</td>\n",
       "      <td>3</td>\n",
       "      <td>5</td>\n",
       "      <td>16</td>\n",
       "    </tr>\n",
       "    <tr>\n",
       "      <th>3</th>\n",
       "      <td>1610612766</td>\n",
       "      <td>Charlotte Hornets</td>\n",
       "      <td>7</td>\n",
       "      <td>5</td>\n",
       "      <td>2</td>\n",
       "      <td>0.714</td>\n",
       "      <td>341.0</td>\n",
       "      <td>307</td>\n",
       "      <td>657</td>\n",
       "      <td>0.467</td>\n",
       "      <td>...</td>\n",
       "      <td>8</td>\n",
       "      <td>1</td>\n",
       "      <td>12</td>\n",
       "      <td>4</td>\n",
       "      <td>13</td>\n",
       "      <td>25</td>\n",
       "      <td>22</td>\n",
       "      <td>2</td>\n",
       "      <td>1</td>\n",
       "      <td>10</td>\n",
       "    </tr>\n",
       "    <tr>\n",
       "      <th>4</th>\n",
       "      <td>1610612741</td>\n",
       "      <td>Chicago Bulls</td>\n",
       "      <td>6</td>\n",
       "      <td>5</td>\n",
       "      <td>1</td>\n",
       "      <td>0.833</td>\n",
       "      <td>288.0</td>\n",
       "      <td>233</td>\n",
       "      <td>515</td>\n",
       "      <td>0.452</td>\n",
       "      <td>...</td>\n",
       "      <td>27</td>\n",
       "      <td>17</td>\n",
       "      <td>3</td>\n",
       "      <td>11</td>\n",
       "      <td>9</td>\n",
       "      <td>18</td>\n",
       "      <td>3</td>\n",
       "      <td>22</td>\n",
       "      <td>21</td>\n",
       "      <td>4</td>\n",
       "    </tr>\n",
       "  </tbody>\n",
       "</table>\n",
       "<p>5 rows × 54 columns</p>\n",
       "</div>"
      ],
      "text/plain": [
       "      TEAM_ID          TEAM_NAME  GP  W  L  W_PCT    MIN  FGM  FGA  FG_PCT  \\\n",
       "0  1610612737      Atlanta Hawks   6  3  3  0.500  288.0  253  562   0.450   \n",
       "1  1610612738     Boston Celtics   6  2  4  0.333  313.0  249  578   0.431   \n",
       "2  1610612751      Brooklyn Nets   7  4  3  0.571  336.0  270  586   0.461   \n",
       "3  1610612766  Charlotte Hornets   7  5  2  0.714  341.0  307  657   0.467   \n",
       "4  1610612741      Chicago Bulls   6  5  1  0.833  288.0  233  515   0.452   \n",
       "\n",
       "   ...  REB_RANK  AST_RANK  TOV_RANK  STL_RANK  BLK_RANK  BLKA_RANK  PF_RANK  \\\n",
       "0  ...        11        14         5        28        25         14        4   \n",
       "1  ...        16        11        14        13         1         22       26   \n",
       "2  ...         4         8        23        16         4         25       24   \n",
       "3  ...         8         1        12         4        13         25       22   \n",
       "4  ...        27        17         3        11         9         18        3   \n",
       "\n",
       "   PFD_RANK  PTS_RANK  PLUS_MINUS_RANK  \n",
       "0        23        22               15  \n",
       "1        15        12               22  \n",
       "2         3         5               16  \n",
       "3         2         1               10  \n",
       "4        22        21                4  \n",
       "\n",
       "[5 rows x 54 columns]"
      ]
     },
     "execution_count": 25,
     "metadata": {},
     "output_type": "execute_result"
    }
   ],
   "source": [
    "df.head()"
   ]
  },
  {
   "cell_type": "code",
   "execution_count": 24,
   "id": "3bd0045e-4b2a-4b3d-a338-75d60a897d4a",
   "metadata": {},
   "outputs": [
    {
     "data": {
      "text/plain": [
       "Index(['TEAM_ID', 'TEAM_NAME', 'GP', 'W', 'L', 'W_PCT', 'MIN', 'FGM', 'FGA',\n",
       "       'FG_PCT', 'FG3M', 'FG3A', 'FG3_PCT', 'FTM', 'FTA', 'FT_PCT', 'OREB',\n",
       "       'DREB', 'REB', 'AST', 'TOV', 'STL', 'BLK', 'BLKA', 'PF', 'PFD', 'PTS',\n",
       "       'PLUS_MINUS', 'GP_RANK', 'W_RANK', 'L_RANK', 'W_PCT_RANK', 'MIN_RANK',\n",
       "       'FGM_RANK', 'FGA_RANK', 'FG_PCT_RANK', 'FG3M_RANK', 'FG3A_RANK',\n",
       "       'FG3_PCT_RANK', 'FTM_RANK', 'FTA_RANK', 'FT_PCT_RANK', 'OREB_RANK',\n",
       "       'DREB_RANK', 'REB_RANK', 'AST_RANK', 'TOV_RANK', 'STL_RANK', 'BLK_RANK',\n",
       "       'BLKA_RANK', 'PF_RANK', 'PFD_RANK', 'PTS_RANK', 'PLUS_MINUS_RANK'],\n",
       "      dtype='object')"
      ]
     },
     "execution_count": 24,
     "metadata": {},
     "output_type": "execute_result"
    }
   ],
   "source": [
    "df.columns"
   ]
  }
 ],
 "metadata": {
  "kernelspec": {
   "display_name": "Python 3 (ipykernel)",
   "language": "python",
   "name": "python3"
  },
  "language_info": {
   "codemirror_mode": {
    "name": "ipython",
    "version": 3
   },
   "file_extension": ".py",
   "mimetype": "text/x-python",
   "name": "python",
   "nbconvert_exporter": "python",
   "pygments_lexer": "ipython3",
   "version": "3.9.13"
  }
 },
 "nbformat": 4,
 "nbformat_minor": 5
}
