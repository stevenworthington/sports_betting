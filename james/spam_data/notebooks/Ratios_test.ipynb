{
 "cells": [
  {
   "cell_type": "code",
   "execution_count": 1,
   "id": "60b9c546-c061-4b45-a7d8-b234604a5c80",
   "metadata": {},
   "outputs": [],
   "source": [
    "from spam_data.feature_engineering.base_builder import reshape_box_scores_to_matchups"
   ]
  },
  {
   "cell_type": "code",
   "execution_count": 2,
   "id": "0422e154-782a-4bf3-bc46-401be675fd79",
   "metadata": {},
   "outputs": [
    {
     "name": "stdout",
     "output_type": "stream",
     "text": [
      "Season 2021-22: 1230 games\n",
      "Season 2022-23: 1230 games\n",
      "Season 2023-24: 860 games\n",
      "Season 2021-22: 1222 games\n",
      "Season 2022-23: 1221 games\n",
      "Season 2023-24: 851 games\n"
     ]
    },
    {
     "name": "stderr",
     "output_type": "stream",
     "text": [
      "C:\\Users\\james\\Documents\\Capstone\\sports_betting\\james\\spam_data\\spam_data\\feature_engineering\\utility_functions.py:56: SettingWithCopyWarning: \n",
      "A value is trying to be set on a copy of a slice from a DataFrame.\n",
      "Try using .loc[row_indexer,col_indexer] = value instead\n",
      "\n",
      "See the caveats in the documentation: https://pandas.pydata.org/pandas-docs/stable/user_guide/indexing.html#returning-a-view-versus-a-copy\n",
      "  df[\"GAME_DATE\"] = pd.to_datetime(df[\"GAME_DATE\"])\n"
     ]
    }
   ],
   "source": [
    "df = reshape_box_scores_to_matchups()"
   ]
  },
  {
   "cell_type": "code",
   "execution_count": 4,
   "id": "b0a32276-8f55-4162-91bb-1472508216f3",
   "metadata": {},
   "outputs": [
    {
     "data": {
      "text/plain": [
       "Index(['SEASON_ID', 'HOME_TEAM_ID', 'HOME_TEAM_ABBREVIATION', 'HOME_TEAM_NAME',\n",
       "       'GAME_ID', 'GAME_DATE', 'HOME_WL', 'HOME_MIN', 'HOME_PTS', 'HOME_FGM',\n",
       "       'HOME_FGA', 'HOME_FG_PCT', 'HOME_FG3M', 'HOME_FG3A', 'HOME_FG3_PCT',\n",
       "       'HOME_FTM', 'HOME_FTA', 'HOME_FT_PCT', 'HOME_OREB', 'HOME_DREB',\n",
       "       'HOME_REB', 'HOME_AST', 'HOME_STL', 'HOME_BLK', 'HOME_TOV', 'HOME_PF',\n",
       "       'PLUS_MINUS', 'AWAY_TEAM_ID', 'AWAY_TEAM_ABBREVIATION',\n",
       "       'AWAY_TEAM_NAME', 'AWAY_WL', 'AWAY_MIN', 'AWAY_PTS', 'AWAY_FGM',\n",
       "       'AWAY_FGA', 'AWAY_FG_PCT', 'AWAY_FG3M', 'AWAY_FG3A', 'AWAY_FG3_PCT',\n",
       "       'AWAY_FTM', 'AWAY_FTA', 'AWAY_FT_PCT', 'AWAY_OREB', 'AWAY_DREB',\n",
       "       'AWAY_REB', 'AWAY_AST', 'AWAY_STL', 'AWAY_BLK', 'AWAY_TOV', 'AWAY_PF',\n",
       "       'GAME_RESULT', 'TOTAL_PTS'],\n",
       "      dtype='object')"
      ]
     },
     "execution_count": 4,
     "metadata": {},
     "output_type": "execute_result"
    }
   ],
   "source": [
    "df.columns"
   ]
  },
  {
   "cell_type": "code",
   "execution_count": 7,
   "id": "8fc85173-441a-4fb2-a037-32c920a2fe10",
   "metadata": {},
   "outputs": [
    {
     "data": {
      "text/plain": [
       "0       0.423913\n",
       "1       0.476744\n",
       "2       0.428571\n",
       "3       0.415730\n",
       "4       0.367816\n",
       "          ...   \n",
       "3289    0.395062\n",
       "3290    0.316456\n",
       "3291    0.322917\n",
       "3292    0.318182\n",
       "3293    0.430233\n",
       "Length: 3294, dtype: float64"
      ]
     },
     "execution_count": 7,
     "metadata": {},
     "output_type": "execute_result"
    }
   ],
   "source": [
    "df[\"HOME_FG3A\"] / df[\"HOME_FGA\"]"
   ]
  },
  {
   "cell_type": "code",
   "execution_count": 8,
   "id": "dc681d51-f389-4581-91bb-5fc86ef4c4b8",
   "metadata": {},
   "outputs": [
    {
     "data": {
      "text/plain": [
       "0       4.333333\n",
       "1       3.000000\n",
       "2       3.375000\n",
       "3       2.454545\n",
       "4       1.375000\n",
       "          ...   \n",
       "3289    1.166667\n",
       "3290    0.850000\n",
       "3291    3.666667\n",
       "3292    1.111111\n",
       "3293    1.789474\n",
       "Length: 3294, dtype: float64"
      ]
     },
     "execution_count": 8,
     "metadata": {},
     "output_type": "execute_result"
    }
   ],
   "source": [
    "df[\"HOME_AST\"] / df[\"HOME_TOV\"]"
   ]
  },
  {
   "cell_type": "code",
   "execution_count": 9,
   "id": "84e11c29-e7f2-40bd-ad81-0e0ca47e429d",
   "metadata": {},
   "outputs": [
    {
     "data": {
      "text/plain": [
       "0       0.218750\n",
       "1       0.227273\n",
       "2       0.333333\n",
       "3       0.375000\n",
       "4       0.212121\n",
       "          ...   \n",
       "3289    0.406250\n",
       "3290    0.305556\n",
       "3291    0.258065\n",
       "3292    0.366667\n",
       "3293    0.307692\n",
       "Length: 3294, dtype: float64"
      ]
     },
     "execution_count": 9,
     "metadata": {},
     "output_type": "execute_result"
    }
   ],
   "source": [
    "df[\"HOME_OREB\"] / df[\"HOME_DREB\"]"
   ]
  }
 ],
 "metadata": {
  "kernelspec": {
   "display_name": "Python 3 (ipykernel)",
   "language": "python",
   "name": "python3"
  },
  "language_info": {
   "codemirror_mode": {
    "name": "ipython",
    "version": 3
   },
   "file_extension": ".py",
   "mimetype": "text/x-python",
   "name": "python",
   "nbconvert_exporter": "python",
   "pygments_lexer": "ipython3",
   "version": "3.9.13"
  }
 },
 "nbformat": 4,
 "nbformat_minor": 5
}
