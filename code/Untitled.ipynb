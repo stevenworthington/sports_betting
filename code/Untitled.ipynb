{
 "cells": [
  {
   "cell_type": "code",
   "execution_count": null,
   "id": "870de644-fad7-44de-be33-41a05208b192",
   "metadata": {},
   "outputs": [],
   "source": [
    "# feature columns\n",
    "X = baseline_pm_scaled.drop('PLUS_MINUS', axis=1)\n",
    "\n",
    "# target column\n",
    "y = baseline_pm_scaled['PLUS_MINUS']"
   ]
  },
  {
   "cell_type": "code",
   "execution_count": null,
   "id": "345f24f9-ca2a-4f6a-9720-4f7d3410e061",
   "metadata": {},
   "outputs": [],
   "source": [
    "# initialize LOO expanding window\n",
    "n_splits = len(X) - 1 \n",
    "tscv = TimeSeriesSplit(n_splits=n_splits)\n",
    "\n",
    "# initialize model\n",
    "glm = LinearRegression()\n",
    "\n",
    "# storage for predictions and RMSE\n",
    "predictions = []\n",
    "rmse_scores = []\n",
    "\n",
    "start_time = time.time()\n",
    "\n",
    "# expanding window\n",
    "for train_index, test_index in tscv.split(X):\n",
    "    X_train, X_test = X.iloc[train_index], X.iloc[test_index]\n",
    "    y_train, y_test = y.iloc[train_index], y.iloc[test_index]\n",
    "\n",
    "    # fit model on training data and predict on test data\n",
    "    glm.fit(X_train, y_train)\n",
    "    prediction = glm.predict(X_test)\n",
    "    predictions.append(prediction[0])\n",
    "    \n",
    "    # evaluate model\n",
    "    rmse = np.sqrt(mean_squared_error(y_test, prediction))\n",
    "    rmse_scores.append(rmse)\n",
    "\n",
    "end_time = time.time()\n",
    "total_time = end_time - start_time\n",
    "print(f\"Total time taken: {total_time:.2f} seconds\")"
   ]
  }
 ],
 "metadata": {
  "kernelspec": {
   "display_name": "Python 3 (ipykernel)",
   "language": "python",
   "name": "python3"
  },
  "language_info": {
   "codemirror_mode": {
    "name": "ipython",
    "version": 3
   },
   "file_extension": ".py",
   "mimetype": "text/x-python",
   "name": "python",
   "nbconvert_exporter": "python",
   "pygments_lexer": "ipython3",
   "version": "3.8.18"
  }
 },
 "nbformat": 4,
 "nbformat_minor": 5
}
