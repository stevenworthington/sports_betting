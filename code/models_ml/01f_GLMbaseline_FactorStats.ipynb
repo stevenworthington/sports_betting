{
 "cells": [
  {
   "cell_type": "markdown",
   "id": "7e536ca5-aa7d-4a63-8ffb-4621be160b40",
   "metadata": {},
   "source": [
    "<div class=\"alert alert-danger\">\n",
    "    <h4 style=\"font-weight: bold; font-size: 28px;\">Baseline Models with Four Factor Stats Features</h4>\n",
    "    <p style=\"font-size: 20px;\">NBA API Seasons 2021-22 to 2023-24</p>\n",
    "</div>\n",
    "\n",
    "<a name=\"Baseline-Models\"></a>"
   ]
  },
  {
   "cell_type": "markdown",
   "id": "1cdebb86-ba03-49f6-b2ce-417b29c33190",
   "metadata": {},
   "source": [
    "# Table of Contents"
   ]
  },
  {
   "cell_type": "markdown",
   "id": "be92669c-65ed-4e6d-841f-c4ff45708213",
   "metadata": {},
   "source": [
    "[Setup](#Setup)\n",
    "\n",
    "[Data](#Data)\n",
    "\n",
    "[Inspect Training Windows](#Inspect-Training-Windows)\n",
    "\n",
    "- [Expanding](#Expanding)\n",
    "\n",
    "- [Rolling](#Rolling)\n",
    "\n",
    "**[1. Target: Total Points (over / under)](#1.-Target:-Total-Points-(over-/-under))**\n",
    "\n",
    "- [1.1. Expanding Window](#1.1.-Expanding-Window)\n",
    "\n",
    "- [1.2. Rolling Window](#1.2.-Rolling-Window)\n",
    "\n",
    "**[2. Target: Difference in Points (plus / minus)](#2.-Target:-Difference-in-Points-(plus-/-minus))**\n",
    "\n",
    "- [2.1. Expanding Window](#2.1.-Expanding-Window)\n",
    "\n",
    "- [2.2. Rolling Window](#2.2.-Rolling-Window)\n",
    "\n",
    "**[3. Target: Game Winner (moneyline)](#3.-Target:-Game-Winner-(moneyline))**\n",
    "\n",
    "- [3.1. Expanding Window](#3.1.-Expanding-Window)\n",
    "\n",
    "- [3.2. Rolling Window](#3.2.-Rolling-Window)"
   ]
  },
  {
   "cell_type": "markdown",
   "id": "927301d4-732d-4a02-9585-5366250ab128",
   "metadata": {
    "jp-MarkdownHeadingCollapsed": true
   },
   "source": [
    "# Setup\n",
    "\n",
    "[Return to top](#Baseline-Models)"
   ]
  },
  {
   "cell_type": "code",
   "execution_count": 1,
   "id": "71d71680-3e45-4d9f-85e1-fa18e5569909",
   "metadata": {},
   "outputs": [],
   "source": [
    "import sys\n",
    "from pathlib import Path\n",
    "# get current working directory\n",
    "cwd = %pwd\n",
    "# add shared_code directory to Python sys.path\n",
    "sys.path.append(str(Path(cwd).parent / \"shared_code\"))\n",
    "# import all libraries in shared_code directory 'imports.py' file\n",
    "from imports import *\n",
    "%matplotlib inline"
   ]
  },
  {
   "cell_type": "markdown",
   "id": "b559364e-fadc-49b8-8f71-dc089fc4aa95",
   "metadata": {
    "jp-MarkdownHeadingCollapsed": true
   },
   "source": [
    "# Data\n",
    "\n",
    "[Return to top](#Baseline-Models)"
   ]
  },
  {
   "cell_type": "markdown",
   "id": "b1e77fd6-2844-4b7a-99bc-62291f112d0a",
   "metadata": {},
   "source": [
    "Data splits:\n",
    "\n",
    "- Define NBA Season 2021-22 as the TRAINING set: regular season is 2021-10-19 to 2022-04-10. \n",
    "- Define NBA Season 2022-23 as the VALIDATION set: regular season is 2022-10-18 to 2023-04-09.\n",
    "- Define NBA Season 2023-24 as the TESTING set: regular season is 2023-10-24 to 2024-04-14."
   ]
  },
  {
   "cell_type": "code",
   "execution_count": 2,
   "id": "d1ade8e5-7e63-4bff-ad0d-c54bb73c1cf8",
   "metadata": {},
   "outputs": [
    {
     "name": "stdout",
     "output_type": "stream",
     "text": [
      "Season 2021-22: 1186 games\n",
      "Season 2022-23: 1181 games\n",
      "Season 2023-24: 691 games\n",
      "Total number of games across sampled seasons: 3058 games\n"
     ]
    }
   ],
   "source": [
    "# load, filter (by time) and scale data\n",
    "pts_scaled_df, pm_scaled_df, res_scaled_df, test_set_obs = utl.load_and_scale_data(\n",
    "    file_path='../../data/processed/nba_team_matchups_rolling_four_factor_stats_2021_2024_r10.csv',\n",
    "    seasons_to_keep=['2021-22', '2022-23', '2023-24'],\n",
    "    training_season='2021-22',\n",
    "    feature_prefix='ROLL_',\n",
    "    scaler_type='minmax', \n",
    "    scale_target=False\n",
    ")"
   ]
  },
  {
   "cell_type": "code",
   "execution_count": 3,
   "id": "894e0cbb-7455-4564-9983-442cdd49c61d",
   "metadata": {},
   "outputs": [],
   "source": [
    "# define number of games in seasons\n",
    "season_22_ngames = 1186\n",
    "season_23_ngames = 1181"
   ]
  },
  {
   "cell_type": "code",
   "execution_count": 4,
   "id": "d608225f-c7fb-493e-9168-0fbe20ba69f1",
   "metadata": {},
   "outputs": [
    {
     "data": {
      "text/html": [
       "<div>\n",
       "<style scoped>\n",
       "    .dataframe tbody tr th:only-of-type {\n",
       "        vertical-align: middle;\n",
       "    }\n",
       "\n",
       "    .dataframe tbody tr th {\n",
       "        vertical-align: top;\n",
       "    }\n",
       "\n",
       "    .dataframe thead th {\n",
       "        text-align: right;\n",
       "    }\n",
       "</style>\n",
       "<table border=\"1\" class=\"dataframe\">\n",
       "  <thead>\n",
       "    <tr style=\"text-align: right;\">\n",
       "      <th></th>\n",
       "      <th>ROLL_HOME_EFG_PCT</th>\n",
       "      <th>ROLL_HOME_FTA_RATE</th>\n",
       "      <th>ROLL_HOME_TM_TOV_PCT</th>\n",
       "      <th>ROLL_HOME_OREB_PCT</th>\n",
       "      <th>ROLL_HOME_OPP_EFG_PCT</th>\n",
       "      <th>ROLL_HOME_OPP_FTA_RATE</th>\n",
       "      <th>ROLL_HOME_OPP_TOV_PCT</th>\n",
       "      <th>ROLL_HOME_OPP_OREB_PCT</th>\n",
       "      <th>ROLL_HOME_PTS</th>\n",
       "      <th>ROLL_AWAY_EFG_PCT</th>\n",
       "      <th>ROLL_AWAY_FTA_RATE</th>\n",
       "      <th>ROLL_AWAY_TM_TOV_PCT</th>\n",
       "      <th>ROLL_AWAY_OREB_PCT</th>\n",
       "      <th>ROLL_AWAY_OPP_EFG_PCT</th>\n",
       "      <th>ROLL_AWAY_OPP_FTA_RATE</th>\n",
       "      <th>ROLL_AWAY_OPP_TOV_PCT</th>\n",
       "      <th>ROLL_AWAY_OPP_OREB_PCT</th>\n",
       "      <th>ROLL_AWAY_PTS</th>\n",
       "      <th>TOTAL_PTS</th>\n",
       "    </tr>\n",
       "    <tr>\n",
       "      <th>GAME_DATE</th>\n",
       "      <th></th>\n",
       "      <th></th>\n",
       "      <th></th>\n",
       "      <th></th>\n",
       "      <th></th>\n",
       "      <th></th>\n",
       "      <th></th>\n",
       "      <th></th>\n",
       "      <th></th>\n",
       "      <th></th>\n",
       "      <th></th>\n",
       "      <th></th>\n",
       "      <th></th>\n",
       "      <th></th>\n",
       "      <th></th>\n",
       "      <th></th>\n",
       "      <th></th>\n",
       "      <th></th>\n",
       "      <th></th>\n",
       "    </tr>\n",
       "  </thead>\n",
       "  <tbody>\n",
       "    <tr>\n",
       "      <th>2024-02-03</th>\n",
       "      <td>0.543</td>\n",
       "      <td>0.237</td>\n",
       "      <td>0.151</td>\n",
       "      <td>0.234</td>\n",
       "      <td>0.564</td>\n",
       "      <td>0.231</td>\n",
       "      <td>0.139</td>\n",
       "      <td>0.282</td>\n",
       "      <td>114.0</td>\n",
       "      <td>0.563</td>\n",
       "      <td>0.231</td>\n",
       "      <td>0.133</td>\n",
       "      <td>0.199</td>\n",
       "      <td>0.518</td>\n",
       "      <td>0.288</td>\n",
       "      <td>0.130</td>\n",
       "      <td>0.249</td>\n",
       "      <td>114.1</td>\n",
       "      <td>218</td>\n",
       "    </tr>\n",
       "    <tr>\n",
       "      <th>2024-02-04</th>\n",
       "      <td>0.529</td>\n",
       "      <td>0.235</td>\n",
       "      <td>0.126</td>\n",
       "      <td>0.184</td>\n",
       "      <td>0.560</td>\n",
       "      <td>0.278</td>\n",
       "      <td>0.126</td>\n",
       "      <td>0.320</td>\n",
       "      <td>113.3</td>\n",
       "      <td>0.620</td>\n",
       "      <td>0.270</td>\n",
       "      <td>0.149</td>\n",
       "      <td>0.204</td>\n",
       "      <td>0.565</td>\n",
       "      <td>0.233</td>\n",
       "      <td>0.126</td>\n",
       "      <td>0.294</td>\n",
       "      <td>122.3</td>\n",
       "      <td>252</td>\n",
       "    </tr>\n",
       "    <tr>\n",
       "      <th>2024-02-04</th>\n",
       "      <td>0.553</td>\n",
       "      <td>0.246</td>\n",
       "      <td>0.128</td>\n",
       "      <td>0.203</td>\n",
       "      <td>0.565</td>\n",
       "      <td>0.265</td>\n",
       "      <td>0.101</td>\n",
       "      <td>0.277</td>\n",
       "      <td>115.5</td>\n",
       "      <td>0.541</td>\n",
       "      <td>0.299</td>\n",
       "      <td>0.140</td>\n",
       "      <td>0.228</td>\n",
       "      <td>0.546</td>\n",
       "      <td>0.282</td>\n",
       "      <td>0.155</td>\n",
       "      <td>0.288</td>\n",
       "      <td>110.6</td>\n",
       "      <td>210</td>\n",
       "    </tr>\n",
       "    <tr>\n",
       "      <th>2024-02-04</th>\n",
       "      <td>0.507</td>\n",
       "      <td>0.207</td>\n",
       "      <td>0.138</td>\n",
       "      <td>0.182</td>\n",
       "      <td>0.587</td>\n",
       "      <td>0.233</td>\n",
       "      <td>0.122</td>\n",
       "      <td>0.279</td>\n",
       "      <td>102.8</td>\n",
       "      <td>0.550</td>\n",
       "      <td>0.232</td>\n",
       "      <td>0.129</td>\n",
       "      <td>0.222</td>\n",
       "      <td>0.562</td>\n",
       "      <td>0.303</td>\n",
       "      <td>0.130</td>\n",
       "      <td>0.278</td>\n",
       "      <td>116.2</td>\n",
       "      <td>214</td>\n",
       "    </tr>\n",
       "    <tr>\n",
       "      <th>2024-02-04</th>\n",
       "      <td>0.568</td>\n",
       "      <td>0.242</td>\n",
       "      <td>0.113</td>\n",
       "      <td>0.201</td>\n",
       "      <td>0.508</td>\n",
       "      <td>0.217</td>\n",
       "      <td>0.108</td>\n",
       "      <td>0.291</td>\n",
       "      <td>121.5</td>\n",
       "      <td>0.544</td>\n",
       "      <td>0.248</td>\n",
       "      <td>0.154</td>\n",
       "      <td>0.203</td>\n",
       "      <td>0.551</td>\n",
       "      <td>0.256</td>\n",
       "      <td>0.139</td>\n",
       "      <td>0.289</td>\n",
       "      <td>110.1</td>\n",
       "      <td>222</td>\n",
       "    </tr>\n",
       "  </tbody>\n",
       "</table>\n",
       "</div>"
      ],
      "text/plain": [
       "            ROLL_HOME_EFG_PCT  ROLL_HOME_FTA_RATE  ROLL_HOME_TM_TOV_PCT  \\\n",
       "GAME_DATE                                                                 \n",
       "2024-02-03              0.543               0.237                 0.151   \n",
       "2024-02-04              0.529               0.235                 0.126   \n",
       "2024-02-04              0.553               0.246                 0.128   \n",
       "2024-02-04              0.507               0.207                 0.138   \n",
       "2024-02-04              0.568               0.242                 0.113   \n",
       "\n",
       "            ROLL_HOME_OREB_PCT  ROLL_HOME_OPP_EFG_PCT  ROLL_HOME_OPP_FTA_RATE  \\\n",
       "GAME_DATE                                                                       \n",
       "2024-02-03               0.234                  0.564                   0.231   \n",
       "2024-02-04               0.184                  0.560                   0.278   \n",
       "2024-02-04               0.203                  0.565                   0.265   \n",
       "2024-02-04               0.182                  0.587                   0.233   \n",
       "2024-02-04               0.201                  0.508                   0.217   \n",
       "\n",
       "            ROLL_HOME_OPP_TOV_PCT  ROLL_HOME_OPP_OREB_PCT  ROLL_HOME_PTS  \\\n",
       "GAME_DATE                                                                  \n",
       "2024-02-03                  0.139                   0.282          114.0   \n",
       "2024-02-04                  0.126                   0.320          113.3   \n",
       "2024-02-04                  0.101                   0.277          115.5   \n",
       "2024-02-04                  0.122                   0.279          102.8   \n",
       "2024-02-04                  0.108                   0.291          121.5   \n",
       "\n",
       "            ROLL_AWAY_EFG_PCT  ROLL_AWAY_FTA_RATE  ROLL_AWAY_TM_TOV_PCT  \\\n",
       "GAME_DATE                                                                 \n",
       "2024-02-03              0.563               0.231                 0.133   \n",
       "2024-02-04              0.620               0.270                 0.149   \n",
       "2024-02-04              0.541               0.299                 0.140   \n",
       "2024-02-04              0.550               0.232                 0.129   \n",
       "2024-02-04              0.544               0.248                 0.154   \n",
       "\n",
       "            ROLL_AWAY_OREB_PCT  ROLL_AWAY_OPP_EFG_PCT  ROLL_AWAY_OPP_FTA_RATE  \\\n",
       "GAME_DATE                                                                       \n",
       "2024-02-03               0.199                  0.518                   0.288   \n",
       "2024-02-04               0.204                  0.565                   0.233   \n",
       "2024-02-04               0.228                  0.546                   0.282   \n",
       "2024-02-04               0.222                  0.562                   0.303   \n",
       "2024-02-04               0.203                  0.551                   0.256   \n",
       "\n",
       "            ROLL_AWAY_OPP_TOV_PCT  ROLL_AWAY_OPP_OREB_PCT  ROLL_AWAY_PTS  \\\n",
       "GAME_DATE                                                                  \n",
       "2024-02-03                  0.130                   0.249          114.1   \n",
       "2024-02-04                  0.126                   0.294          122.3   \n",
       "2024-02-04                  0.155                   0.288          110.6   \n",
       "2024-02-04                  0.130                   0.278          116.2   \n",
       "2024-02-04                  0.139                   0.289          110.1   \n",
       "\n",
       "            TOTAL_PTS  \n",
       "GAME_DATE              \n",
       "2024-02-03        218  \n",
       "2024-02-04        252  \n",
       "2024-02-04        210  \n",
       "2024-02-04        214  \n",
       "2024-02-04        222  "
      ]
     },
     "execution_count": 4,
     "metadata": {},
     "output_type": "execute_result"
    }
   ],
   "source": [
    "pts_scaled_df.tail()"
   ]
  },
  {
   "cell_type": "code",
   "execution_count": 5,
   "id": "ae11cabd-3671-4c64-a62f-11ea2d5646e5",
   "metadata": {},
   "outputs": [
    {
     "data": {
      "text/html": [
       "<div>\n",
       "<style scoped>\n",
       "    .dataframe tbody tr th:only-of-type {\n",
       "        vertical-align: middle;\n",
       "    }\n",
       "\n",
       "    .dataframe tbody tr th {\n",
       "        vertical-align: top;\n",
       "    }\n",
       "\n",
       "    .dataframe thead th {\n",
       "        text-align: right;\n",
       "    }\n",
       "</style>\n",
       "<table border=\"1\" class=\"dataframe\">\n",
       "  <thead>\n",
       "    <tr style=\"text-align: right;\">\n",
       "      <th></th>\n",
       "      <th>ROLL_HOME_EFG_PCT</th>\n",
       "      <th>ROLL_HOME_FTA_RATE</th>\n",
       "      <th>ROLL_HOME_TM_TOV_PCT</th>\n",
       "      <th>ROLL_HOME_OREB_PCT</th>\n",
       "      <th>ROLL_HOME_OPP_EFG_PCT</th>\n",
       "      <th>ROLL_HOME_OPP_FTA_RATE</th>\n",
       "      <th>ROLL_HOME_OPP_TOV_PCT</th>\n",
       "      <th>ROLL_HOME_OPP_OREB_PCT</th>\n",
       "      <th>ROLL_HOME_PTS</th>\n",
       "      <th>ROLL_AWAY_EFG_PCT</th>\n",
       "      <th>ROLL_AWAY_FTA_RATE</th>\n",
       "      <th>ROLL_AWAY_TM_TOV_PCT</th>\n",
       "      <th>ROLL_AWAY_OREB_PCT</th>\n",
       "      <th>ROLL_AWAY_OPP_EFG_PCT</th>\n",
       "      <th>ROLL_AWAY_OPP_FTA_RATE</th>\n",
       "      <th>ROLL_AWAY_OPP_TOV_PCT</th>\n",
       "      <th>ROLL_AWAY_OPP_OREB_PCT</th>\n",
       "      <th>ROLL_AWAY_PTS</th>\n",
       "      <th>PLUS_MINUS</th>\n",
       "    </tr>\n",
       "    <tr>\n",
       "      <th>GAME_DATE</th>\n",
       "      <th></th>\n",
       "      <th></th>\n",
       "      <th></th>\n",
       "      <th></th>\n",
       "      <th></th>\n",
       "      <th></th>\n",
       "      <th></th>\n",
       "      <th></th>\n",
       "      <th></th>\n",
       "      <th></th>\n",
       "      <th></th>\n",
       "      <th></th>\n",
       "      <th></th>\n",
       "      <th></th>\n",
       "      <th></th>\n",
       "      <th></th>\n",
       "      <th></th>\n",
       "      <th></th>\n",
       "      <th></th>\n",
       "    </tr>\n",
       "  </thead>\n",
       "  <tbody>\n",
       "    <tr>\n",
       "      <th>2021-10-23</th>\n",
       "      <td>0.548</td>\n",
       "      <td>0.237</td>\n",
       "      <td>0.122</td>\n",
       "      <td>0.184</td>\n",
       "      <td>0.549</td>\n",
       "      <td>0.315</td>\n",
       "      <td>0.093</td>\n",
       "      <td>0.204</td>\n",
       "      <td>121.0</td>\n",
       "      <td>0.547</td>\n",
       "      <td>0.326</td>\n",
       "      <td>0.116</td>\n",
       "      <td>0.152</td>\n",
       "      <td>0.483</td>\n",
       "      <td>0.337</td>\n",
       "      <td>0.156</td>\n",
       "      <td>0.268</td>\n",
       "      <td>115.0</td>\n",
       "      <td>29.0</td>\n",
       "    </tr>\n",
       "    <tr>\n",
       "      <th>2021-10-23</th>\n",
       "      <td>0.575</td>\n",
       "      <td>0.356</td>\n",
       "      <td>0.170</td>\n",
       "      <td>0.271</td>\n",
       "      <td>0.517</td>\n",
       "      <td>0.250</td>\n",
       "      <td>0.219</td>\n",
       "      <td>0.314</td>\n",
       "      <td>124.0</td>\n",
       "      <td>0.569</td>\n",
       "      <td>0.184</td>\n",
       "      <td>0.167</td>\n",
       "      <td>0.191</td>\n",
       "      <td>0.607</td>\n",
       "      <td>0.281</td>\n",
       "      <td>0.136</td>\n",
       "      <td>0.267</td>\n",
       "      <td>112.0</td>\n",
       "      <td>7.0</td>\n",
       "    </tr>\n",
       "    <tr>\n",
       "      <th>2021-10-23</th>\n",
       "      <td>0.566</td>\n",
       "      <td>0.184</td>\n",
       "      <td>0.079</td>\n",
       "      <td>0.250</td>\n",
       "      <td>0.459</td>\n",
       "      <td>0.267</td>\n",
       "      <td>0.161</td>\n",
       "      <td>0.340</td>\n",
       "      <td>123.0</td>\n",
       "      <td>0.452</td>\n",
       "      <td>0.345</td>\n",
       "      <td>0.141</td>\n",
       "      <td>0.089</td>\n",
       "      <td>0.609</td>\n",
       "      <td>0.323</td>\n",
       "      <td>0.100</td>\n",
       "      <td>0.302</td>\n",
       "      <td>95.0</td>\n",
       "      <td>-10.0</td>\n",
       "    </tr>\n",
       "    <tr>\n",
       "      <th>2021-10-23</th>\n",
       "      <td>0.345</td>\n",
       "      <td>0.227</td>\n",
       "      <td>0.178</td>\n",
       "      <td>0.275</td>\n",
       "      <td>0.475</td>\n",
       "      <td>0.321</td>\n",
       "      <td>0.205</td>\n",
       "      <td>0.200</td>\n",
       "      <td>83.0</td>\n",
       "      <td>0.403</td>\n",
       "      <td>0.140</td>\n",
       "      <td>0.145</td>\n",
       "      <td>0.159</td>\n",
       "      <td>0.559</td>\n",
       "      <td>0.096</td>\n",
       "      <td>0.124</td>\n",
       "      <td>0.160</td>\n",
       "      <td>87.0</td>\n",
       "      <td>-8.0</td>\n",
       "    </tr>\n",
       "    <tr>\n",
       "      <th>2021-10-24</th>\n",
       "      <td>0.595</td>\n",
       "      <td>0.147</td>\n",
       "      <td>0.157</td>\n",
       "      <td>0.200</td>\n",
       "      <td>0.451</td>\n",
       "      <td>0.176</td>\n",
       "      <td>0.174</td>\n",
       "      <td>0.226</td>\n",
       "      <td>124.0</td>\n",
       "      <td>0.500</td>\n",
       "      <td>0.197</td>\n",
       "      <td>0.138</td>\n",
       "      <td>0.211</td>\n",
       "      <td>0.567</td>\n",
       "      <td>0.257</td>\n",
       "      <td>0.147</td>\n",
       "      <td>0.281</td>\n",
       "      <td>134.0</td>\n",
       "      <td>-10.0</td>\n",
       "    </tr>\n",
       "  </tbody>\n",
       "</table>\n",
       "</div>"
      ],
      "text/plain": [
       "            ROLL_HOME_EFG_PCT  ROLL_HOME_FTA_RATE  ROLL_HOME_TM_TOV_PCT  \\\n",
       "GAME_DATE                                                                 \n",
       "2021-10-23              0.548               0.237                 0.122   \n",
       "2021-10-23              0.575               0.356                 0.170   \n",
       "2021-10-23              0.566               0.184                 0.079   \n",
       "2021-10-23              0.345               0.227                 0.178   \n",
       "2021-10-24              0.595               0.147                 0.157   \n",
       "\n",
       "            ROLL_HOME_OREB_PCT  ROLL_HOME_OPP_EFG_PCT  ROLL_HOME_OPP_FTA_RATE  \\\n",
       "GAME_DATE                                                                       \n",
       "2021-10-23               0.184                  0.549                   0.315   \n",
       "2021-10-23               0.271                  0.517                   0.250   \n",
       "2021-10-23               0.250                  0.459                   0.267   \n",
       "2021-10-23               0.275                  0.475                   0.321   \n",
       "2021-10-24               0.200                  0.451                   0.176   \n",
       "\n",
       "            ROLL_HOME_OPP_TOV_PCT  ROLL_HOME_OPP_OREB_PCT  ROLL_HOME_PTS  \\\n",
       "GAME_DATE                                                                  \n",
       "2021-10-23                  0.093                   0.204          121.0   \n",
       "2021-10-23                  0.219                   0.314          124.0   \n",
       "2021-10-23                  0.161                   0.340          123.0   \n",
       "2021-10-23                  0.205                   0.200           83.0   \n",
       "2021-10-24                  0.174                   0.226          124.0   \n",
       "\n",
       "            ROLL_AWAY_EFG_PCT  ROLL_AWAY_FTA_RATE  ROLL_AWAY_TM_TOV_PCT  \\\n",
       "GAME_DATE                                                                 \n",
       "2021-10-23              0.547               0.326                 0.116   \n",
       "2021-10-23              0.569               0.184                 0.167   \n",
       "2021-10-23              0.452               0.345                 0.141   \n",
       "2021-10-23              0.403               0.140                 0.145   \n",
       "2021-10-24              0.500               0.197                 0.138   \n",
       "\n",
       "            ROLL_AWAY_OREB_PCT  ROLL_AWAY_OPP_EFG_PCT  ROLL_AWAY_OPP_FTA_RATE  \\\n",
       "GAME_DATE                                                                       \n",
       "2021-10-23               0.152                  0.483                   0.337   \n",
       "2021-10-23               0.191                  0.607                   0.281   \n",
       "2021-10-23               0.089                  0.609                   0.323   \n",
       "2021-10-23               0.159                  0.559                   0.096   \n",
       "2021-10-24               0.211                  0.567                   0.257   \n",
       "\n",
       "            ROLL_AWAY_OPP_TOV_PCT  ROLL_AWAY_OPP_OREB_PCT  ROLL_AWAY_PTS  \\\n",
       "GAME_DATE                                                                  \n",
       "2021-10-23                  0.156                   0.268          115.0   \n",
       "2021-10-23                  0.136                   0.267          112.0   \n",
       "2021-10-23                  0.100                   0.302           95.0   \n",
       "2021-10-23                  0.124                   0.160           87.0   \n",
       "2021-10-24                  0.147                   0.281          134.0   \n",
       "\n",
       "            PLUS_MINUS  \n",
       "GAME_DATE               \n",
       "2021-10-23        29.0  \n",
       "2021-10-23         7.0  \n",
       "2021-10-23       -10.0  \n",
       "2021-10-23        -8.0  \n",
       "2021-10-24       -10.0  "
      ]
     },
     "execution_count": 5,
     "metadata": {},
     "output_type": "execute_result"
    }
   ],
   "source": [
    "pm_scaled_df.head()"
   ]
  },
  {
   "cell_type": "code",
   "execution_count": 6,
   "id": "e6c377e3-c3b3-433c-87b2-73a550c1bfdd",
   "metadata": {},
   "outputs": [
    {
     "data": {
      "text/html": [
       "<div>\n",
       "<style scoped>\n",
       "    .dataframe tbody tr th:only-of-type {\n",
       "        vertical-align: middle;\n",
       "    }\n",
       "\n",
       "    .dataframe tbody tr th {\n",
       "        vertical-align: top;\n",
       "    }\n",
       "\n",
       "    .dataframe thead th {\n",
       "        text-align: right;\n",
       "    }\n",
       "</style>\n",
       "<table border=\"1\" class=\"dataframe\">\n",
       "  <thead>\n",
       "    <tr style=\"text-align: right;\">\n",
       "      <th></th>\n",
       "      <th>ROLL_HOME_EFG_PCT</th>\n",
       "      <th>ROLL_HOME_FTA_RATE</th>\n",
       "      <th>ROLL_HOME_TM_TOV_PCT</th>\n",
       "      <th>ROLL_HOME_OREB_PCT</th>\n",
       "      <th>ROLL_HOME_OPP_EFG_PCT</th>\n",
       "      <th>ROLL_HOME_OPP_FTA_RATE</th>\n",
       "      <th>ROLL_HOME_OPP_TOV_PCT</th>\n",
       "      <th>ROLL_HOME_OPP_OREB_PCT</th>\n",
       "      <th>ROLL_HOME_PTS</th>\n",
       "      <th>ROLL_AWAY_EFG_PCT</th>\n",
       "      <th>ROLL_AWAY_FTA_RATE</th>\n",
       "      <th>ROLL_AWAY_TM_TOV_PCT</th>\n",
       "      <th>ROLL_AWAY_OREB_PCT</th>\n",
       "      <th>ROLL_AWAY_OPP_EFG_PCT</th>\n",
       "      <th>ROLL_AWAY_OPP_FTA_RATE</th>\n",
       "      <th>ROLL_AWAY_OPP_TOV_PCT</th>\n",
       "      <th>ROLL_AWAY_OPP_OREB_PCT</th>\n",
       "      <th>ROLL_AWAY_PTS</th>\n",
       "      <th>GAME_RESULT</th>\n",
       "    </tr>\n",
       "    <tr>\n",
       "      <th>GAME_DATE</th>\n",
       "      <th></th>\n",
       "      <th></th>\n",
       "      <th></th>\n",
       "      <th></th>\n",
       "      <th></th>\n",
       "      <th></th>\n",
       "      <th></th>\n",
       "      <th></th>\n",
       "      <th></th>\n",
       "      <th></th>\n",
       "      <th></th>\n",
       "      <th></th>\n",
       "      <th></th>\n",
       "      <th></th>\n",
       "      <th></th>\n",
       "      <th></th>\n",
       "      <th></th>\n",
       "      <th></th>\n",
       "      <th></th>\n",
       "    </tr>\n",
       "  </thead>\n",
       "  <tbody>\n",
       "    <tr>\n",
       "      <th>2024-02-03</th>\n",
       "      <td>0.543</td>\n",
       "      <td>0.237</td>\n",
       "      <td>0.151</td>\n",
       "      <td>0.234</td>\n",
       "      <td>0.564</td>\n",
       "      <td>0.231</td>\n",
       "      <td>0.139</td>\n",
       "      <td>0.282</td>\n",
       "      <td>114.0</td>\n",
       "      <td>0.563</td>\n",
       "      <td>0.231</td>\n",
       "      <td>0.133</td>\n",
       "      <td>0.199</td>\n",
       "      <td>0.518</td>\n",
       "      <td>0.288</td>\n",
       "      <td>0.130</td>\n",
       "      <td>0.249</td>\n",
       "      <td>114.1</td>\n",
       "      <td>0</td>\n",
       "    </tr>\n",
       "    <tr>\n",
       "      <th>2024-02-04</th>\n",
       "      <td>0.529</td>\n",
       "      <td>0.235</td>\n",
       "      <td>0.126</td>\n",
       "      <td>0.184</td>\n",
       "      <td>0.560</td>\n",
       "      <td>0.278</td>\n",
       "      <td>0.126</td>\n",
       "      <td>0.320</td>\n",
       "      <td>113.3</td>\n",
       "      <td>0.620</td>\n",
       "      <td>0.270</td>\n",
       "      <td>0.149</td>\n",
       "      <td>0.204</td>\n",
       "      <td>0.565</td>\n",
       "      <td>0.233</td>\n",
       "      <td>0.126</td>\n",
       "      <td>0.294</td>\n",
       "      <td>122.3</td>\n",
       "      <td>0</td>\n",
       "    </tr>\n",
       "    <tr>\n",
       "      <th>2024-02-04</th>\n",
       "      <td>0.553</td>\n",
       "      <td>0.246</td>\n",
       "      <td>0.128</td>\n",
       "      <td>0.203</td>\n",
       "      <td>0.565</td>\n",
       "      <td>0.265</td>\n",
       "      <td>0.101</td>\n",
       "      <td>0.277</td>\n",
       "      <td>115.5</td>\n",
       "      <td>0.541</td>\n",
       "      <td>0.299</td>\n",
       "      <td>0.140</td>\n",
       "      <td>0.228</td>\n",
       "      <td>0.546</td>\n",
       "      <td>0.282</td>\n",
       "      <td>0.155</td>\n",
       "      <td>0.288</td>\n",
       "      <td>110.6</td>\n",
       "      <td>0</td>\n",
       "    </tr>\n",
       "    <tr>\n",
       "      <th>2024-02-04</th>\n",
       "      <td>0.507</td>\n",
       "      <td>0.207</td>\n",
       "      <td>0.138</td>\n",
       "      <td>0.182</td>\n",
       "      <td>0.587</td>\n",
       "      <td>0.233</td>\n",
       "      <td>0.122</td>\n",
       "      <td>0.279</td>\n",
       "      <td>102.8</td>\n",
       "      <td>0.550</td>\n",
       "      <td>0.232</td>\n",
       "      <td>0.129</td>\n",
       "      <td>0.222</td>\n",
       "      <td>0.562</td>\n",
       "      <td>0.303</td>\n",
       "      <td>0.130</td>\n",
       "      <td>0.278</td>\n",
       "      <td>116.2</td>\n",
       "      <td>0</td>\n",
       "    </tr>\n",
       "    <tr>\n",
       "      <th>2024-02-04</th>\n",
       "      <td>0.568</td>\n",
       "      <td>0.242</td>\n",
       "      <td>0.113</td>\n",
       "      <td>0.201</td>\n",
       "      <td>0.508</td>\n",
       "      <td>0.217</td>\n",
       "      <td>0.108</td>\n",
       "      <td>0.291</td>\n",
       "      <td>121.5</td>\n",
       "      <td>0.544</td>\n",
       "      <td>0.248</td>\n",
       "      <td>0.154</td>\n",
       "      <td>0.203</td>\n",
       "      <td>0.551</td>\n",
       "      <td>0.256</td>\n",
       "      <td>0.139</td>\n",
       "      <td>0.289</td>\n",
       "      <td>110.1</td>\n",
       "      <td>1</td>\n",
       "    </tr>\n",
       "  </tbody>\n",
       "</table>\n",
       "</div>"
      ],
      "text/plain": [
       "            ROLL_HOME_EFG_PCT  ROLL_HOME_FTA_RATE  ROLL_HOME_TM_TOV_PCT  \\\n",
       "GAME_DATE                                                                 \n",
       "2024-02-03              0.543               0.237                 0.151   \n",
       "2024-02-04              0.529               0.235                 0.126   \n",
       "2024-02-04              0.553               0.246                 0.128   \n",
       "2024-02-04              0.507               0.207                 0.138   \n",
       "2024-02-04              0.568               0.242                 0.113   \n",
       "\n",
       "            ROLL_HOME_OREB_PCT  ROLL_HOME_OPP_EFG_PCT  ROLL_HOME_OPP_FTA_RATE  \\\n",
       "GAME_DATE                                                                       \n",
       "2024-02-03               0.234                  0.564                   0.231   \n",
       "2024-02-04               0.184                  0.560                   0.278   \n",
       "2024-02-04               0.203                  0.565                   0.265   \n",
       "2024-02-04               0.182                  0.587                   0.233   \n",
       "2024-02-04               0.201                  0.508                   0.217   \n",
       "\n",
       "            ROLL_HOME_OPP_TOV_PCT  ROLL_HOME_OPP_OREB_PCT  ROLL_HOME_PTS  \\\n",
       "GAME_DATE                                                                  \n",
       "2024-02-03                  0.139                   0.282          114.0   \n",
       "2024-02-04                  0.126                   0.320          113.3   \n",
       "2024-02-04                  0.101                   0.277          115.5   \n",
       "2024-02-04                  0.122                   0.279          102.8   \n",
       "2024-02-04                  0.108                   0.291          121.5   \n",
       "\n",
       "            ROLL_AWAY_EFG_PCT  ROLL_AWAY_FTA_RATE  ROLL_AWAY_TM_TOV_PCT  \\\n",
       "GAME_DATE                                                                 \n",
       "2024-02-03              0.563               0.231                 0.133   \n",
       "2024-02-04              0.620               0.270                 0.149   \n",
       "2024-02-04              0.541               0.299                 0.140   \n",
       "2024-02-04              0.550               0.232                 0.129   \n",
       "2024-02-04              0.544               0.248                 0.154   \n",
       "\n",
       "            ROLL_AWAY_OREB_PCT  ROLL_AWAY_OPP_EFG_PCT  ROLL_AWAY_OPP_FTA_RATE  \\\n",
       "GAME_DATE                                                                       \n",
       "2024-02-03               0.199                  0.518                   0.288   \n",
       "2024-02-04               0.204                  0.565                   0.233   \n",
       "2024-02-04               0.228                  0.546                   0.282   \n",
       "2024-02-04               0.222                  0.562                   0.303   \n",
       "2024-02-04               0.203                  0.551                   0.256   \n",
       "\n",
       "            ROLL_AWAY_OPP_TOV_PCT  ROLL_AWAY_OPP_OREB_PCT  ROLL_AWAY_PTS  \\\n",
       "GAME_DATE                                                                  \n",
       "2024-02-03                  0.130                   0.249          114.1   \n",
       "2024-02-04                  0.126                   0.294          122.3   \n",
       "2024-02-04                  0.155                   0.288          110.6   \n",
       "2024-02-04                  0.130                   0.278          116.2   \n",
       "2024-02-04                  0.139                   0.289          110.1   \n",
       "\n",
       "            GAME_RESULT  \n",
       "GAME_DATE                \n",
       "2024-02-03            0  \n",
       "2024-02-04            0  \n",
       "2024-02-04            0  \n",
       "2024-02-04            0  \n",
       "2024-02-04            1  "
      ]
     },
     "execution_count": 6,
     "metadata": {},
     "output_type": "execute_result"
    }
   ],
   "source": [
    "res_scaled_df.tail()"
   ]
  },
  {
   "cell_type": "markdown",
   "id": "64cc93aa-3540-4272-85d6-6235f76ffd2c",
   "metadata": {
    "jp-MarkdownHeadingCollapsed": true
   },
   "source": [
    "# Inspect Training Windows\n",
    "\n",
    "[Return to top](#Baseline-Models)"
   ]
  },
  {
   "cell_type": "markdown",
   "id": "1a6f87ea-82e9-45de-a165-d85e62e67e80",
   "metadata": {
    "jp-MarkdownHeadingCollapsed": true
   },
   "source": [
    "## Expanding\n",
    "\n",
    "[Return to top](#Baseline-Models)"
   ]
  },
  {
   "cell_type": "code",
   "execution_count": 7,
   "id": "635c59a5-529a-4d25-835c-f5af36a94204",
   "metadata": {},
   "outputs": [
    {
     "name": "stdout",
     "output_type": "stream",
     "text": [
      "TRAIN: [0 1 2 3 4 5 6 7 8 9] TEST: [10]\n",
      "TRAIN: [ 0  1  2  3  4  5  6  7  8  9 10] TEST: [11]\n",
      "TRAIN: [ 0  1  2  3  4  5  6  7  8  9 10 11] TEST: [12]\n",
      "TRAIN: [ 0  1  2  3  4  5  6  7  8  9 10 11 12] TEST: [13]\n",
      "TRAIN: [ 0  1  2  3  4  5  6  7  8  9 10 11 12 13] TEST: [14]\n",
      "TRAIN: [ 0  1  2  3  4  5  6  7  8  9 10 11 12 13 14] TEST: [15]\n",
      "TRAIN: [ 0  1  2  3  4  5  6  7  8  9 10 11 12 13 14 15] TEST: [16]\n",
      "TRAIN: [ 0  1  2  3  4  5  6  7  8  9 10 11 12 13 14 15 16] TEST: [17]\n",
      "TRAIN: [ 0  1  2  3  4  5  6  7  8  9 10 11 12 13 14 15 16 17] TEST: [18]\n",
      "TRAIN: [ 0  1  2  3  4  5  6  7  8  9 10 11 12 13 14 15 16 17 18] TEST: [19]\n",
      "TRAIN: [ 0  1  2  3  4  5  6  7  8  9 10 11 12 13 14 15 16 17 18 19] TEST: [20]\n",
      "TRAIN: [ 0  1  2  3  4  5  6  7  8  9 10 11 12 13 14 15 16 17 18 19 20] TEST: [21]\n",
      "TRAIN: [ 0  1  2  3  4  5  6  7  8  9 10 11 12 13 14 15 16 17 18 19 20 21] TEST: [22]\n",
      "TRAIN: [ 0  1  2  3  4  5  6  7  8  9 10 11 12 13 14 15 16 17 18 19 20 21 22] TEST: [23]\n",
      "TRAIN: [ 0  1  2  3  4  5  6  7  8  9 10 11 12 13 14 15 16 17 18 19 20 21 22 23] TEST: [24]\n"
     ]
    }
   ],
   "source": [
    "# expanding window configuration\n",
    "initial_train_size = 10  # starting size of the training set\n",
    "test_size = 1            # leave-one-out (LOO) cross-validation\n",
    "gap_size=0               # should there be a gap between train and test sets?\n",
    "expansion_limit=None     # the limit on the test set observations\n",
    "\n",
    "counter = 0\n",
    "max_splits_to_show = 15\n",
    "\n",
    "# show first few splits\n",
    "for train_indices, test_indices in utl.expanding_window_ts_split(pts_scaled_df, initial_train_size, \n",
    "                                                                 test_size=test_size, gap_size=gap_size,\n",
    "                                                                 expansion_limit=expansion_limit):\n",
    "    print(\"TRAIN:\", train_indices, \"TEST:\", test_indices)\n",
    "    counter += 1\n",
    "    if counter >= max_splits_to_show:\n",
    "        break"
   ]
  },
  {
   "cell_type": "markdown",
   "id": "e144df18-418d-4ff0-9c42-0221f296f3bf",
   "metadata": {
    "jp-MarkdownHeadingCollapsed": true
   },
   "source": [
    "## Rolling\n",
    "\n",
    "[Return to top](#Baseline-Models)"
   ]
  },
  {
   "cell_type": "code",
   "execution_count": 8,
   "id": "eb39b223-64c5-4d86-9d8e-2599fa0e715f",
   "metadata": {},
   "outputs": [
    {
     "name": "stdout",
     "output_type": "stream",
     "text": [
      "TRAIN: [0 1 2 3 4 5 6 7 8 9] TEST: [10]\n",
      "TRAIN: [ 1  2  3  4  5  6  7  8  9 10] TEST: [11]\n",
      "TRAIN: [ 2  3  4  5  6  7  8  9 10 11] TEST: [12]\n",
      "TRAIN: [ 3  4  5  6  7  8  9 10 11 12] TEST: [13]\n",
      "TRAIN: [ 4  5  6  7  8  9 10 11 12 13] TEST: [14]\n",
      "TRAIN: [ 5  6  7  8  9 10 11 12 13 14] TEST: [15]\n",
      "TRAIN: [ 6  7  8  9 10 11 12 13 14 15] TEST: [16]\n",
      "TRAIN: [ 7  8  9 10 11 12 13 14 15 16] TEST: [17]\n",
      "TRAIN: [ 8  9 10 11 12 13 14 15 16 17] TEST: [18]\n",
      "TRAIN: [ 9 10 11 12 13 14 15 16 17 18] TEST: [19]\n",
      "TRAIN: [10 11 12 13 14 15 16 17 18 19] TEST: [20]\n",
      "TRAIN: [11 12 13 14 15 16 17 18 19 20] TEST: [21]\n",
      "TRAIN: [12 13 14 15 16 17 18 19 20 21] TEST: [22]\n",
      "TRAIN: [13 14 15 16 17 18 19 20 21 22] TEST: [23]\n",
      "TRAIN: [14 15 16 17 18 19 20 21 22 23] TEST: [24]\n"
     ]
    }
   ],
   "source": [
    "# expanding window configuration\n",
    "train_size = 10 # size of training set window\n",
    "test_size = 1   # leave-one-out (LOO) cross-validation\n",
    "\n",
    "counter = 0\n",
    "max_splits_to_show = 15\n",
    "\n",
    "for train_index, test_index in utl.rolling_window_ts_split(pts_scaled_df, train_size, test_size):\n",
    "    print(\"TRAIN:\", train_index, \"TEST:\", test_index)\n",
    "    counter += 1\n",
    "    if counter >= max_splits_to_show:\n",
    "        break"
   ]
  },
  {
   "cell_type": "markdown",
   "id": "7bfa3f0f-341e-4812-b475-190a806cf3ab",
   "metadata": {
    "jp-MarkdownHeadingCollapsed": true
   },
   "source": [
    "<a name=\"1.-Target:-Total-Points-(over-/-under)\"></a>\n",
    "# 1. Target: Total Points (over / under)\n",
    "\n",
    "[Return to top](#Baseline-Models)"
   ]
  },
  {
   "cell_type": "markdown",
   "id": "1c6386fd-d222-43dc-8f3c-5c9bfd6b64e8",
   "metadata": {},
   "source": [
    "<a name=\"1.1.-Expanding-Window\"></a>\n",
    "## 1.1. Expanding Window\n",
    "\n",
    "[Return to top](#Baseline-Models)"
   ]
  },
  {
   "cell_type": "code",
   "execution_count": 9,
   "id": "5451af4c-98ec-48bd-8af2-7329fbbd0e9c",
   "metadata": {},
   "outputs": [
    {
     "name": "stdout",
     "output_type": "stream",
     "text": [
      "Total time taken: 5.71 seconds\n"
     ]
    }
   ],
   "source": [
    "# configuration for total points with expanding window\n",
    "model = LinearRegression()  # model class\n",
    "target_col = 'TOTAL_PTS'    # target column name\n",
    "df = pts_scaled_df          # data set to use\n",
    "initial_train_size = season_22_ngames + season_23_ngames # starting size of the training set\n",
    "test_size = 1               # leave-one-out (LOO) cross-validation\n",
    "gap_size = 0                # should there be a gap between train and test sets?\n",
    "expansion_limit = None      # maximum number of new training observations in expansion\n",
    "\n",
    "# run model\n",
    "lr, model_outputs, y_true = utl.train_with_expanding_window(\n",
    "    model=model,\n",
    "    target_col=target_col,\n",
    "    df=df,  \n",
    "    initial_train_size=initial_train_size,\n",
    "    test_size=test_size, \n",
    "    gap_size=gap_size,\n",
    "    expansion_limit=expansion_limit,\n",
    "    fitted_model=True\n",
    ")\n",
    "\n",
    "# add predictions to test set observations\n",
    "test_set_obs.loc[test_set_obs.index[gap_size:gap_size+len(model_outputs)], target_col] = model_outputs"
   ]
  },
  {
   "cell_type": "code",
   "execution_count": 10,
   "id": "a35a017f-4cd2-4b21-a6f6-ca025807a48d",
   "metadata": {},
   "outputs": [
    {
     "name": "stdout",
     "output_type": "stream",
     "text": [
      "Regression Metrics:\n",
      "- Average RMSE: 18.87\n",
      "- Null RMSE: 20.28\n"
     ]
    }
   ],
   "source": [
    "metrics = utl.calculate_metrics(y_true, model_outputs)"
   ]
  },
  {
   "cell_type": "code",
   "execution_count": 11,
   "id": "1724e2ae-bcea-4a05-aa12-2ed73d1f6aff",
   "metadata": {},
   "outputs": [
    {
     "data": {
      "image/png": "[encoded data removed]",
      "text/plain": [
       "<Figure size 864x288 with 1 Axes>"
      ]
     },
     "metadata": {
      "needs_background": "light"
     },
     "output_type": "display_data"
    }
   ],
   "source": [
    "utl.plot_model_performance(\n",
    "    title='Linear Regression  |  Box Score Features  |  Expanding Window',\n",
    "    y_label='Score Total',\n",
    "    metric=metrics['average_rmse'],\n",
    "    df=df, \n",
    "    model_outputs=model_outputs, \n",
    "    target_col=target_col,\n",
    "    initial_train_size=initial_train_size\n",
    ")"
   ]
  },
  {
   "cell_type": "markdown",
   "id": "356cfbac-322c-408e-abf6-aaad2f4c1407",
   "metadata": {
    "jp-MarkdownHeadingCollapsed": true
   },
   "source": [
    "<a name=\"1.2.-Rolling-Window\"></a>\n",
    "## 1.2. Rolling Window\n",
    "\n",
    "[Return to top](#Baseline-Models)"
   ]
  },
  {
   "cell_type": "code",
   "execution_count": 12,
   "id": "1e487f8c-c84c-4cdd-9bf5-eb176e0e352d",
   "metadata": {},
   "outputs": [
    {
     "name": "stdout",
     "output_type": "stream",
     "text": [
      "Total time taken: 13.39 seconds\n"
     ]
    }
   ],
   "source": [
    "# configuration for total points with rolling window\n",
    "model = LinearRegression()  # model class\n",
    "target_col = 'TOTAL_PTS'    # target column name\n",
    "df = pts_scaled_df          # data set to use\n",
    "train_size = 1200           # size of the training set\n",
    "test_size = 1               # leave-one-out (LOO) cross-validation\n",
    "advancement_limit = None    # maximum number of times the training window is advanced\n",
    "\n",
    "# run model\n",
    "model_outputs, y_true = utl.train_with_rolling_window(\n",
    "    model=model,\n",
    "    target_col=target_col,\n",
    "    df=df,  \n",
    "    train_size=train_size,\n",
    "    test_size=test_size, \n",
    "    advancement_limit=advancement_limit\n",
    ")"
   ]
  },
  {
   "cell_type": "code",
   "execution_count": 13,
   "id": "c70c00de-f47f-435c-98cb-4f928500152b",
   "metadata": {},
   "outputs": [
    {
     "name": "stdout",
     "output_type": "stream",
     "text": [
      "Regression Metrics:\n",
      "- Average RMSE: 19.07\n",
      "- Null RMSE: 19.88\n"
     ]
    }
   ],
   "source": [
    "metrics = utl.calculate_metrics(y_true, model_outputs)"
   ]
  },
  {
   "cell_type": "code",
   "execution_count": 14,
   "id": "db089830-6069-4db8-b1fc-0ac037756897",
   "metadata": {},
   "outputs": [
    {
     "data": {
      "image/png": "[encoded data removed]",
      "text/plain": [
       "<Figure size 864x288 with 1 Axes>"
      ]
     },
     "metadata": {
      "needs_background": "light"
     },
     "output_type": "display_data"
    }
   ],
   "source": [
    "utl.plot_model_performance_rolling(\n",
    "    title='Linear Regression  |  Box Score Features  |  Rolling Window',\n",
    "    y_label='Score Total',\n",
    "    metric=metrics['average_rmse'],\n",
    "    df=df, \n",
    "    model_outputs=model_outputs, \n",
    "    target_col=target_col,\n",
    "    train_size=train_size\n",
    ")"
   ]
  },
  {
   "cell_type": "markdown",
   "id": "090490a3-46b0-4c90-a760-560ed40f3c60",
   "metadata": {
    "jp-MarkdownHeadingCollapsed": true
   },
   "source": [
    "<a name=\"2.-Target:-Difference-in-Points-(plus-/-minus)\"></a>\n",
    "# 2. Target: Difference in Points (plus / minus)\n",
    "\n",
    "[Return to top](#Baseline-Models)"
   ]
  },
  {
   "cell_type": "markdown",
   "id": "b918e5ad-bd9c-463f-b2c9-fbbbcfd7f7d1",
   "metadata": {
    "jp-MarkdownHeadingCollapsed": true
   },
   "source": [
    "<a name=\"2.1.-Expanding-Window\"></a>\n",
    "## 2.1. Expanding Window\n",
    "\n",
    "[Return to top](#Baseline-Models)"
   ]
  },
  {
   "cell_type": "code",
   "execution_count": 15,
   "id": "a328bcab-819f-4550-b9ff-4d55976d99a0",
   "metadata": {},
   "outputs": [
    {
     "name": "stdout",
     "output_type": "stream",
     "text": [
      "Total time taken: 5.72 seconds\n"
     ]
    }
   ],
   "source": [
    "# configuration for point difference with expanding window\n",
    "model = LinearRegression()  # model class\n",
    "target_col = 'PLUS_MINUS'   # target column name\n",
    "df = pm_scaled_df           # data set to use\n",
    "initial_train_size = season_22_ngames + season_23_ngames # starting size of the training set\n",
    "test_size = 1               # leave-one-out (LOO) cross-validation\n",
    "gap_size = 0                # should there be a gap between train and test sets?\n",
    "expansion_limit = None      # maximum number of new training observations in expansion\n",
    "\n",
    "# run model\n",
    "model_outputs, y_true = utl.train_with_expanding_window(\n",
    "    model=model,\n",
    "    target_col=target_col,\n",
    "    df=df,  \n",
    "    initial_train_size=initial_train_size,\n",
    "    test_size=test_size, \n",
    "    gap_size=gap_size,\n",
    "    expansion_limit=expansion_limit\n",
    ")\n",
    "\n",
    "# add predictions to test set observations\n",
    "test_set_obs.loc[test_set_obs.index[gap_size:gap_size+len(model_outputs)], target_col] = model_outputs"
   ]
  },
  {
   "cell_type": "code",
   "execution_count": 16,
   "id": "c38d3d6a-6fdd-4725-ac04-324000823c09",
   "metadata": {},
   "outputs": [
    {
     "name": "stdout",
     "output_type": "stream",
     "text": [
      "Regression Metrics:\n",
      "- Average RMSE: 14.42\n",
      "- Null RMSE: 15.32\n"
     ]
    }
   ],
   "source": [
    "metrics = utl.calculate_metrics(y_true, model_outputs)"
   ]
  },
  {
   "cell_type": "code",
   "execution_count": 17,
   "id": "cf79596b-7fe6-4f4b-8d4d-026212256860",
   "metadata": {},
   "outputs": [
    {
     "data": {
      "image/png": "[encoded data removed]",
      "text/plain": [
       "<Figure size 864x288 with 1 Axes>"
      ]
     },
     "metadata": {
      "needs_background": "light"
     },
     "output_type": "display_data"
    }
   ],
   "source": [
    "utl.plot_model_performance(\n",
    "    title='Linear Regression  |  Box Score Features  |  Expanding Window',\n",
    "    y_label='Score Difference (home - away)',\n",
    "    metric=metrics['average_rmse'],\n",
    "    df=df, \n",
    "    model_outputs=model_outputs, \n",
    "    target_col=target_col,\n",
    "    initial_train_size=initial_train_size\n",
    ")"
   ]
  },
  {
   "cell_type": "markdown",
   "id": "3aec8a2e-96f1-45ca-bf25-cfb0cd8fbf47",
   "metadata": {
    "jp-MarkdownHeadingCollapsed": true
   },
   "source": [
    "<a name=\"2.2.-Rolling-Window\"></a>\n",
    "## 2.2. Rolling Window\n",
    "\n",
    "[Return to top](#Baseline-Models)"
   ]
  },
  {
   "cell_type": "code",
   "execution_count": 18,
   "id": "21fd8711-6d64-456b-9fe2-4410ecd020f4",
   "metadata": {},
   "outputs": [
    {
     "name": "stdout",
     "output_type": "stream",
     "text": [
      "Total time taken: 14.22 seconds\n"
     ]
    }
   ],
   "source": [
    "# configuration for points difference with rolling window\n",
    "model = LinearRegression()  # model class\n",
    "target_col = 'PLUS_MINUS'   # target column name\n",
    "df = pm_scaled_df           # data set to use\n",
    "train_size = 1200           # size of the training set\n",
    "test_size = 1               # leave-one-out (LOO) cross-validation\n",
    "advancement_limit = None    # maximum number of times the training window is advanced\n",
    "\n",
    "# run model\n",
    "model_outputs, y_true = utl.train_with_rolling_window(\n",
    "    model=model,\n",
    "    target_col=target_col,\n",
    "    df=df,  \n",
    "    train_size=train_size,\n",
    "    test_size=test_size, \n",
    "    advancement_limit=advancement_limit\n",
    ")"
   ]
  },
  {
   "cell_type": "code",
   "execution_count": 19,
   "id": "553acfb0-1e4a-4e19-86b4-b93864e4fc7c",
   "metadata": {},
   "outputs": [
    {
     "name": "stdout",
     "output_type": "stream",
     "text": [
      "Regression Metrics:\n",
      "- Average RMSE: 13.78\n",
      "- Null RMSE: 14.28\n"
     ]
    }
   ],
   "source": [
    "metrics = utl.calculate_metrics(y_true, model_outputs)"
   ]
  },
  {
   "cell_type": "code",
   "execution_count": 20,
   "id": "0e7b4b8e-e1c4-4d3c-b5b1-8e5a6799ef92",
   "metadata": {},
   "outputs": [
    {
     "data": {
      "image/png": "[encoded data removed]",
      "text/plain": [
       "<Figure size 864x288 with 1 Axes>"
      ]
     },
     "metadata": {
      "needs_background": "light"
     },
     "output_type": "display_data"
    }
   ],
   "source": [
    "utl.plot_model_performance_rolling(\n",
    "    title='Linear Regression  |  Box Score Features  |  Rolling Window',\n",
    "    y_label='Score Difference (home - away)',\n",
    "    metric=metrics['average_rmse'],\n",
    "    df=df, \n",
    "    model_outputs=model_outputs, \n",
    "    target_col=target_col,\n",
    "    train_size=train_size\n",
    ")"
   ]
  },
  {
   "cell_type": "markdown",
   "id": "239ede5e-ddc2-49c5-8fe8-570e38eadf19",
   "metadata": {
    "jp-MarkdownHeadingCollapsed": true
   },
   "source": [
    "<a name=\"3.-Target:-Game-Winner-(moneyline)\"></a>\n",
    "# 3. Target: Game Winner (moneyline)\n",
    "\n",
    "[Return to top](#Baseline-Models)"
   ]
  },
  {
   "cell_type": "markdown",
   "id": "f79f3eb3-ead3-411f-b83d-b57406f0ecb2",
   "metadata": {
    "jp-MarkdownHeadingCollapsed": true
   },
   "source": [
    "<a name=\"3.1.-Expanding-Window\"></a>\n",
    "## 3.1. Expanding Window\n",
    "\n",
    "[Return to top](#Baseline-Models)"
   ]
  },
  {
   "cell_type": "code",
   "execution_count": 21,
   "id": "7650421b-c9e9-4fe9-b114-c90f423a5c06",
   "metadata": {},
   "outputs": [
    {
     "name": "stdout",
     "output_type": "stream",
     "text": [
      "Total time taken: 22.37 seconds\n"
     ]
    }
   ],
   "source": [
    "# configuration for game winner with expanding window\n",
    "model = LogisticRegression(penalty=None, max_iter=10000, solver='lbfgs')  # model class\n",
    "target_col = 'GAME_RESULT'  # target column name\n",
    "df = res_scaled_df          # data set to use\n",
    "initial_train_size = season_22_ngames + season_23_ngames # starting size of the training set\n",
    "test_size = 1               # leave-one-out (LOO) cross-validation\n",
    "gap_size = 0                # should there be a gap between train and test sets?\n",
    "expansion_limit = None      # maximum number of new training observations in expansion\n",
    "\n",
    "# run model\n",
    "model_outputs, y_true = utl.train_with_expanding_window(\n",
    "    model=model,\n",
    "    target_col=target_col,\n",
    "    df=df,  \n",
    "    initial_train_size=initial_train_size,\n",
    "    test_size=test_size, \n",
    "    gap_size=gap_size,\n",
    "    expansion_limit=expansion_limit,\n",
    "    ensure_diversity=True # ensure class diversity in training\n",
    ")\n",
    "\n",
    "# add predictions to test set observations\n",
    "test_set_obs.loc[test_set_obs.index[gap_size:gap_size+len(model_outputs)], target_col] = model_outputs"
   ]
  },
  {
   "cell_type": "code",
   "execution_count": 22,
   "id": "d9b734c8-3efd-4bd9-9bd0-012f39b5550e",
   "metadata": {},
   "outputs": [
    {
     "name": "stdout",
     "output_type": "stream",
     "text": [
      "Classification Metrics:\n",
      "- Average Accuracy: 0.65\n",
      "- Overall AUC: 0.68\n",
      "- Average F1 Score: 0.71\n"
     ]
    }
   ],
   "source": [
    "metrics = utl.calculate_metrics(y_true, model_outputs)"
   ]
  },
  {
   "cell_type": "code",
   "execution_count": 23,
   "id": "369e3991-2f83-4044-95b1-39cd3c4d637e",
   "metadata": {},
   "outputs": [
    {
     "data": {
      "image/png": "[encoded data removed]",
      "text/plain": [
       "<Figure size 576x288 with 3 Axes>"
      ]
     },
     "metadata": {
      "needs_background": "light"
     },
     "output_type": "display_data"
    }
   ],
   "source": [
    "utl.plot_classification_performance(\n",
    "    y_true=y_true, \n",
    "    model_outputs=model_outputs,\n",
    "    pred_labels=metrics['pred_labels'],\n",
    "    overall_title='Logistic Regression  |  Box Score Features  |  Expanding Window'\n",
    ")"
   ]
  },
  {
   "cell_type": "code",
   "execution_count": 24,
   "id": "31c7bf8e-8653-41ba-a100-57bffc7e7248",
   "metadata": {},
   "outputs": [],
   "source": [
    "# write out all model predictions and meta-data\n",
    "test_set_obs.rename(columns={\n",
    "    'TOTAL_PTS': 'TOTAL_PTS_PREDS',\n",
    "    'PLUS_MINUS': 'PLUS_MINUS_PREDS',\n",
    "    'GAME_RESULT': 'GAME_RESULT_PREDS'\n",
    "}, inplace=True)\n",
    "columns_to_round = ['TOTAL_PTS_PREDS', 'PLUS_MINUS_PREDS', 'GAME_RESULT_PREDS']\n",
    "test_set_obs[columns_to_round] = test_set_obs[columns_to_round].round(4)\n",
    "test_set_obs.to_csv('../../data/model_predictions/GLM_preds_four_factor_stats.csv', index=False)"
   ]
  },
  {
   "cell_type": "markdown",
   "id": "d6632d48-5b3c-4032-986c-639a233867bc",
   "metadata": {
    "jp-MarkdownHeadingCollapsed": true
   },
   "source": [
    "<a name=\"3.2.-Rolling-Window\"></a>\n",
    "## 3.2. Rolling Window\n",
    "\n",
    "[Return to top](#Baseline-Models)"
   ]
  },
  {
   "cell_type": "code",
   "execution_count": 25,
   "id": "b7347c0d-79cb-43e9-a1a4-52f547b270c4",
   "metadata": {},
   "outputs": [
    {
     "name": "stdout",
     "output_type": "stream",
     "text": [
      "Total time taken: 49.48 seconds\n"
     ]
    }
   ],
   "source": [
    "# configuration for game winner with rolling window\n",
    "model = LogisticRegression(penalty=None, max_iter=10000, solver='lbfgs')  # model class\n",
    "target_col = 'GAME_RESULT'  # target column name\n",
    "df = res_scaled_df          # data set to use\n",
    "train_size = 1200           # size of the training set\n",
    "test_size = 1               # leave-one-out (LOO) cross-validation\n",
    "advancement_limit = None    # maximum number of times the training window is advanced\n",
    "\n",
    "# run model\n",
    "model_outputs, y_true = utl.train_with_rolling_window(\n",
    "    model=model,\n",
    "    target_col=target_col,\n",
    "    df=df,  \n",
    "    train_size=train_size,\n",
    "    test_size=test_size, \n",
    "    advancement_limit=advancement_limit,\n",
    "    ensure_diversity=True # ensure class diversity in training\n",
    ")"
   ]
  },
  {
   "cell_type": "code",
   "execution_count": 26,
   "id": "faa1653d-7e64-45ca-b7ae-caeaae859e64",
   "metadata": {},
   "outputs": [
    {
     "name": "stdout",
     "output_type": "stream",
     "text": [
      "Classification Metrics:\n",
      "- Average Accuracy: 0.60\n",
      "- Overall AUC: 0.62\n",
      "- Average F1 Score: 0.69\n"
     ]
    }
   ],
   "source": [
    "metrics = utl.calculate_metrics(y_true, model_outputs)"
   ]
  },
  {
   "cell_type": "code",
   "execution_count": 27,
   "id": "9dc779b5-fff1-401b-8f66-50a9cca9ad99",
   "metadata": {},
   "outputs": [
    {
     "data": {
      "image/png": "[encoded data removed]",
      "text/plain": [
       "<Figure size 576x288 with 3 Axes>"
      ]
     },
     "metadata": {
      "needs_background": "light"
     },
     "output_type": "display_data"
    }
   ],
   "source": [
    "utl.plot_classification_performance(\n",
    "    y_true=y_true, \n",
    "    model_outputs=model_outputs,\n",
    "    pred_labels=metrics['pred_labels'],\n",
    "    overall_title='Logistic Regression  |  Box Score Features  |  Rolling Window'\n",
    ")"
   ]
  },
  {
   "cell_type": "code",
   "execution_count": null,
   "id": "8ea25263-a392-4eb7-b4d6-64f5770ede1b",
   "metadata": {},
   "outputs": [],
   "source": []
  }
 ],
 "metadata": {
  "kernelspec": {
   "display_name": "Python 3",
   "language": "python",
   "name": "python3"
  },
  "language_info": {
   "codemirror_mode": {
    "name": "ipython",
    "version": 3
   },
   "file_extension": ".py",
   "mimetype": "text/x-python",
   "name": "python",
   "nbconvert_exporter": "python",
   "pygments_lexer": "ipython3",
   "version": "3.8.8"
  }
 },
 "nbformat": 4,
 "nbformat_minor": 5
}
