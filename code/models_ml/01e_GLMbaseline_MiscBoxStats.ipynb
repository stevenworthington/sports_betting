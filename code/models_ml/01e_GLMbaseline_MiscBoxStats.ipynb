{
 "cells": [
  {
   "cell_type": "markdown",
   "id": "7e536ca5-aa7d-4a63-8ffb-4621be160b40",
   "metadata": {},
   "source": [
    "<div class=\"alert alert-danger\">\n",
    "    <h4 style=\"font-weight: bold; font-size: 28px;\">Baseline Models with Miscellaneous Box Stats Features</h4>\n",
    "    <p style=\"font-size: 20px;\">NBA API Seasons 2021-22 to 2023-24</p>\n",
    "</div>\n",
    "\n",
    "<a name=\"Baseline-Models\"></a>"
   ]
  },
  {
   "cell_type": "markdown",
   "id": "1cdebb86-ba03-49f6-b2ce-417b29c33190",
   "metadata": {},
   "source": [
    "# Table of Contents"
   ]
  },
  {
   "cell_type": "markdown",
   "id": "be92669c-65ed-4e6d-841f-c4ff45708213",
   "metadata": {},
   "source": [
    "[Setup](#Setup)\n",
    "\n",
    "[Data](#Data)\n",
    "\n",
    "[Inspect Training Windows](#Inspect-Training-Windows)\n",
    "\n",
    "- [Expanding](#Expanding)\n",
    "\n",
    "- [Rolling](#Rolling)\n",
    "\n",
    "**[1. Target: Total Points (over / under)](#1.-Target:-Total-Points-(over-/-under))**\n",
    "\n",
    "- [1.1. Expanding Window](#1.1.-Expanding-Window)\n",
    "\n",
    "- [1.2. Rolling Window](#1.2.-Rolling-Window)\n",
    "\n",
    "**[2. Target: Difference in Points (plus / minus)](#2.-Target:-Difference-in-Points-(plus-/-minus))**\n",
    "\n",
    "- [2.1. Expanding Window](#2.1.-Expanding-Window)\n",
    "\n",
    "- [2.2. Rolling Window](#2.2.-Rolling-Window)\n",
    "\n",
    "**[3. Target: Game Winner (moneyline)](#3.-Target:-Game-Winner-(moneyline))**\n",
    "\n",
    "- [3.1. Expanding Window](#3.1.-Expanding-Window)\n",
    "\n",
    "- [3.2. Rolling Window](#3.2.-Rolling-Window)"
   ]
  },
  {
   "cell_type": "markdown",
   "id": "927301d4-732d-4a02-9585-5366250ab128",
   "metadata": {
    "jp-MarkdownHeadingCollapsed": true
   },
   "source": [
    "# Setup\n",
    "\n",
    "[Return to top](#Baseline-Models)"
   ]
  },
  {
   "cell_type": "code",
   "execution_count": 1,
   "id": "71d71680-3e45-4d9f-85e1-fa18e5569909",
   "metadata": {},
   "outputs": [],
   "source": [
    "import sys\n",
    "from pathlib import Path\n",
    "# get current working directory\n",
    "cwd = %pwd\n",
    "# add shared_code directory to Python sys.path\n",
    "sys.path.append(str(Path(cwd).parent / \"shared_code\"))\n",
    "# import all libraries in shared_code directory 'imports.py' file\n",
    "from imports import *\n",
    "%matplotlib inline"
   ]
  },
  {
   "cell_type": "markdown",
   "id": "b559364e-fadc-49b8-8f71-dc089fc4aa95",
   "metadata": {
    "jp-MarkdownHeadingCollapsed": true
   },
   "source": [
    "# Data\n",
    "\n",
    "[Return to top](#Baseline-Models)"
   ]
  },
  {
   "cell_type": "markdown",
   "id": "b1e77fd6-2844-4b7a-99bc-62291f112d0a",
   "metadata": {},
   "source": [
    "Data splits:\n",
    "\n",
    "- Define NBA Season 2021-22 as the TRAINING set: regular season is 2021-10-19 to 2022-04-10. \n",
    "- Define NBA Season 2022-23 as the VALIDATION set: regular season is 2022-10-18 to 2023-04-09.\n",
    "- Define NBA Season 2023-24 as the TESTING set: regular season is 2023-10-24 to 2024-04-14."
   ]
  },
  {
   "cell_type": "code",
   "execution_count": 2,
   "id": "d1ade8e5-7e63-4bff-ad0d-c54bb73c1cf8",
   "metadata": {},
   "outputs": [
    {
     "name": "stdout",
     "output_type": "stream",
     "text": [
      "Season 2021-22: 1186 games\n",
      "Season 2022-23: 1181 games\n",
      "Season 2023-24: 691 games\n",
      "Total number of games across sampled seasons: 3058 games\n"
     ]
    }
   ],
   "source": [
    "# load, filter (by time) and scale data\n",
    "pts_scaled_df, pm_scaled_df, res_scaled_df, test_set_obs = utl.load_and_scale_data(\n",
    "    file_path='../../data/processed/nba_team_matchups_rolling_misc_box_stats_2021_2024_r05.csv',\n",
    "    seasons_to_keep=['2021-22', '2022-23', '2023-24'],\n",
    "    training_season='2021-22',\n",
    "    feature_prefix='ROLL_',\n",
    "    scaler_type='minmax', \n",
    "    scale_target=False\n",
    ")"
   ]
  },
  {
   "cell_type": "code",
   "execution_count": 3,
   "id": "894e0cbb-7455-4564-9983-442cdd49c61d",
   "metadata": {},
   "outputs": [],
   "source": [
    "# define number of games in seasons\n",
    "season_22_ngames = 1186\n",
    "season_23_ngames = 1181"
   ]
  },
  {
   "cell_type": "code",
   "execution_count": 4,
   "id": "d608225f-c7fb-493e-9168-0fbe20ba69f1",
   "metadata": {},
   "outputs": [
    {
     "data": {
      "text/html": [
       "<div>\n",
       "<style scoped>\n",
       "    .dataframe tbody tr th:only-of-type {\n",
       "        vertical-align: middle;\n",
       "    }\n",
       "\n",
       "    .dataframe tbody tr th {\n",
       "        vertical-align: top;\n",
       "    }\n",
       "\n",
       "    .dataframe thead th {\n",
       "        text-align: right;\n",
       "    }\n",
       "</style>\n",
       "<table border=\"1\" class=\"dataframe\">\n",
       "  <thead>\n",
       "    <tr style=\"text-align: right;\">\n",
       "      <th></th>\n",
       "      <th>ROLL_HOME_PTS_OFF_TOV</th>\n",
       "      <th>ROLL_HOME_PTS_2ND_CHANCE</th>\n",
       "      <th>ROLL_HOME_PTS_FB</th>\n",
       "      <th>ROLL_HOME_PTS_PAINT</th>\n",
       "      <th>ROLL_HOME_OPP_PTS_OFF_TOV</th>\n",
       "      <th>ROLL_HOME_OPP_PTS_2ND_CHANCE</th>\n",
       "      <th>ROLL_HOME_OPP_PTS_FB</th>\n",
       "      <th>ROLL_HOME_OPP_PTS_PAINT</th>\n",
       "      <th>ROLL_HOME_BLK</th>\n",
       "      <th>ROLL_HOME_BLKA</th>\n",
       "      <th>ROLL_HOME_PF</th>\n",
       "      <th>ROLL_HOME_PFD</th>\n",
       "      <th>ROLL_HOME_PTS</th>\n",
       "      <th>ROLL_AWAY_PTS_OFF_TOV</th>\n",
       "      <th>ROLL_AWAY_PTS_2ND_CHANCE</th>\n",
       "      <th>ROLL_AWAY_PTS_FB</th>\n",
       "      <th>ROLL_AWAY_PTS_PAINT</th>\n",
       "      <th>ROLL_AWAY_OPP_PTS_OFF_TOV</th>\n",
       "      <th>ROLL_AWAY_OPP_PTS_2ND_CHANCE</th>\n",
       "      <th>ROLL_AWAY_OPP_PTS_FB</th>\n",
       "      <th>ROLL_AWAY_OPP_PTS_PAINT</th>\n",
       "      <th>ROLL_AWAY_BLK</th>\n",
       "      <th>ROLL_AWAY_BLKA</th>\n",
       "      <th>ROLL_AWAY_PF</th>\n",
       "      <th>ROLL_AWAY_PFD</th>\n",
       "      <th>ROLL_AWAY_PTS</th>\n",
       "      <th>TOTAL_PTS</th>\n",
       "    </tr>\n",
       "    <tr>\n",
       "      <th>GAME_DATE</th>\n",
       "      <th></th>\n",
       "      <th></th>\n",
       "      <th></th>\n",
       "      <th></th>\n",
       "      <th></th>\n",
       "      <th></th>\n",
       "      <th></th>\n",
       "      <th></th>\n",
       "      <th></th>\n",
       "      <th></th>\n",
       "      <th></th>\n",
       "      <th></th>\n",
       "      <th></th>\n",
       "      <th></th>\n",
       "      <th></th>\n",
       "      <th></th>\n",
       "      <th></th>\n",
       "      <th></th>\n",
       "      <th></th>\n",
       "      <th></th>\n",
       "      <th></th>\n",
       "      <th></th>\n",
       "      <th></th>\n",
       "      <th></th>\n",
       "      <th></th>\n",
       "      <th></th>\n",
       "      <th></th>\n",
       "    </tr>\n",
       "  </thead>\n",
       "  <tbody>\n",
       "    <tr>\n",
       "      <th>2024-02-03</th>\n",
       "      <td>14.8</td>\n",
       "      <td>14.2</td>\n",
       "      <td>19.4</td>\n",
       "      <td>54.0</td>\n",
       "      <td>19.4</td>\n",
       "      <td>14.2</td>\n",
       "      <td>13.2</td>\n",
       "      <td>58.0</td>\n",
       "      <td>7.6</td>\n",
       "      <td>5.0</td>\n",
       "      <td>15.6</td>\n",
       "      <td>17.0</td>\n",
       "      <td>110.6</td>\n",
       "      <td>15.8</td>\n",
       "      <td>11.2</td>\n",
       "      <td>16.4</td>\n",
       "      <td>46.0</td>\n",
       "      <td>17.6</td>\n",
       "      <td>10.4</td>\n",
       "      <td>12.4</td>\n",
       "      <td>42.4</td>\n",
       "      <td>5.6</td>\n",
       "      <td>4.6</td>\n",
       "      <td>18.4</td>\n",
       "      <td>18.2</td>\n",
       "      <td>115.6</td>\n",
       "      <td>218</td>\n",
       "    </tr>\n",
       "    <tr>\n",
       "      <th>2024-02-04</th>\n",
       "      <td>13.8</td>\n",
       "      <td>11.0</td>\n",
       "      <td>15.4</td>\n",
       "      <td>56.8</td>\n",
       "      <td>18.6</td>\n",
       "      <td>17.8</td>\n",
       "      <td>17.8</td>\n",
       "      <td>60.8</td>\n",
       "      <td>6.6</td>\n",
       "      <td>5.6</td>\n",
       "      <td>20.6</td>\n",
       "      <td>18.2</td>\n",
       "      <td>106.0</td>\n",
       "      <td>13.2</td>\n",
       "      <td>12.8</td>\n",
       "      <td>16.2</td>\n",
       "      <td>52.0</td>\n",
       "      <td>18.0</td>\n",
       "      <td>18.6</td>\n",
       "      <td>15.2</td>\n",
       "      <td>54.8</td>\n",
       "      <td>5.8</td>\n",
       "      <td>4.0</td>\n",
       "      <td>16.2</td>\n",
       "      <td>18.6</td>\n",
       "      <td>120.6</td>\n",
       "      <td>252</td>\n",
       "    </tr>\n",
       "    <tr>\n",
       "      <th>2024-02-04</th>\n",
       "      <td>12.6</td>\n",
       "      <td>13.0</td>\n",
       "      <td>10.2</td>\n",
       "      <td>50.0</td>\n",
       "      <td>17.0</td>\n",
       "      <td>15.8</td>\n",
       "      <td>14.0</td>\n",
       "      <td>53.6</td>\n",
       "      <td>4.4</td>\n",
       "      <td>5.4</td>\n",
       "      <td>18.2</td>\n",
       "      <td>20.4</td>\n",
       "      <td>115.0</td>\n",
       "      <td>21.0</td>\n",
       "      <td>16.4</td>\n",
       "      <td>15.8</td>\n",
       "      <td>52.0</td>\n",
       "      <td>12.4</td>\n",
       "      <td>10.6</td>\n",
       "      <td>13.0</td>\n",
       "      <td>50.0</td>\n",
       "      <td>4.4</td>\n",
       "      <td>5.0</td>\n",
       "      <td>21.2</td>\n",
       "      <td>20.4</td>\n",
       "      <td>111.0</td>\n",
       "      <td>210</td>\n",
       "    </tr>\n",
       "    <tr>\n",
       "      <th>2024-02-04</th>\n",
       "      <td>15.2</td>\n",
       "      <td>10.8</td>\n",
       "      <td>15.4</td>\n",
       "      <td>48.0</td>\n",
       "      <td>17.6</td>\n",
       "      <td>13.2</td>\n",
       "      <td>10.8</td>\n",
       "      <td>61.2</td>\n",
       "      <td>6.4</td>\n",
       "      <td>6.4</td>\n",
       "      <td>19.8</td>\n",
       "      <td>15.8</td>\n",
       "      <td>103.4</td>\n",
       "      <td>13.6</td>\n",
       "      <td>15.8</td>\n",
       "      <td>12.0</td>\n",
       "      <td>49.6</td>\n",
       "      <td>15.0</td>\n",
       "      <td>12.0</td>\n",
       "      <td>14.8</td>\n",
       "      <td>58.0</td>\n",
       "      <td>5.4</td>\n",
       "      <td>7.6</td>\n",
       "      <td>22.4</td>\n",
       "      <td>19.0</td>\n",
       "      <td>116.0</td>\n",
       "      <td>214</td>\n",
       "    </tr>\n",
       "    <tr>\n",
       "      <th>2024-02-04</th>\n",
       "      <td>12.2</td>\n",
       "      <td>13.8</td>\n",
       "      <td>14.2</td>\n",
       "      <td>41.6</td>\n",
       "      <td>10.4</td>\n",
       "      <td>16.4</td>\n",
       "      <td>10.2</td>\n",
       "      <td>49.6</td>\n",
       "      <td>6.8</td>\n",
       "      <td>3.2</td>\n",
       "      <td>16.4</td>\n",
       "      <td>14.2</td>\n",
       "      <td>113.8</td>\n",
       "      <td>14.6</td>\n",
       "      <td>11.6</td>\n",
       "      <td>14.8</td>\n",
       "      <td>44.8</td>\n",
       "      <td>17.8</td>\n",
       "      <td>14.2</td>\n",
       "      <td>16.0</td>\n",
       "      <td>52.4</td>\n",
       "      <td>5.8</td>\n",
       "      <td>7.4</td>\n",
       "      <td>18.0</td>\n",
       "      <td>17.6</td>\n",
       "      <td>104.4</td>\n",
       "      <td>222</td>\n",
       "    </tr>\n",
       "  </tbody>\n",
       "</table>\n",
       "</div>"
      ],
      "text/plain": [
       "            ROLL_HOME_PTS_OFF_TOV  ROLL_HOME_PTS_2ND_CHANCE  ROLL_HOME_PTS_FB  \\\n",
       "GAME_DATE                                                                       \n",
       "2024-02-03                   14.8                      14.2              19.4   \n",
       "2024-02-04                   13.8                      11.0              15.4   \n",
       "2024-02-04                   12.6                      13.0              10.2   \n",
       "2024-02-04                   15.2                      10.8              15.4   \n",
       "2024-02-04                   12.2                      13.8              14.2   \n",
       "\n",
       "            ROLL_HOME_PTS_PAINT  ROLL_HOME_OPP_PTS_OFF_TOV  \\\n",
       "GAME_DATE                                                    \n",
       "2024-02-03                 54.0                       19.4   \n",
       "2024-02-04                 56.8                       18.6   \n",
       "2024-02-04                 50.0                       17.0   \n",
       "2024-02-04                 48.0                       17.6   \n",
       "2024-02-04                 41.6                       10.4   \n",
       "\n",
       "            ROLL_HOME_OPP_PTS_2ND_CHANCE  ROLL_HOME_OPP_PTS_FB  \\\n",
       "GAME_DATE                                                        \n",
       "2024-02-03                          14.2                  13.2   \n",
       "2024-02-04                          17.8                  17.8   \n",
       "2024-02-04                          15.8                  14.0   \n",
       "2024-02-04                          13.2                  10.8   \n",
       "2024-02-04                          16.4                  10.2   \n",
       "\n",
       "            ROLL_HOME_OPP_PTS_PAINT  ROLL_HOME_BLK  ROLL_HOME_BLKA  \\\n",
       "GAME_DATE                                                            \n",
       "2024-02-03                     58.0            7.6             5.0   \n",
       "2024-02-04                     60.8            6.6             5.6   \n",
       "2024-02-04                     53.6            4.4             5.4   \n",
       "2024-02-04                     61.2            6.4             6.4   \n",
       "2024-02-04                     49.6            6.8             3.2   \n",
       "\n",
       "            ROLL_HOME_PF  ROLL_HOME_PFD  ROLL_HOME_PTS  ROLL_AWAY_PTS_OFF_TOV  \\\n",
       "GAME_DATE                                                                       \n",
       "2024-02-03          15.6           17.0          110.6                   15.8   \n",
       "2024-02-04          20.6           18.2          106.0                   13.2   \n",
       "2024-02-04          18.2           20.4          115.0                   21.0   \n",
       "2024-02-04          19.8           15.8          103.4                   13.6   \n",
       "2024-02-04          16.4           14.2          113.8                   14.6   \n",
       "\n",
       "            ROLL_AWAY_PTS_2ND_CHANCE  ROLL_AWAY_PTS_FB  ROLL_AWAY_PTS_PAINT  \\\n",
       "GAME_DATE                                                                     \n",
       "2024-02-03                      11.2              16.4                 46.0   \n",
       "2024-02-04                      12.8              16.2                 52.0   \n",
       "2024-02-04                      16.4              15.8                 52.0   \n",
       "2024-02-04                      15.8              12.0                 49.6   \n",
       "2024-02-04                      11.6              14.8                 44.8   \n",
       "\n",
       "            ROLL_AWAY_OPP_PTS_OFF_TOV  ROLL_AWAY_OPP_PTS_2ND_CHANCE  \\\n",
       "GAME_DATE                                                             \n",
       "2024-02-03                       17.6                          10.4   \n",
       "2024-02-04                       18.0                          18.6   \n",
       "2024-02-04                       12.4                          10.6   \n",
       "2024-02-04                       15.0                          12.0   \n",
       "2024-02-04                       17.8                          14.2   \n",
       "\n",
       "            ROLL_AWAY_OPP_PTS_FB  ROLL_AWAY_OPP_PTS_PAINT  ROLL_AWAY_BLK  \\\n",
       "GAME_DATE                                                                  \n",
       "2024-02-03                  12.4                     42.4            5.6   \n",
       "2024-02-04                  15.2                     54.8            5.8   \n",
       "2024-02-04                  13.0                     50.0            4.4   \n",
       "2024-02-04                  14.8                     58.0            5.4   \n",
       "2024-02-04                  16.0                     52.4            5.8   \n",
       "\n",
       "            ROLL_AWAY_BLKA  ROLL_AWAY_PF  ROLL_AWAY_PFD  ROLL_AWAY_PTS  \\\n",
       "GAME_DATE                                                                \n",
       "2024-02-03             4.6          18.4           18.2          115.6   \n",
       "2024-02-04             4.0          16.2           18.6          120.6   \n",
       "2024-02-04             5.0          21.2           20.4          111.0   \n",
       "2024-02-04             7.6          22.4           19.0          116.0   \n",
       "2024-02-04             7.4          18.0           17.6          104.4   \n",
       "\n",
       "            TOTAL_PTS  \n",
       "GAME_DATE              \n",
       "2024-02-03        218  \n",
       "2024-02-04        252  \n",
       "2024-02-04        210  \n",
       "2024-02-04        214  \n",
       "2024-02-04        222  "
      ]
     },
     "execution_count": 4,
     "metadata": {},
     "output_type": "execute_result"
    }
   ],
   "source": [
    "pts_scaled_df.tail()"
   ]
  },
  {
   "cell_type": "code",
   "execution_count": 5,
   "id": "ae11cabd-3671-4c64-a62f-11ea2d5646e5",
   "metadata": {},
   "outputs": [
    {
     "data": {
      "text/html": [
       "<div>\n",
       "<style scoped>\n",
       "    .dataframe tbody tr th:only-of-type {\n",
       "        vertical-align: middle;\n",
       "    }\n",
       "\n",
       "    .dataframe tbody tr th {\n",
       "        vertical-align: top;\n",
       "    }\n",
       "\n",
       "    .dataframe thead th {\n",
       "        text-align: right;\n",
       "    }\n",
       "</style>\n",
       "<table border=\"1\" class=\"dataframe\">\n",
       "  <thead>\n",
       "    <tr style=\"text-align: right;\">\n",
       "      <th></th>\n",
       "      <th>ROLL_HOME_PTS_OFF_TOV</th>\n",
       "      <th>ROLL_HOME_PTS_2ND_CHANCE</th>\n",
       "      <th>ROLL_HOME_PTS_FB</th>\n",
       "      <th>ROLL_HOME_PTS_PAINT</th>\n",
       "      <th>ROLL_HOME_OPP_PTS_OFF_TOV</th>\n",
       "      <th>ROLL_HOME_OPP_PTS_2ND_CHANCE</th>\n",
       "      <th>ROLL_HOME_OPP_PTS_FB</th>\n",
       "      <th>ROLL_HOME_OPP_PTS_PAINT</th>\n",
       "      <th>ROLL_HOME_BLK</th>\n",
       "      <th>ROLL_HOME_BLKA</th>\n",
       "      <th>ROLL_HOME_PF</th>\n",
       "      <th>ROLL_HOME_PFD</th>\n",
       "      <th>ROLL_HOME_PTS</th>\n",
       "      <th>ROLL_AWAY_PTS_OFF_TOV</th>\n",
       "      <th>ROLL_AWAY_PTS_2ND_CHANCE</th>\n",
       "      <th>ROLL_AWAY_PTS_FB</th>\n",
       "      <th>ROLL_AWAY_PTS_PAINT</th>\n",
       "      <th>ROLL_AWAY_OPP_PTS_OFF_TOV</th>\n",
       "      <th>ROLL_AWAY_OPP_PTS_2ND_CHANCE</th>\n",
       "      <th>ROLL_AWAY_OPP_PTS_FB</th>\n",
       "      <th>ROLL_AWAY_OPP_PTS_PAINT</th>\n",
       "      <th>ROLL_AWAY_BLK</th>\n",
       "      <th>ROLL_AWAY_BLKA</th>\n",
       "      <th>ROLL_AWAY_PF</th>\n",
       "      <th>ROLL_AWAY_PFD</th>\n",
       "      <th>ROLL_AWAY_PTS</th>\n",
       "      <th>PLUS_MINUS</th>\n",
       "    </tr>\n",
       "    <tr>\n",
       "      <th>GAME_DATE</th>\n",
       "      <th></th>\n",
       "      <th></th>\n",
       "      <th></th>\n",
       "      <th></th>\n",
       "      <th></th>\n",
       "      <th></th>\n",
       "      <th></th>\n",
       "      <th></th>\n",
       "      <th></th>\n",
       "      <th></th>\n",
       "      <th></th>\n",
       "      <th></th>\n",
       "      <th></th>\n",
       "      <th></th>\n",
       "      <th></th>\n",
       "      <th></th>\n",
       "      <th></th>\n",
       "      <th></th>\n",
       "      <th></th>\n",
       "      <th></th>\n",
       "      <th></th>\n",
       "      <th></th>\n",
       "      <th></th>\n",
       "      <th></th>\n",
       "      <th></th>\n",
       "      <th></th>\n",
       "      <th></th>\n",
       "    </tr>\n",
       "  </thead>\n",
       "  <tbody>\n",
       "    <tr>\n",
       "      <th>2021-10-23</th>\n",
       "      <td>9.0</td>\n",
       "      <td>11.0</td>\n",
       "      <td>2.0</td>\n",
       "      <td>58.0</td>\n",
       "      <td>18.0</td>\n",
       "      <td>12.0</td>\n",
       "      <td>20.0</td>\n",
       "      <td>46.0</td>\n",
       "      <td>5.0</td>\n",
       "      <td>4.0</td>\n",
       "      <td>22.0</td>\n",
       "      <td>22.0</td>\n",
       "      <td>121.0</td>\n",
       "      <td>15.0</td>\n",
       "      <td>5.0</td>\n",
       "      <td>5.0</td>\n",
       "      <td>52.0</td>\n",
       "      <td>19.0</td>\n",
       "      <td>11.0</td>\n",
       "      <td>5.0</td>\n",
       "      <td>26.0</td>\n",
       "      <td>2.0</td>\n",
       "      <td>3.0</td>\n",
       "      <td>22.0</td>\n",
       "      <td>26.0</td>\n",
       "      <td>115.0</td>\n",
       "      <td>29.0</td>\n",
       "    </tr>\n",
       "    <tr>\n",
       "      <th>2021-10-23</th>\n",
       "      <td>38.0</td>\n",
       "      <td>15.0</td>\n",
       "      <td>31.0</td>\n",
       "      <td>50.0</td>\n",
       "      <td>21.0</td>\n",
       "      <td>17.0</td>\n",
       "      <td>13.0</td>\n",
       "      <td>58.0</td>\n",
       "      <td>12.0</td>\n",
       "      <td>3.0</td>\n",
       "      <td>22.0</td>\n",
       "      <td>25.0</td>\n",
       "      <td>124.0</td>\n",
       "      <td>21.0</td>\n",
       "      <td>10.0</td>\n",
       "      <td>16.0</td>\n",
       "      <td>44.0</td>\n",
       "      <td>27.0</td>\n",
       "      <td>18.0</td>\n",
       "      <td>24.0</td>\n",
       "      <td>54.0</td>\n",
       "      <td>5.0</td>\n",
       "      <td>7.0</td>\n",
       "      <td>20.0</td>\n",
       "      <td>14.0</td>\n",
       "      <td>112.0</td>\n",
       "      <td>7.0</td>\n",
       "    </tr>\n",
       "    <tr>\n",
       "      <th>2021-10-23</th>\n",
       "      <td>21.0</td>\n",
       "      <td>19.0</td>\n",
       "      <td>26.0</td>\n",
       "      <td>58.0</td>\n",
       "      <td>7.0</td>\n",
       "      <td>20.0</td>\n",
       "      <td>6.0</td>\n",
       "      <td>50.0</td>\n",
       "      <td>3.0</td>\n",
       "      <td>6.0</td>\n",
       "      <td>22.0</td>\n",
       "      <td>20.0</td>\n",
       "      <td>123.0</td>\n",
       "      <td>5.0</td>\n",
       "      <td>3.0</td>\n",
       "      <td>2.0</td>\n",
       "      <td>38.0</td>\n",
       "      <td>21.0</td>\n",
       "      <td>15.0</td>\n",
       "      <td>22.0</td>\n",
       "      <td>60.0</td>\n",
       "      <td>0.0</td>\n",
       "      <td>2.0</td>\n",
       "      <td>26.0</td>\n",
       "      <td>26.0</td>\n",
       "      <td>95.0</td>\n",
       "      <td>-10.0</td>\n",
       "    </tr>\n",
       "    <tr>\n",
       "      <th>2021-10-23</th>\n",
       "      <td>17.0</td>\n",
       "      <td>11.0</td>\n",
       "      <td>18.0</td>\n",
       "      <td>40.0</td>\n",
       "      <td>18.0</td>\n",
       "      <td>11.0</td>\n",
       "      <td>8.0</td>\n",
       "      <td>56.0</td>\n",
       "      <td>4.0</td>\n",
       "      <td>8.0</td>\n",
       "      <td>21.0</td>\n",
       "      <td>17.0</td>\n",
       "      <td>83.0</td>\n",
       "      <td>14.0</td>\n",
       "      <td>2.0</td>\n",
       "      <td>7.0</td>\n",
       "      <td>26.0</td>\n",
       "      <td>9.0</td>\n",
       "      <td>8.0</td>\n",
       "      <td>11.0</td>\n",
       "      <td>46.0</td>\n",
       "      <td>3.0</td>\n",
       "      <td>9.0</td>\n",
       "      <td>21.0</td>\n",
       "      <td>16.0</td>\n",
       "      <td>87.0</td>\n",
       "      <td>-8.0</td>\n",
       "    </tr>\n",
       "    <tr>\n",
       "      <th>2021-10-24</th>\n",
       "      <td>21.0</td>\n",
       "      <td>21.0</td>\n",
       "      <td>17.0</td>\n",
       "      <td>58.0</td>\n",
       "      <td>14.0</td>\n",
       "      <td>11.0</td>\n",
       "      <td>13.0</td>\n",
       "      <td>34.0</td>\n",
       "      <td>10.0</td>\n",
       "      <td>4.0</td>\n",
       "      <td>18.0</td>\n",
       "      <td>21.0</td>\n",
       "      <td>124.0</td>\n",
       "      <td>17.0</td>\n",
       "      <td>9.0</td>\n",
       "      <td>19.0</td>\n",
       "      <td>42.0</td>\n",
       "      <td>17.0</td>\n",
       "      <td>14.0</td>\n",
       "      <td>14.0</td>\n",
       "      <td>60.0</td>\n",
       "      <td>9.0</td>\n",
       "      <td>10.0</td>\n",
       "      <td>24.0</td>\n",
       "      <td>22.0</td>\n",
       "      <td>134.0</td>\n",
       "      <td>-10.0</td>\n",
       "    </tr>\n",
       "  </tbody>\n",
       "</table>\n",
       "</div>"
      ],
      "text/plain": [
       "            ROLL_HOME_PTS_OFF_TOV  ROLL_HOME_PTS_2ND_CHANCE  ROLL_HOME_PTS_FB  \\\n",
       "GAME_DATE                                                                       \n",
       "2021-10-23                    9.0                      11.0               2.0   \n",
       "2021-10-23                   38.0                      15.0              31.0   \n",
       "2021-10-23                   21.0                      19.0              26.0   \n",
       "2021-10-23                   17.0                      11.0              18.0   \n",
       "2021-10-24                   21.0                      21.0              17.0   \n",
       "\n",
       "            ROLL_HOME_PTS_PAINT  ROLL_HOME_OPP_PTS_OFF_TOV  \\\n",
       "GAME_DATE                                                    \n",
       "2021-10-23                 58.0                       18.0   \n",
       "2021-10-23                 50.0                       21.0   \n",
       "2021-10-23                 58.0                        7.0   \n",
       "2021-10-23                 40.0                       18.0   \n",
       "2021-10-24                 58.0                       14.0   \n",
       "\n",
       "            ROLL_HOME_OPP_PTS_2ND_CHANCE  ROLL_HOME_OPP_PTS_FB  \\\n",
       "GAME_DATE                                                        \n",
       "2021-10-23                          12.0                  20.0   \n",
       "2021-10-23                          17.0                  13.0   \n",
       "2021-10-23                          20.0                   6.0   \n",
       "2021-10-23                          11.0                   8.0   \n",
       "2021-10-24                          11.0                  13.0   \n",
       "\n",
       "            ROLL_HOME_OPP_PTS_PAINT  ROLL_HOME_BLK  ROLL_HOME_BLKA  \\\n",
       "GAME_DATE                                                            \n",
       "2021-10-23                     46.0            5.0             4.0   \n",
       "2021-10-23                     58.0           12.0             3.0   \n",
       "2021-10-23                     50.0            3.0             6.0   \n",
       "2021-10-23                     56.0            4.0             8.0   \n",
       "2021-10-24                     34.0           10.0             4.0   \n",
       "\n",
       "            ROLL_HOME_PF  ROLL_HOME_PFD  ROLL_HOME_PTS  ROLL_AWAY_PTS_OFF_TOV  \\\n",
       "GAME_DATE                                                                       \n",
       "2021-10-23          22.0           22.0          121.0                   15.0   \n",
       "2021-10-23          22.0           25.0          124.0                   21.0   \n",
       "2021-10-23          22.0           20.0          123.0                    5.0   \n",
       "2021-10-23          21.0           17.0           83.0                   14.0   \n",
       "2021-10-24          18.0           21.0          124.0                   17.0   \n",
       "\n",
       "            ROLL_AWAY_PTS_2ND_CHANCE  ROLL_AWAY_PTS_FB  ROLL_AWAY_PTS_PAINT  \\\n",
       "GAME_DATE                                                                     \n",
       "2021-10-23                       5.0               5.0                 52.0   \n",
       "2021-10-23                      10.0              16.0                 44.0   \n",
       "2021-10-23                       3.0               2.0                 38.0   \n",
       "2021-10-23                       2.0               7.0                 26.0   \n",
       "2021-10-24                       9.0              19.0                 42.0   \n",
       "\n",
       "            ROLL_AWAY_OPP_PTS_OFF_TOV  ROLL_AWAY_OPP_PTS_2ND_CHANCE  \\\n",
       "GAME_DATE                                                             \n",
       "2021-10-23                       19.0                          11.0   \n",
       "2021-10-23                       27.0                          18.0   \n",
       "2021-10-23                       21.0                          15.0   \n",
       "2021-10-23                        9.0                           8.0   \n",
       "2021-10-24                       17.0                          14.0   \n",
       "\n",
       "            ROLL_AWAY_OPP_PTS_FB  ROLL_AWAY_OPP_PTS_PAINT  ROLL_AWAY_BLK  \\\n",
       "GAME_DATE                                                                  \n",
       "2021-10-23                   5.0                     26.0            2.0   \n",
       "2021-10-23                  24.0                     54.0            5.0   \n",
       "2021-10-23                  22.0                     60.0            0.0   \n",
       "2021-10-23                  11.0                     46.0            3.0   \n",
       "2021-10-24                  14.0                     60.0            9.0   \n",
       "\n",
       "            ROLL_AWAY_BLKA  ROLL_AWAY_PF  ROLL_AWAY_PFD  ROLL_AWAY_PTS  \\\n",
       "GAME_DATE                                                                \n",
       "2021-10-23             3.0          22.0           26.0          115.0   \n",
       "2021-10-23             7.0          20.0           14.0          112.0   \n",
       "2021-10-23             2.0          26.0           26.0           95.0   \n",
       "2021-10-23             9.0          21.0           16.0           87.0   \n",
       "2021-10-24            10.0          24.0           22.0          134.0   \n",
       "\n",
       "            PLUS_MINUS  \n",
       "GAME_DATE               \n",
       "2021-10-23        29.0  \n",
       "2021-10-23         7.0  \n",
       "2021-10-23       -10.0  \n",
       "2021-10-23        -8.0  \n",
       "2021-10-24       -10.0  "
      ]
     },
     "execution_count": 5,
     "metadata": {},
     "output_type": "execute_result"
    }
   ],
   "source": [
    "pm_scaled_df.head()"
   ]
  },
  {
   "cell_type": "code",
   "execution_count": 6,
   "id": "e6c377e3-c3b3-433c-87b2-73a550c1bfdd",
   "metadata": {},
   "outputs": [
    {
     "data": {
      "text/html": [
       "<div>\n",
       "<style scoped>\n",
       "    .dataframe tbody tr th:only-of-type {\n",
       "        vertical-align: middle;\n",
       "    }\n",
       "\n",
       "    .dataframe tbody tr th {\n",
       "        vertical-align: top;\n",
       "    }\n",
       "\n",
       "    .dataframe thead th {\n",
       "        text-align: right;\n",
       "    }\n",
       "</style>\n",
       "<table border=\"1\" class=\"dataframe\">\n",
       "  <thead>\n",
       "    <tr style=\"text-align: right;\">\n",
       "      <th></th>\n",
       "      <th>ROLL_HOME_PTS_OFF_TOV</th>\n",
       "      <th>ROLL_HOME_PTS_2ND_CHANCE</th>\n",
       "      <th>ROLL_HOME_PTS_FB</th>\n",
       "      <th>ROLL_HOME_PTS_PAINT</th>\n",
       "      <th>ROLL_HOME_OPP_PTS_OFF_TOV</th>\n",
       "      <th>ROLL_HOME_OPP_PTS_2ND_CHANCE</th>\n",
       "      <th>ROLL_HOME_OPP_PTS_FB</th>\n",
       "      <th>ROLL_HOME_OPP_PTS_PAINT</th>\n",
       "      <th>ROLL_HOME_BLK</th>\n",
       "      <th>ROLL_HOME_BLKA</th>\n",
       "      <th>ROLL_HOME_PF</th>\n",
       "      <th>ROLL_HOME_PFD</th>\n",
       "      <th>ROLL_HOME_PTS</th>\n",
       "      <th>ROLL_AWAY_PTS_OFF_TOV</th>\n",
       "      <th>ROLL_AWAY_PTS_2ND_CHANCE</th>\n",
       "      <th>ROLL_AWAY_PTS_FB</th>\n",
       "      <th>ROLL_AWAY_PTS_PAINT</th>\n",
       "      <th>ROLL_AWAY_OPP_PTS_OFF_TOV</th>\n",
       "      <th>ROLL_AWAY_OPP_PTS_2ND_CHANCE</th>\n",
       "      <th>ROLL_AWAY_OPP_PTS_FB</th>\n",
       "      <th>ROLL_AWAY_OPP_PTS_PAINT</th>\n",
       "      <th>ROLL_AWAY_BLK</th>\n",
       "      <th>ROLL_AWAY_BLKA</th>\n",
       "      <th>ROLL_AWAY_PF</th>\n",
       "      <th>ROLL_AWAY_PFD</th>\n",
       "      <th>ROLL_AWAY_PTS</th>\n",
       "      <th>GAME_RESULT</th>\n",
       "    </tr>\n",
       "    <tr>\n",
       "      <th>GAME_DATE</th>\n",
       "      <th></th>\n",
       "      <th></th>\n",
       "      <th></th>\n",
       "      <th></th>\n",
       "      <th></th>\n",
       "      <th></th>\n",
       "      <th></th>\n",
       "      <th></th>\n",
       "      <th></th>\n",
       "      <th></th>\n",
       "      <th></th>\n",
       "      <th></th>\n",
       "      <th></th>\n",
       "      <th></th>\n",
       "      <th></th>\n",
       "      <th></th>\n",
       "      <th></th>\n",
       "      <th></th>\n",
       "      <th></th>\n",
       "      <th></th>\n",
       "      <th></th>\n",
       "      <th></th>\n",
       "      <th></th>\n",
       "      <th></th>\n",
       "      <th></th>\n",
       "      <th></th>\n",
       "      <th></th>\n",
       "    </tr>\n",
       "  </thead>\n",
       "  <tbody>\n",
       "    <tr>\n",
       "      <th>2024-02-03</th>\n",
       "      <td>14.8</td>\n",
       "      <td>14.2</td>\n",
       "      <td>19.4</td>\n",
       "      <td>54.0</td>\n",
       "      <td>19.4</td>\n",
       "      <td>14.2</td>\n",
       "      <td>13.2</td>\n",
       "      <td>58.0</td>\n",
       "      <td>7.6</td>\n",
       "      <td>5.0</td>\n",
       "      <td>15.6</td>\n",
       "      <td>17.0</td>\n",
       "      <td>110.6</td>\n",
       "      <td>15.8</td>\n",
       "      <td>11.2</td>\n",
       "      <td>16.4</td>\n",
       "      <td>46.0</td>\n",
       "      <td>17.6</td>\n",
       "      <td>10.4</td>\n",
       "      <td>12.4</td>\n",
       "      <td>42.4</td>\n",
       "      <td>5.6</td>\n",
       "      <td>4.6</td>\n",
       "      <td>18.4</td>\n",
       "      <td>18.2</td>\n",
       "      <td>115.6</td>\n",
       "      <td>0</td>\n",
       "    </tr>\n",
       "    <tr>\n",
       "      <th>2024-02-04</th>\n",
       "      <td>13.8</td>\n",
       "      <td>11.0</td>\n",
       "      <td>15.4</td>\n",
       "      <td>56.8</td>\n",
       "      <td>18.6</td>\n",
       "      <td>17.8</td>\n",
       "      <td>17.8</td>\n",
       "      <td>60.8</td>\n",
       "      <td>6.6</td>\n",
       "      <td>5.6</td>\n",
       "      <td>20.6</td>\n",
       "      <td>18.2</td>\n",
       "      <td>106.0</td>\n",
       "      <td>13.2</td>\n",
       "      <td>12.8</td>\n",
       "      <td>16.2</td>\n",
       "      <td>52.0</td>\n",
       "      <td>18.0</td>\n",
       "      <td>18.6</td>\n",
       "      <td>15.2</td>\n",
       "      <td>54.8</td>\n",
       "      <td>5.8</td>\n",
       "      <td>4.0</td>\n",
       "      <td>16.2</td>\n",
       "      <td>18.6</td>\n",
       "      <td>120.6</td>\n",
       "      <td>0</td>\n",
       "    </tr>\n",
       "    <tr>\n",
       "      <th>2024-02-04</th>\n",
       "      <td>12.6</td>\n",
       "      <td>13.0</td>\n",
       "      <td>10.2</td>\n",
       "      <td>50.0</td>\n",
       "      <td>17.0</td>\n",
       "      <td>15.8</td>\n",
       "      <td>14.0</td>\n",
       "      <td>53.6</td>\n",
       "      <td>4.4</td>\n",
       "      <td>5.4</td>\n",
       "      <td>18.2</td>\n",
       "      <td>20.4</td>\n",
       "      <td>115.0</td>\n",
       "      <td>21.0</td>\n",
       "      <td>16.4</td>\n",
       "      <td>15.8</td>\n",
       "      <td>52.0</td>\n",
       "      <td>12.4</td>\n",
       "      <td>10.6</td>\n",
       "      <td>13.0</td>\n",
       "      <td>50.0</td>\n",
       "      <td>4.4</td>\n",
       "      <td>5.0</td>\n",
       "      <td>21.2</td>\n",
       "      <td>20.4</td>\n",
       "      <td>111.0</td>\n",
       "      <td>0</td>\n",
       "    </tr>\n",
       "    <tr>\n",
       "      <th>2024-02-04</th>\n",
       "      <td>15.2</td>\n",
       "      <td>10.8</td>\n",
       "      <td>15.4</td>\n",
       "      <td>48.0</td>\n",
       "      <td>17.6</td>\n",
       "      <td>13.2</td>\n",
       "      <td>10.8</td>\n",
       "      <td>61.2</td>\n",
       "      <td>6.4</td>\n",
       "      <td>6.4</td>\n",
       "      <td>19.8</td>\n",
       "      <td>15.8</td>\n",
       "      <td>103.4</td>\n",
       "      <td>13.6</td>\n",
       "      <td>15.8</td>\n",
       "      <td>12.0</td>\n",
       "      <td>49.6</td>\n",
       "      <td>15.0</td>\n",
       "      <td>12.0</td>\n",
       "      <td>14.8</td>\n",
       "      <td>58.0</td>\n",
       "      <td>5.4</td>\n",
       "      <td>7.6</td>\n",
       "      <td>22.4</td>\n",
       "      <td>19.0</td>\n",
       "      <td>116.0</td>\n",
       "      <td>0</td>\n",
       "    </tr>\n",
       "    <tr>\n",
       "      <th>2024-02-04</th>\n",
       "      <td>12.2</td>\n",
       "      <td>13.8</td>\n",
       "      <td>14.2</td>\n",
       "      <td>41.6</td>\n",
       "      <td>10.4</td>\n",
       "      <td>16.4</td>\n",
       "      <td>10.2</td>\n",
       "      <td>49.6</td>\n",
       "      <td>6.8</td>\n",
       "      <td>3.2</td>\n",
       "      <td>16.4</td>\n",
       "      <td>14.2</td>\n",
       "      <td>113.8</td>\n",
       "      <td>14.6</td>\n",
       "      <td>11.6</td>\n",
       "      <td>14.8</td>\n",
       "      <td>44.8</td>\n",
       "      <td>17.8</td>\n",
       "      <td>14.2</td>\n",
       "      <td>16.0</td>\n",
       "      <td>52.4</td>\n",
       "      <td>5.8</td>\n",
       "      <td>7.4</td>\n",
       "      <td>18.0</td>\n",
       "      <td>17.6</td>\n",
       "      <td>104.4</td>\n",
       "      <td>1</td>\n",
       "    </tr>\n",
       "  </tbody>\n",
       "</table>\n",
       "</div>"
      ],
      "text/plain": [
       "            ROLL_HOME_PTS_OFF_TOV  ROLL_HOME_PTS_2ND_CHANCE  ROLL_HOME_PTS_FB  \\\n",
       "GAME_DATE                                                                       \n",
       "2024-02-03                   14.8                      14.2              19.4   \n",
       "2024-02-04                   13.8                      11.0              15.4   \n",
       "2024-02-04                   12.6                      13.0              10.2   \n",
       "2024-02-04                   15.2                      10.8              15.4   \n",
       "2024-02-04                   12.2                      13.8              14.2   \n",
       "\n",
       "            ROLL_HOME_PTS_PAINT  ROLL_HOME_OPP_PTS_OFF_TOV  \\\n",
       "GAME_DATE                                                    \n",
       "2024-02-03                 54.0                       19.4   \n",
       "2024-02-04                 56.8                       18.6   \n",
       "2024-02-04                 50.0                       17.0   \n",
       "2024-02-04                 48.0                       17.6   \n",
       "2024-02-04                 41.6                       10.4   \n",
       "\n",
       "            ROLL_HOME_OPP_PTS_2ND_CHANCE  ROLL_HOME_OPP_PTS_FB  \\\n",
       "GAME_DATE                                                        \n",
       "2024-02-03                          14.2                  13.2   \n",
       "2024-02-04                          17.8                  17.8   \n",
       "2024-02-04                          15.8                  14.0   \n",
       "2024-02-04                          13.2                  10.8   \n",
       "2024-02-04                          16.4                  10.2   \n",
       "\n",
       "            ROLL_HOME_OPP_PTS_PAINT  ROLL_HOME_BLK  ROLL_HOME_BLKA  \\\n",
       "GAME_DATE                                                            \n",
       "2024-02-03                     58.0            7.6             5.0   \n",
       "2024-02-04                     60.8            6.6             5.6   \n",
       "2024-02-04                     53.6            4.4             5.4   \n",
       "2024-02-04                     61.2            6.4             6.4   \n",
       "2024-02-04                     49.6            6.8             3.2   \n",
       "\n",
       "            ROLL_HOME_PF  ROLL_HOME_PFD  ROLL_HOME_PTS  ROLL_AWAY_PTS_OFF_TOV  \\\n",
       "GAME_DATE                                                                       \n",
       "2024-02-03          15.6           17.0          110.6                   15.8   \n",
       "2024-02-04          20.6           18.2          106.0                   13.2   \n",
       "2024-02-04          18.2           20.4          115.0                   21.0   \n",
       "2024-02-04          19.8           15.8          103.4                   13.6   \n",
       "2024-02-04          16.4           14.2          113.8                   14.6   \n",
       "\n",
       "            ROLL_AWAY_PTS_2ND_CHANCE  ROLL_AWAY_PTS_FB  ROLL_AWAY_PTS_PAINT  \\\n",
       "GAME_DATE                                                                     \n",
       "2024-02-03                      11.2              16.4                 46.0   \n",
       "2024-02-04                      12.8              16.2                 52.0   \n",
       "2024-02-04                      16.4              15.8                 52.0   \n",
       "2024-02-04                      15.8              12.0                 49.6   \n",
       "2024-02-04                      11.6              14.8                 44.8   \n",
       "\n",
       "            ROLL_AWAY_OPP_PTS_OFF_TOV  ROLL_AWAY_OPP_PTS_2ND_CHANCE  \\\n",
       "GAME_DATE                                                             \n",
       "2024-02-03                       17.6                          10.4   \n",
       "2024-02-04                       18.0                          18.6   \n",
       "2024-02-04                       12.4                          10.6   \n",
       "2024-02-04                       15.0                          12.0   \n",
       "2024-02-04                       17.8                          14.2   \n",
       "\n",
       "            ROLL_AWAY_OPP_PTS_FB  ROLL_AWAY_OPP_PTS_PAINT  ROLL_AWAY_BLK  \\\n",
       "GAME_DATE                                                                  \n",
       "2024-02-03                  12.4                     42.4            5.6   \n",
       "2024-02-04                  15.2                     54.8            5.8   \n",
       "2024-02-04                  13.0                     50.0            4.4   \n",
       "2024-02-04                  14.8                     58.0            5.4   \n",
       "2024-02-04                  16.0                     52.4            5.8   \n",
       "\n",
       "            ROLL_AWAY_BLKA  ROLL_AWAY_PF  ROLL_AWAY_PFD  ROLL_AWAY_PTS  \\\n",
       "GAME_DATE                                                                \n",
       "2024-02-03             4.6          18.4           18.2          115.6   \n",
       "2024-02-04             4.0          16.2           18.6          120.6   \n",
       "2024-02-04             5.0          21.2           20.4          111.0   \n",
       "2024-02-04             7.6          22.4           19.0          116.0   \n",
       "2024-02-04             7.4          18.0           17.6          104.4   \n",
       "\n",
       "            GAME_RESULT  \n",
       "GAME_DATE                \n",
       "2024-02-03            0  \n",
       "2024-02-04            0  \n",
       "2024-02-04            0  \n",
       "2024-02-04            0  \n",
       "2024-02-04            1  "
      ]
     },
     "execution_count": 6,
     "metadata": {},
     "output_type": "execute_result"
    }
   ],
   "source": [
    "res_scaled_df.tail()"
   ]
  },
  {
   "cell_type": "markdown",
   "id": "64cc93aa-3540-4272-85d6-6235f76ffd2c",
   "metadata": {
    "jp-MarkdownHeadingCollapsed": true
   },
   "source": [
    "# Inspect Training Windows\n",
    "\n",
    "[Return to top](#Baseline-Models)"
   ]
  },
  {
   "cell_type": "markdown",
   "id": "1a6f87ea-82e9-45de-a165-d85e62e67e80",
   "metadata": {
    "jp-MarkdownHeadingCollapsed": true
   },
   "source": [
    "## Expanding\n",
    "\n",
    "[Return to top](#Baseline-Models)"
   ]
  },
  {
   "cell_type": "code",
   "execution_count": 7,
   "id": "635c59a5-529a-4d25-835c-f5af36a94204",
   "metadata": {},
   "outputs": [
    {
     "name": "stdout",
     "output_type": "stream",
     "text": [
      "TRAIN: [0 1 2 3 4 5 6 7 8 9] TEST: [10]\n",
      "TRAIN: [ 0  1  2  3  4  5  6  7  8  9 10] TEST: [11]\n",
      "TRAIN: [ 0  1  2  3  4  5  6  7  8  9 10 11] TEST: [12]\n",
      "TRAIN: [ 0  1  2  3  4  5  6  7  8  9 10 11 12] TEST: [13]\n",
      "TRAIN: [ 0  1  2  3  4  5  6  7  8  9 10 11 12 13] TEST: [14]\n",
      "TRAIN: [ 0  1  2  3  4  5  6  7  8  9 10 11 12 13 14] TEST: [15]\n",
      "TRAIN: [ 0  1  2  3  4  5  6  7  8  9 10 11 12 13 14 15] TEST: [16]\n",
      "TRAIN: [ 0  1  2  3  4  5  6  7  8  9 10 11 12 13 14 15 16] TEST: [17]\n",
      "TRAIN: [ 0  1  2  3  4  5  6  7  8  9 10 11 12 13 14 15 16 17] TEST: [18]\n",
      "TRAIN: [ 0  1  2  3  4  5  6  7  8  9 10 11 12 13 14 15 16 17 18] TEST: [19]\n",
      "TRAIN: [ 0  1  2  3  4  5  6  7  8  9 10 11 12 13 14 15 16 17 18 19] TEST: [20]\n",
      "TRAIN: [ 0  1  2  3  4  5  6  7  8  9 10 11 12 13 14 15 16 17 18 19 20] TEST: [21]\n",
      "TRAIN: [ 0  1  2  3  4  5  6  7  8  9 10 11 12 13 14 15 16 17 18 19 20 21] TEST: [22]\n",
      "TRAIN: [ 0  1  2  3  4  5  6  7  8  9 10 11 12 13 14 15 16 17 18 19 20 21 22] TEST: [23]\n",
      "TRAIN: [ 0  1  2  3  4  5  6  7  8  9 10 11 12 13 14 15 16 17 18 19 20 21 22 23] TEST: [24]\n"
     ]
    }
   ],
   "source": [
    "# expanding window configuration\n",
    "initial_train_size = 10  # starting size of the training set\n",
    "test_size = 1            # leave-one-out (LOO) cross-validation\n",
    "gap_size=0               # should there be a gap between train and test sets?\n",
    "expansion_limit=None     # the limit on the test set observations\n",
    "\n",
    "counter = 0\n",
    "max_splits_to_show = 15\n",
    "\n",
    "# show first few splits\n",
    "for train_indices, test_indices in utl.expanding_window_ts_split(pts_scaled_df, initial_train_size, \n",
    "                                                                 test_size=test_size, gap_size=gap_size,\n",
    "                                                                 expansion_limit=expansion_limit):\n",
    "    print(\"TRAIN:\", train_indices, \"TEST:\", test_indices)\n",
    "    counter += 1\n",
    "    if counter >= max_splits_to_show:\n",
    "        break"
   ]
  },
  {
   "cell_type": "markdown",
   "id": "e144df18-418d-4ff0-9c42-0221f296f3bf",
   "metadata": {
    "jp-MarkdownHeadingCollapsed": true
   },
   "source": [
    "## Rolling\n",
    "\n",
    "[Return to top](#Baseline-Models)"
   ]
  },
  {
   "cell_type": "code",
   "execution_count": 8,
   "id": "eb39b223-64c5-4d86-9d8e-2599fa0e715f",
   "metadata": {},
   "outputs": [
    {
     "name": "stdout",
     "output_type": "stream",
     "text": [
      "TRAIN: [0 1 2 3 4 5 6 7 8 9] TEST: [10]\n",
      "TRAIN: [ 1  2  3  4  5  6  7  8  9 10] TEST: [11]\n",
      "TRAIN: [ 2  3  4  5  6  7  8  9 10 11] TEST: [12]\n",
      "TRAIN: [ 3  4  5  6  7  8  9 10 11 12] TEST: [13]\n",
      "TRAIN: [ 4  5  6  7  8  9 10 11 12 13] TEST: [14]\n",
      "TRAIN: [ 5  6  7  8  9 10 11 12 13 14] TEST: [15]\n",
      "TRAIN: [ 6  7  8  9 10 11 12 13 14 15] TEST: [16]\n",
      "TRAIN: [ 7  8  9 10 11 12 13 14 15 16] TEST: [17]\n",
      "TRAIN: [ 8  9 10 11 12 13 14 15 16 17] TEST: [18]\n",
      "TRAIN: [ 9 10 11 12 13 14 15 16 17 18] TEST: [19]\n",
      "TRAIN: [10 11 12 13 14 15 16 17 18 19] TEST: [20]\n",
      "TRAIN: [11 12 13 14 15 16 17 18 19 20] TEST: [21]\n",
      "TRAIN: [12 13 14 15 16 17 18 19 20 21] TEST: [22]\n",
      "TRAIN: [13 14 15 16 17 18 19 20 21 22] TEST: [23]\n",
      "TRAIN: [14 15 16 17 18 19 20 21 22 23] TEST: [24]\n"
     ]
    }
   ],
   "source": [
    "# expanding window configuration\n",
    "train_size = 10 # size of training set window\n",
    "test_size = 1   # leave-one-out (LOO) cross-validation\n",
    "\n",
    "counter = 0\n",
    "max_splits_to_show = 15\n",
    "\n",
    "for train_index, test_index in utl.rolling_window_ts_split(pts_scaled_df, train_size, test_size):\n",
    "    print(\"TRAIN:\", train_index, \"TEST:\", test_index)\n",
    "    counter += 1\n",
    "    if counter >= max_splits_to_show:\n",
    "        break"
   ]
  },
  {
   "cell_type": "markdown",
   "id": "7bfa3f0f-341e-4812-b475-190a806cf3ab",
   "metadata": {
    "jp-MarkdownHeadingCollapsed": true
   },
   "source": [
    "<a name=\"1.-Target:-Total-Points-(over-/-under)\"></a>\n",
    "# 1. Target: Total Points (over / under)\n",
    "\n",
    "[Return to top](#Baseline-Models)"
   ]
  },
  {
   "cell_type": "markdown",
   "id": "1c6386fd-d222-43dc-8f3c-5c9bfd6b64e8",
   "metadata": {},
   "source": [
    "<a name=\"1.1.-Expanding-Window\"></a>\n",
    "## 1.1. Expanding Window\n",
    "\n",
    "[Return to top](#Baseline-Models)"
   ]
  },
  {
   "cell_type": "code",
   "execution_count": 9,
   "id": "5451af4c-98ec-48bd-8af2-7329fbbd0e9c",
   "metadata": {},
   "outputs": [
    {
     "name": "stdout",
     "output_type": "stream",
     "text": [
      "Total time taken: 10.40 seconds\n"
     ]
    }
   ],
   "source": [
    "# configuration for total points with expanding window\n",
    "model = LinearRegression()  # model class\n",
    "target_col = 'TOTAL_PTS'    # target column name\n",
    "df = pts_scaled_df          # data set to use\n",
    "initial_train_size = season_22_ngames + season_23_ngames # starting size of the training set\n",
    "test_size = 1               # leave-one-out (LOO) cross-validation\n",
    "gap_size = 0                # should there be a gap between train and test sets?\n",
    "expansion_limit = None      # maximum number of new training observations in expansion\n",
    "\n",
    "# run model\n",
    "lr, model_outputs, y_true = utl.train_with_expanding_window(\n",
    "    model=model,\n",
    "    target_col=target_col,\n",
    "    df=df,  \n",
    "    initial_train_size=initial_train_size,\n",
    "    test_size=test_size, \n",
    "    gap_size=gap_size,\n",
    "    expansion_limit=expansion_limit,\n",
    "    fitted_model=True\n",
    ")\n",
    "\n",
    "# add predictions to test set observations\n",
    "test_set_obs.loc[test_set_obs.index[gap_size:gap_size+len(model_outputs)], target_col] = model_outputs"
   ]
  },
  {
   "cell_type": "code",
   "execution_count": 10,
   "id": "a35a017f-4cd2-4b21-a6f6-ca025807a48d",
   "metadata": {},
   "outputs": [
    {
     "name": "stdout",
     "output_type": "stream",
     "text": [
      "Regression Metrics:\n",
      "- Average RMSE: 19.32\n",
      "- Null RMSE: 20.28\n"
     ]
    }
   ],
   "source": [
    "metrics = utl.calculate_metrics(y_true, model_outputs)"
   ]
  },
  {
   "cell_type": "code",
   "execution_count": 11,
   "id": "1724e2ae-bcea-4a05-aa12-2ed73d1f6aff",
   "metadata": {},
   "outputs": [
    {
     "data": {
      "image/png": "[encoded data removed]",
      "text/plain": [
       "<Figure size 864x288 with 1 Axes>"
      ]
     },
     "metadata": {
      "needs_background": "light"
     },
     "output_type": "display_data"
    }
   ],
   "source": [
    "utl.plot_model_performance(\n",
    "    title='Linear Regression  |  Box Score Features  |  Expanding Window',\n",
    "    y_label='Score Total',\n",
    "    metric=metrics['average_rmse'],\n",
    "    df=df, \n",
    "    model_outputs=model_outputs, \n",
    "    target_col=target_col,\n",
    "    initial_train_size=initial_train_size\n",
    ")"
   ]
  },
  {
   "cell_type": "markdown",
   "id": "356cfbac-322c-408e-abf6-aaad2f4c1407",
   "metadata": {
    "jp-MarkdownHeadingCollapsed": true
   },
   "source": [
    "<a name=\"1.2.-Rolling-Window\"></a>\n",
    "## 1.2. Rolling Window\n",
    "\n",
    "[Return to top](#Baseline-Models)"
   ]
  },
  {
   "cell_type": "code",
   "execution_count": 12,
   "id": "1e487f8c-c84c-4cdd-9bf5-eb176e0e352d",
   "metadata": {},
   "outputs": [
    {
     "name": "stdout",
     "output_type": "stream",
     "text": [
      "Total time taken: 26.27 seconds\n"
     ]
    }
   ],
   "source": [
    "# configuration for total points with rolling window\n",
    "model = LinearRegression()  # model class\n",
    "target_col = 'TOTAL_PTS'    # target column name\n",
    "df = pts_scaled_df          # data set to use\n",
    "train_size = 1200           # size of the training set\n",
    "test_size = 1               # leave-one-out (LOO) cross-validation\n",
    "advancement_limit = None    # maximum number of times the training window is advanced\n",
    "\n",
    "# run model\n",
    "model_outputs, y_true = utl.train_with_rolling_window(\n",
    "    model=model,\n",
    "    target_col=target_col,\n",
    "    df=df,  \n",
    "    train_size=train_size,\n",
    "    test_size=test_size, \n",
    "    advancement_limit=advancement_limit\n",
    ")"
   ]
  },
  {
   "cell_type": "code",
   "execution_count": 13,
   "id": "c70c00de-f47f-435c-98cb-4f928500152b",
   "metadata": {},
   "outputs": [
    {
     "name": "stdout",
     "output_type": "stream",
     "text": [
      "Regression Metrics:\n",
      "- Average RMSE: 19.39\n",
      "- Null RMSE: 19.88\n"
     ]
    }
   ],
   "source": [
    "metrics = utl.calculate_metrics(y_true, model_outputs)"
   ]
  },
  {
   "cell_type": "code",
   "execution_count": 14,
   "id": "db089830-6069-4db8-b1fc-0ac037756897",
   "metadata": {},
   "outputs": [
    {
     "data": {
      "image/png": "[encoded data removed]",
      "text/plain": [
       "<Figure size 864x288 with 1 Axes>"
      ]
     },
     "metadata": {
      "needs_background": "light"
     },
     "output_type": "display_data"
    }
   ],
   "source": [
    "utl.plot_model_performance_rolling(\n",
    "    title='Linear Regression  |  Box Score Features  |  Rolling Window',\n",
    "    y_label='Score Total',\n",
    "    metric=metrics['average_rmse'],\n",
    "    df=df, \n",
    "    model_outputs=model_outputs, \n",
    "    target_col=target_col,\n",
    "    train_size=train_size\n",
    ")"
   ]
  },
  {
   "cell_type": "markdown",
   "id": "090490a3-46b0-4c90-a760-560ed40f3c60",
   "metadata": {
    "jp-MarkdownHeadingCollapsed": true
   },
   "source": [
    "<a name=\"2.-Target:-Difference-in-Points-(plus-/-minus)\"></a>\n",
    "# 2. Target: Difference in Points (plus / minus)\n",
    "\n",
    "[Return to top](#Baseline-Models)"
   ]
  },
  {
   "cell_type": "markdown",
   "id": "b918e5ad-bd9c-463f-b2c9-fbbbcfd7f7d1",
   "metadata": {
    "jp-MarkdownHeadingCollapsed": true
   },
   "source": [
    "<a name=\"2.1.-Expanding-Window\"></a>\n",
    "## 2.1. Expanding Window\n",
    "\n",
    "[Return to top](#Baseline-Models)"
   ]
  },
  {
   "cell_type": "code",
   "execution_count": 15,
   "id": "a328bcab-819f-4550-b9ff-4d55976d99a0",
   "metadata": {},
   "outputs": [
    {
     "name": "stdout",
     "output_type": "stream",
     "text": [
      "Total time taken: 11.17 seconds\n"
     ]
    }
   ],
   "source": [
    "# configuration for point difference with expanding window\n",
    "model = LinearRegression()  # model class\n",
    "target_col = 'PLUS_MINUS'   # target column name\n",
    "df = pm_scaled_df           # data set to use\n",
    "initial_train_size = season_22_ngames + season_23_ngames # starting size of the training set\n",
    "test_size = 1               # leave-one-out (LOO) cross-validation\n",
    "gap_size = 0                # should there be a gap between train and test sets?\n",
    "expansion_limit = None      # maximum number of new training observations in expansion\n",
    "\n",
    "# run model\n",
    "model_outputs, y_true = utl.train_with_expanding_window(\n",
    "    model=model,\n",
    "    target_col=target_col,\n",
    "    df=df,  \n",
    "    initial_train_size=initial_train_size,\n",
    "    test_size=test_size, \n",
    "    gap_size=gap_size,\n",
    "    expansion_limit=expansion_limit\n",
    ")\n",
    "\n",
    "# add predictions to test set observations\n",
    "test_set_obs.loc[test_set_obs.index[gap_size:gap_size+len(model_outputs)], target_col] = model_outputs"
   ]
  },
  {
   "cell_type": "code",
   "execution_count": 17,
   "id": "c38d3d6a-6fdd-4725-ac04-324000823c09",
   "metadata": {},
   "outputs": [
    {
     "name": "stdout",
     "output_type": "stream",
     "text": [
      "Regression Metrics:\n",
      "- Average RMSE: 14.38\n",
      "- Null RMSE: 15.32\n"
     ]
    }
   ],
   "source": [
    "metrics = utl.calculate_metrics(y_true, model_outputs)"
   ]
  },
  {
   "cell_type": "code",
   "execution_count": 18,
   "id": "cf79596b-7fe6-4f4b-8d4d-026212256860",
   "metadata": {},
   "outputs": [
    {
     "data": {
      "image/png": "[encoded data removed]",
      "text/plain": [
       "<Figure size 864x288 with 1 Axes>"
      ]
     },
     "metadata": {
      "needs_background": "light"
     },
     "output_type": "display_data"
    }
   ],
   "source": [
    "utl.plot_model_performance(\n",
    "    title='Linear Regression  |  Box Score Features  |  Expanding Window',\n",
    "    y_label='Score Difference (home - away)',\n",
    "    metric=metrics['average_rmse'],\n",
    "    df=df, \n",
    "    model_outputs=model_outputs, \n",
    "    target_col=target_col,\n",
    "    initial_train_size=initial_train_size\n",
    ")"
   ]
  },
  {
   "cell_type": "markdown",
   "id": "3aec8a2e-96f1-45ca-bf25-cfb0cd8fbf47",
   "metadata": {
    "jp-MarkdownHeadingCollapsed": true
   },
   "source": [
    "<a name=\"2.2.-Rolling-Window\"></a>\n",
    "## 2.2. Rolling Window\n",
    "\n",
    "[Return to top](#Baseline-Models)"
   ]
  },
  {
   "cell_type": "code",
   "execution_count": 19,
   "id": "21fd8711-6d64-456b-9fe2-4410ecd020f4",
   "metadata": {},
   "outputs": [
    {
     "name": "stdout",
     "output_type": "stream",
     "text": [
      "Total time taken: 26.09 seconds\n"
     ]
    }
   ],
   "source": [
    "# configuration for points difference with rolling window\n",
    "model = LinearRegression()  # model class\n",
    "target_col = 'PLUS_MINUS'   # target column name\n",
    "df = pm_scaled_df           # data set to use\n",
    "train_size = 1200           # size of the training set\n",
    "test_size = 1               # leave-one-out (LOO) cross-validation\n",
    "advancement_limit = None    # maximum number of times the training window is advanced\n",
    "\n",
    "# run model\n",
    "model_outputs, y_true = utl.train_with_rolling_window(\n",
    "    model=model,\n",
    "    target_col=target_col,\n",
    "    df=df,  \n",
    "    train_size=train_size,\n",
    "    test_size=test_size, \n",
    "    advancement_limit=advancement_limit\n",
    ")"
   ]
  },
  {
   "cell_type": "code",
   "execution_count": 20,
   "id": "553acfb0-1e4a-4e19-86b4-b93864e4fc7c",
   "metadata": {},
   "outputs": [
    {
     "name": "stdout",
     "output_type": "stream",
     "text": [
      "Regression Metrics:\n",
      "- Average RMSE: 13.84\n",
      "- Null RMSE: 14.28\n"
     ]
    }
   ],
   "source": [
    "metrics = utl.calculate_metrics(y_true, model_outputs)"
   ]
  },
  {
   "cell_type": "code",
   "execution_count": 21,
   "id": "0e7b4b8e-e1c4-4d3c-b5b1-8e5a6799ef92",
   "metadata": {},
   "outputs": [
    {
     "data": {
      "image/png": "[encoded data removed]",
      "text/plain": [
       "<Figure size 864x288 with 1 Axes>"
      ]
     },
     "metadata": {
      "needs_background": "light"
     },
     "output_type": "display_data"
    }
   ],
   "source": [
    "utl.plot_model_performance_rolling(\n",
    "    title='Linear Regression  |  Box Score Features  |  Rolling Window',\n",
    "    y_label='Score Difference (home - away)',\n",
    "    metric=metrics['average_rmse'],\n",
    "    df=df, \n",
    "    model_outputs=model_outputs, \n",
    "    target_col=target_col,\n",
    "    train_size=train_size\n",
    ")"
   ]
  },
  {
   "cell_type": "markdown",
   "id": "239ede5e-ddc2-49c5-8fe8-570e38eadf19",
   "metadata": {
    "jp-MarkdownHeadingCollapsed": true
   },
   "source": [
    "<a name=\"3.-Target:-Game-Winner-(moneyline)\"></a>\n",
    "# 3. Target: Game Winner (moneyline)\n",
    "\n",
    "[Return to top](#Baseline-Models)"
   ]
  },
  {
   "cell_type": "markdown",
   "id": "f79f3eb3-ead3-411f-b83d-b57406f0ecb2",
   "metadata": {
    "jp-MarkdownHeadingCollapsed": true
   },
   "source": [
    "<a name=\"3.1.-Expanding-Window\"></a>\n",
    "## 3.1. Expanding Window\n",
    "\n",
    "[Return to top](#Baseline-Models)"
   ]
  },
  {
   "cell_type": "code",
   "execution_count": 22,
   "id": "7650421b-c9e9-4fe9-b114-c90f423a5c06",
   "metadata": {},
   "outputs": [
    {
     "name": "stdout",
     "output_type": "stream",
     "text": [
      "Total time taken: 84.47 seconds\n"
     ]
    }
   ],
   "source": [
    "# configuration for game winner with expanding window\n",
    "model = LogisticRegression(penalty=None, max_iter=10000, solver='lbfgs')  # model class\n",
    "target_col = 'GAME_RESULT'  # target column name\n",
    "df = res_scaled_df          # data set to use\n",
    "initial_train_size = season_22_ngames + season_23_ngames # starting size of the training set\n",
    "test_size = 1               # leave-one-out (LOO) cross-validation\n",
    "gap_size = 0                # should there be a gap between train and test sets?\n",
    "expansion_limit = None      # maximum number of new training observations in expansion\n",
    "\n",
    "# run model\n",
    "model_outputs, y_true = utl.train_with_expanding_window(\n",
    "    model=model,\n",
    "    target_col=target_col,\n",
    "    df=df,  \n",
    "    initial_train_size=initial_train_size,\n",
    "    test_size=test_size, \n",
    "    gap_size=gap_size,\n",
    "    expansion_limit=expansion_limit,\n",
    "    ensure_diversity=True # ensure class diversity in training\n",
    ")\n",
    "\n",
    "# add predictions to test set observations\n",
    "test_set_obs.loc[test_set_obs.index[gap_size:gap_size+len(model_outputs)], target_col] = model_outputs"
   ]
  },
  {
   "cell_type": "code",
   "execution_count": 23,
   "id": "d9b734c8-3efd-4bd9-9bd0-012f39b5550e",
   "metadata": {},
   "outputs": [
    {
     "name": "stdout",
     "output_type": "stream",
     "text": [
      "Classification Metrics:\n",
      "- Average Accuracy: 0.63\n",
      "- Overall AUC: 0.68\n",
      "- Average F1 Score: 0.69\n"
     ]
    }
   ],
   "source": [
    "metrics = utl.calculate_metrics(y_true, model_outputs)"
   ]
  },
  {
   "cell_type": "code",
   "execution_count": 24,
   "id": "369e3991-2f83-4044-95b1-39cd3c4d637e",
   "metadata": {},
   "outputs": [
    {
     "data": {
      "image/png": "[encoded data removed]",
      "text/plain": [
       "<Figure size 576x288 with 3 Axes>"
      ]
     },
     "metadata": {
      "needs_background": "light"
     },
     "output_type": "display_data"
    }
   ],
   "source": [
    "utl.plot_classification_performance(\n",
    "    y_true=y_true, \n",
    "    model_outputs=model_outputs,\n",
    "    pred_labels=metrics['pred_labels'],\n",
    "    overall_title='Logistic Regression  |  Box Score Features  |  Expanding Window'\n",
    ")"
   ]
  },
  {
   "cell_type": "code",
   "execution_count": 25,
   "id": "31c7bf8e-8653-41ba-a100-57bffc7e7248",
   "metadata": {},
   "outputs": [],
   "source": [
    "# write out all model predictions and meta-data\n",
    "test_set_obs.rename(columns={\n",
    "    'TOTAL_PTS': 'TOTAL_PTS_PREDS',\n",
    "    'PLUS_MINUS': 'PLUS_MINUS_PREDS',\n",
    "    'GAME_RESULT': 'GAME_RESULT_PREDS'\n",
    "}, inplace=True)\n",
    "columns_to_round = ['TOTAL_PTS_PREDS', 'PLUS_MINUS_PREDS', 'GAME_RESULT_PREDS']\n",
    "test_set_obs[columns_to_round] = test_set_obs[columns_to_round].round(4)\n",
    "test_set_obs.to_csv('../../data/model_predictions/GLM_preds_misc_box_stats.csv', index=False)"
   ]
  },
  {
   "cell_type": "markdown",
   "id": "d6632d48-5b3c-4032-986c-639a233867bc",
   "metadata": {
    "jp-MarkdownHeadingCollapsed": true
   },
   "source": [
    "<a name=\"3.2.-Rolling-Window\"></a>\n",
    "## 3.2. Rolling Window\n",
    "\n",
    "[Return to top](#Baseline-Models)"
   ]
  },
  {
   "cell_type": "code",
   "execution_count": 26,
   "id": "b7347c0d-79cb-43e9-a1a4-52f547b270c4",
   "metadata": {},
   "outputs": [
    {
     "name": "stdout",
     "output_type": "stream",
     "text": [
      "Total time taken: 195.33 seconds\n"
     ]
    }
   ],
   "source": [
    "# configuration for game winner with rolling window\n",
    "model = LogisticRegression(penalty=None, max_iter=10000, solver='lbfgs')  # model class\n",
    "target_col = 'GAME_RESULT'  # target column name\n",
    "df = res_scaled_df          # data set to use\n",
    "train_size = 1200           # size of the training set\n",
    "test_size = 1               # leave-one-out (LOO) cross-validation\n",
    "advancement_limit = None    # maximum number of times the training window is advanced\n",
    "\n",
    "# run model\n",
    "model_outputs, y_true = utl.train_with_rolling_window(\n",
    "    model=model,\n",
    "    target_col=target_col,\n",
    "    df=df,  \n",
    "    train_size=train_size,\n",
    "    test_size=test_size, \n",
    "    advancement_limit=advancement_limit,\n",
    "    ensure_diversity=True # ensure class diversity in training\n",
    ")"
   ]
  },
  {
   "cell_type": "code",
   "execution_count": 27,
   "id": "faa1653d-7e64-45ca-b7ae-caeaae859e64",
   "metadata": {},
   "outputs": [
    {
     "name": "stdout",
     "output_type": "stream",
     "text": [
      "Classification Metrics:\n",
      "- Average Accuracy: 0.61\n",
      "- Overall AUC: 0.63\n",
      "- Average F1 Score: 0.69\n"
     ]
    }
   ],
   "source": [
    "metrics = utl.calculate_metrics(y_true, model_outputs)"
   ]
  },
  {
   "cell_type": "code",
   "execution_count": 28,
   "id": "9dc779b5-fff1-401b-8f66-50a9cca9ad99",
   "metadata": {},
   "outputs": [
    {
     "data": {
      "image/png": "[encoded data removed]",
      "text/plain": [
       "<Figure size 576x288 with 3 Axes>"
      ]
     },
     "metadata": {
      "needs_background": "light"
     },
     "output_type": "display_data"
    }
   ],
   "source": [
    "utl.plot_classification_performance(\n",
    "    y_true=y_true, \n",
    "    model_outputs=model_outputs,\n",
    "    pred_labels=metrics['pred_labels'],\n",
    "    overall_title='Logistic Regression  |  Box Score Features  |  Rolling Window'\n",
    ")"
   ]
  },
  {
   "cell_type": "code",
   "execution_count": null,
   "id": "8ea25263-a392-4eb7-b4d6-64f5770ede1b",
   "metadata": {},
   "outputs": [],
   "source": []
  }
 ],
 "metadata": {
  "kernelspec": {
   "display_name": "Python 3",
   "language": "python",
   "name": "python3"
  },
  "language_info": {
   "codemirror_mode": {
    "name": "ipython",
    "version": 3
   },
   "file_extension": ".py",
   "mimetype": "text/x-python",
   "name": "python",
   "nbconvert_exporter": "python",
   "pygments_lexer": "ipython3",
   "version": "3.8.8"
  }
 },
 "nbformat": 4,
 "nbformat_minor": 5
}
