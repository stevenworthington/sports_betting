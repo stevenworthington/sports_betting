{
 "cells": [
  {
   "cell_type": "markdown",
   "id": "5b0d228a-fe57-4099-b4bf-363ea6651d06",
   "metadata": {},
   "source": [
    "<div class=\"alert alert-danger\">\n",
    "    <h4 style=\"font-weight: bold; font-size: 28px;\">Feature Selection using stepwise algorithms</h4>\n",
    "    <p style=\"font-size: 20px;\">NBA API Data (2022-2024)</p>\n",
    "</div>\n",
    "\n",
    "<a name=\"Feature-Selection\"></a>"
   ]
  },
  {
   "cell_type": "markdown",
   "id": "770b41dc-89f8-49bd-baf2-6be1f18ff61e",
   "metadata": {},
   "source": [
    "# Table of Contents"
   ]
  },
  {
   "cell_type": "markdown",
   "id": "1f899b84-6b19-4ef2-b95a-a1f3dcf6beac",
   "metadata": {},
   "source": [
    "[Setup](#Setup)\n",
    "\n",
    "[Data](#Data)\n",
    "\n",
    "**[1. Stepwise for Total Points](#1.-Stepwise-for-Total_Points)**\n",
    "\n",
    "**[2. Stepwise for Plus Minus](#2.-Stepwise-for-Plus_Minus)**\n",
    "\n",
    "**[3. Stepwise for Game Winner](#3.-Stepwise-for-Game-Winner)**"
   ]
  },
  {
   "cell_type": "markdown",
   "id": "99f9bd3a-0688-40d7-a0c9-1fde55fb4a25",
   "metadata": {
    "jp-MarkdownHeadingCollapsed": true
   },
   "source": [
    "# Setup\n",
    "\n",
    "[Return to top](#Feature-Engineering)"
   ]
  },
  {
   "cell_type": "code",
   "execution_count": 1,
   "id": "ddc970cb-94f0-471f-bb7e-6777c192bcdb",
   "metadata": {},
   "outputs": [
    {
     "name": "stderr",
     "output_type": "stream",
     "text": [
      "IProgress not found. Please update jupyter and ipywidgets. See https://ipywidgets.readthedocs.io/en/stable/user_install.html\n"
     ]
    }
   ],
   "source": [
    "import sys\n",
    "from pathlib import Path\n",
    "# get current working directory\n",
    "cwd = %pwd\n",
    "# add shared_code directory to Python sys.path\n",
    "sys.path.append(str(Path(cwd).parent / \"shared_code\"))\n",
    "# import all libraries in shared_code directory 'imports.py' file\n",
    "from imports import *\n",
    "%matplotlib inline"
   ]
  },
  {
   "cell_type": "markdown",
   "id": "118609df-2a49-45f5-8f09-cf57b65e1fd6",
   "metadata": {
    "jp-MarkdownHeadingCollapsed": true
   },
   "source": [
    "# Data\n",
    "\n",
    "[Return to top](#Feature-Engineering)"
   ]
  },
  {
   "cell_type": "code",
   "execution_count": 2,
   "id": "e6e7f056-41c5-41d8-bc0b-86f914af0dc6",
   "metadata": {},
   "outputs": [
    {
     "name": "stdout",
     "output_type": "stream",
     "text": [
      "Season 2021-22: 1186 games\n",
      "Season 2022-23: 1181 games\n",
      "Season 2023-24: 692 games\n",
      "Total number of games across sampled seasons: 3059 games\n"
     ]
    }
   ],
   "source": [
    "# load, filter (by time) and scale data\n",
    "pts_scaled_df, pm_scaled_df, res_scaled_df, test_set_obs = utl.load_and_scale_data(\n",
    "    file_path='../../data/processed/nba_team_matchups_rolling_box_scores_2022_2024_r05.csv',\n",
    "    seasons_to_keep=['2021-22', '2022-23', '2023-24'],\n",
    "    training_season='2021-22',\n",
    "    feature_prefix='ROLL_',\n",
    "    scaler_type='minmax', \n",
    "    scale_target=False\n",
    ")"
   ]
  },
  {
   "cell_type": "markdown",
   "id": "986982b1-d0f1-4f05-91e7-cf98b46a4010",
   "metadata": {
    "jp-MarkdownHeadingCollapsed": true
   },
   "source": [
    "<a name=\"1.-Stepwise-for-Total-Points\"></a>\n",
    "# 1. Stepwise for Total Points\n",
    "\n",
    "[Return to top](#Feature-Selection)"
   ]
  },
  {
   "cell_type": "code",
   "execution_count": 3,
   "id": "7ff516e0-867d-4ea1-a62a-7afb775535e1",
   "metadata": {},
   "outputs": [
    {
     "name": "stdout",
     "output_type": "stream",
     "text": [
      "There were 9 features selected out of 36 original features\n",
      "\n"
     ]
    },
    {
     "data": {
      "text/html": [
       "<div>\n",
       "<style scoped>\n",
       "    .dataframe tbody tr th:only-of-type {\n",
       "        vertical-align: middle;\n",
       "    }\n",
       "\n",
       "    .dataframe tbody tr th {\n",
       "        vertical-align: top;\n",
       "    }\n",
       "\n",
       "    .dataframe thead th {\n",
       "        text-align: right;\n",
       "    }\n",
       "</style>\n",
       "<table border=\"1\" class=\"dataframe\">\n",
       "  <thead>\n",
       "    <tr style=\"text-align: right;\">\n",
       "      <th></th>\n",
       "      <th>ROLL_HOME_PTS</th>\n",
       "      <th>ROLL_HOME_FG3M</th>\n",
       "      <th>ROLL_HOME_FTA</th>\n",
       "      <th>ROLL_HOME_REB</th>\n",
       "      <th>ROLL_HOME_AST</th>\n",
       "      <th>ROLL_HOME_PF</th>\n",
       "      <th>ROLL_AWAY_PTS</th>\n",
       "      <th>ROLL_AWAY_FG3_PCT</th>\n",
       "      <th>ROLL_AWAY_DREB</th>\n",
       "      <th>TOTAL_PTS</th>\n",
       "    </tr>\n",
       "    <tr>\n",
       "      <th>GAME_DATE</th>\n",
       "      <th></th>\n",
       "      <th></th>\n",
       "      <th></th>\n",
       "      <th></th>\n",
       "      <th></th>\n",
       "      <th></th>\n",
       "      <th></th>\n",
       "      <th></th>\n",
       "      <th></th>\n",
       "      <th></th>\n",
       "    </tr>\n",
       "  </thead>\n",
       "  <tbody>\n",
       "    <tr>\n",
       "      <th>2021-10-23</th>\n",
       "      <td>0.745</td>\n",
       "      <td>0.758</td>\n",
       "      <td>0.878</td>\n",
       "      <td>0.478</td>\n",
       "      <td>0.612</td>\n",
       "      <td>0.661</td>\n",
       "      <td>0.577</td>\n",
       "      <td>1.000</td>\n",
       "      <td>0.369</td>\n",
       "      <td>185</td>\n",
       "    </tr>\n",
       "    <tr>\n",
       "      <th>2021-10-23</th>\n",
       "      <td>0.000</td>\n",
       "      <td>0.076</td>\n",
       "      <td>0.534</td>\n",
       "      <td>0.826</td>\n",
       "      <td>0.000</td>\n",
       "      <td>0.576</td>\n",
       "      <td>0.096</td>\n",
       "      <td>0.364</td>\n",
       "      <td>0.685</td>\n",
       "      <td>198</td>\n",
       "    </tr>\n",
       "    <tr>\n",
       "      <th>2021-10-23</th>\n",
       "      <td>0.691</td>\n",
       "      <td>0.455</td>\n",
       "      <td>0.534</td>\n",
       "      <td>0.609</td>\n",
       "      <td>0.561</td>\n",
       "      <td>0.661</td>\n",
       "      <td>0.635</td>\n",
       "      <td>0.396</td>\n",
       "      <td>0.685</td>\n",
       "      <td>239</td>\n",
       "    </tr>\n",
       "    <tr>\n",
       "      <th>2021-10-23</th>\n",
       "      <td>0.727</td>\n",
       "      <td>0.530</td>\n",
       "      <td>0.382</td>\n",
       "      <td>0.348</td>\n",
       "      <td>0.918</td>\n",
       "      <td>0.661</td>\n",
       "      <td>0.250</td>\n",
       "      <td>0.317</td>\n",
       "      <td>0.369</td>\n",
       "      <td>232</td>\n",
       "    </tr>\n",
       "    <tr>\n",
       "      <th>2021-10-24</th>\n",
       "      <td>0.745</td>\n",
       "      <td>0.833</td>\n",
       "      <td>0.229</td>\n",
       "      <td>0.826</td>\n",
       "      <td>0.765</td>\n",
       "      <td>0.322</td>\n",
       "      <td>1.000</td>\n",
       "      <td>0.559</td>\n",
       "      <td>0.730</td>\n",
       "      <td>204</td>\n",
       "    </tr>\n",
       "  </tbody>\n",
       "</table>\n",
       "</div>"
      ],
      "text/plain": [
       "            ROLL_HOME_PTS  ROLL_HOME_FG3M  ROLL_HOME_FTA  ROLL_HOME_REB  \\\n",
       "GAME_DATE                                                                 \n",
       "2021-10-23          0.745           0.758          0.878          0.478   \n",
       "2021-10-23          0.000           0.076          0.534          0.826   \n",
       "2021-10-23          0.691           0.455          0.534          0.609   \n",
       "2021-10-23          0.727           0.530          0.382          0.348   \n",
       "2021-10-24          0.745           0.833          0.229          0.826   \n",
       "\n",
       "            ROLL_HOME_AST  ROLL_HOME_PF  ROLL_AWAY_PTS  ROLL_AWAY_FG3_PCT  \\\n",
       "GAME_DATE                                                                   \n",
       "2021-10-23          0.612         0.661          0.577              1.000   \n",
       "2021-10-23          0.000         0.576          0.096              0.364   \n",
       "2021-10-23          0.561         0.661          0.635              0.396   \n",
       "2021-10-23          0.918         0.661          0.250              0.317   \n",
       "2021-10-24          0.765         0.322          1.000              0.559   \n",
       "\n",
       "            ROLL_AWAY_DREB  TOTAL_PTS  \n",
       "GAME_DATE                              \n",
       "2021-10-23           0.369        185  \n",
       "2021-10-23           0.685        198  \n",
       "2021-10-23           0.685        239  \n",
       "2021-10-23           0.369        232  \n",
       "2021-10-24           0.730        204  "
      ]
     },
     "execution_count": 3,
     "metadata": {},
     "output_type": "execute_result"
    }
   ],
   "source": [
    "# automated feature selection\n",
    "pts_scaled_df_selected = utl.sequential_feature_selection(\n",
    "    df=pts_scaled_df, \n",
    "    outcome_name='TOTAL_PTS', \n",
    "    estimator=LinearRegression(), \n",
    "    forward=True\n",
    ")\n",
    "\n",
    "pts_scaled_df_selected.head()"
   ]
  },
  {
   "cell_type": "markdown",
   "id": "f1d3ba76-5a95-4d74-9692-4c52a493c874",
   "metadata": {
    "jp-MarkdownHeadingCollapsed": true
   },
   "source": [
    "<a name=\"2.-Stepwise-for-Plus_Minus\"></a>\n",
    "# 2. Stepwise for Plus Minus\n",
    "\n",
    "[Return to top](#Feature-Selection)"
   ]
  },
  {
   "cell_type": "code",
   "execution_count": 4,
   "id": "0444f09e-092a-4d8d-afa8-b8c12f332f2e",
   "metadata": {},
   "outputs": [
    {
     "name": "stdout",
     "output_type": "stream",
     "text": [
      "There were 9 features selected out of 36 original features\n",
      "\n"
     ]
    },
    {
     "data": {
      "text/html": [
       "<div>\n",
       "<style scoped>\n",
       "    .dataframe tbody tr th:only-of-type {\n",
       "        vertical-align: middle;\n",
       "    }\n",
       "\n",
       "    .dataframe tbody tr th {\n",
       "        vertical-align: top;\n",
       "    }\n",
       "\n",
       "    .dataframe thead th {\n",
       "        text-align: right;\n",
       "    }\n",
       "</style>\n",
       "<table border=\"1\" class=\"dataframe\">\n",
       "  <thead>\n",
       "    <tr style=\"text-align: right;\">\n",
       "      <th></th>\n",
       "      <th>ROLL_HOME_FGA</th>\n",
       "      <th>ROLL_HOME_FG_PCT</th>\n",
       "      <th>ROLL_HOME_FG3A</th>\n",
       "      <th>ROLL_HOME_FTA</th>\n",
       "      <th>ROLL_HOME_DREB</th>\n",
       "      <th>ROLL_HOME_REB</th>\n",
       "      <th>ROLL_AWAY_FGM</th>\n",
       "      <th>ROLL_AWAY_FT_PCT</th>\n",
       "      <th>ROLL_AWAY_AST</th>\n",
       "      <th>PLUS_MINUS</th>\n",
       "    </tr>\n",
       "    <tr>\n",
       "      <th>GAME_DATE</th>\n",
       "      <th></th>\n",
       "      <th></th>\n",
       "      <th></th>\n",
       "      <th></th>\n",
       "      <th></th>\n",
       "      <th></th>\n",
       "      <th></th>\n",
       "      <th></th>\n",
       "      <th></th>\n",
       "      <th></th>\n",
       "    </tr>\n",
       "  </thead>\n",
       "  <tbody>\n",
       "    <tr>\n",
       "      <th>2021-10-23</th>\n",
       "      <td>0.296</td>\n",
       "      <td>0.753</td>\n",
       "      <td>0.580</td>\n",
       "      <td>0.878</td>\n",
       "      <td>0.292</td>\n",
       "      <td>0.478</td>\n",
       "      <td>0.586</td>\n",
       "      <td>0.603</td>\n",
       "      <td>0.500</td>\n",
       "      <td>7.0</td>\n",
       "    </tr>\n",
       "    <tr>\n",
       "      <th>2021-10-23</th>\n",
       "      <td>0.648</td>\n",
       "      <td>0.000</td>\n",
       "      <td>0.412</td>\n",
       "      <td>0.534</td>\n",
       "      <td>0.381</td>\n",
       "      <td>0.826</td>\n",
       "      <td>0.017</td>\n",
       "      <td>0.837</td>\n",
       "      <td>0.083</td>\n",
       "      <td>-8.0</td>\n",
       "    </tr>\n",
       "    <tr>\n",
       "      <th>2021-10-23</th>\n",
       "      <td>0.507</td>\n",
       "      <td>0.758</td>\n",
       "      <td>0.454</td>\n",
       "      <td>0.534</td>\n",
       "      <td>0.602</td>\n",
       "      <td>0.609</td>\n",
       "      <td>0.586</td>\n",
       "      <td>0.469</td>\n",
       "      <td>0.708</td>\n",
       "      <td>29.0</td>\n",
       "    </tr>\n",
       "    <tr>\n",
       "      <th>2021-10-23</th>\n",
       "      <td>0.683</td>\n",
       "      <td>0.827</td>\n",
       "      <td>0.244</td>\n",
       "      <td>0.382</td>\n",
       "      <td>0.159</td>\n",
       "      <td>0.348</td>\n",
       "      <td>0.069</td>\n",
       "      <td>0.268</td>\n",
       "      <td>0.208</td>\n",
       "      <td>-10.0</td>\n",
       "    </tr>\n",
       "    <tr>\n",
       "      <th>2021-10-24</th>\n",
       "      <td>0.577</td>\n",
       "      <td>0.848</td>\n",
       "      <td>0.580</td>\n",
       "      <td>0.229</td>\n",
       "      <td>0.779</td>\n",
       "      <td>0.826</td>\n",
       "      <td>0.897</td>\n",
       "      <td>0.446</td>\n",
       "      <td>0.833</td>\n",
       "      <td>-10.0</td>\n",
       "    </tr>\n",
       "  </tbody>\n",
       "</table>\n",
       "</div>"
      ],
      "text/plain": [
       "            ROLL_HOME_FGA  ROLL_HOME_FG_PCT  ROLL_HOME_FG3A  ROLL_HOME_FTA  \\\n",
       "GAME_DATE                                                                    \n",
       "2021-10-23          0.296             0.753           0.580          0.878   \n",
       "2021-10-23          0.648             0.000           0.412          0.534   \n",
       "2021-10-23          0.507             0.758           0.454          0.534   \n",
       "2021-10-23          0.683             0.827           0.244          0.382   \n",
       "2021-10-24          0.577             0.848           0.580          0.229   \n",
       "\n",
       "            ROLL_HOME_DREB  ROLL_HOME_REB  ROLL_AWAY_FGM  ROLL_AWAY_FT_PCT  \\\n",
       "GAME_DATE                                                                    \n",
       "2021-10-23           0.292          0.478          0.586             0.603   \n",
       "2021-10-23           0.381          0.826          0.017             0.837   \n",
       "2021-10-23           0.602          0.609          0.586             0.469   \n",
       "2021-10-23           0.159          0.348          0.069             0.268   \n",
       "2021-10-24           0.779          0.826          0.897             0.446   \n",
       "\n",
       "            ROLL_AWAY_AST  PLUS_MINUS  \n",
       "GAME_DATE                              \n",
       "2021-10-23          0.500         7.0  \n",
       "2021-10-23          0.083        -8.0  \n",
       "2021-10-23          0.708        29.0  \n",
       "2021-10-23          0.208       -10.0  \n",
       "2021-10-24          0.833       -10.0  "
      ]
     },
     "execution_count": 4,
     "metadata": {},
     "output_type": "execute_result"
    }
   ],
   "source": [
    "# automated feature selection\n",
    "pm_scaled_df_selected = utl.sequential_feature_selection(\n",
    "    df=pm_scaled_df, \n",
    "    outcome_name='PLUS_MINUS', \n",
    "    estimator=LinearRegression(), \n",
    "    forward=True\n",
    ")\n",
    "\n",
    "pm_scaled_df_selected.head()"
   ]
  },
  {
   "cell_type": "markdown",
   "id": "fb231f2f-75e6-4cb2-8143-4da61cb95a12",
   "metadata": {
    "jp-MarkdownHeadingCollapsed": true
   },
   "source": [
    "<a name=\"3.-Stepwise-for-Game-Winner\"></a>\n",
    "# 3. Stepwise for Game Winner\n",
    "\n",
    "[Return to top](#Feature-Selection)"
   ]
  },
  {
   "cell_type": "code",
   "execution_count": 5,
   "id": "0d437b84-af4e-448c-9455-9384a38eaa92",
   "metadata": {},
   "outputs": [
    {
     "name": "stdout",
     "output_type": "stream",
     "text": [
      "There were 1 features selected out of 36 original features\n",
      "\n"
     ]
    },
    {
     "data": {
      "text/html": [
       "<div>\n",
       "<style scoped>\n",
       "    .dataframe tbody tr th:only-of-type {\n",
       "        vertical-align: middle;\n",
       "    }\n",
       "\n",
       "    .dataframe tbody tr th {\n",
       "        vertical-align: top;\n",
       "    }\n",
       "\n",
       "    .dataframe thead th {\n",
       "        text-align: right;\n",
       "    }\n",
       "</style>\n",
       "<table border=\"1\" class=\"dataframe\">\n",
       "  <thead>\n",
       "    <tr style=\"text-align: right;\">\n",
       "      <th></th>\n",
       "      <th>ROLL_HOME_PTS</th>\n",
       "      <th>GAME_RESULT</th>\n",
       "    </tr>\n",
       "    <tr>\n",
       "      <th>GAME_DATE</th>\n",
       "      <th></th>\n",
       "      <th></th>\n",
       "    </tr>\n",
       "  </thead>\n",
       "  <tbody>\n",
       "    <tr>\n",
       "      <th>2021-10-23</th>\n",
       "      <td>0.745</td>\n",
       "      <td>1</td>\n",
       "    </tr>\n",
       "    <tr>\n",
       "      <th>2021-10-23</th>\n",
       "      <td>0.000</td>\n",
       "      <td>0</td>\n",
       "    </tr>\n",
       "    <tr>\n",
       "      <th>2021-10-23</th>\n",
       "      <td>0.691</td>\n",
       "      <td>1</td>\n",
       "    </tr>\n",
       "    <tr>\n",
       "      <th>2021-10-23</th>\n",
       "      <td>0.727</td>\n",
       "      <td>0</td>\n",
       "    </tr>\n",
       "    <tr>\n",
       "      <th>2021-10-24</th>\n",
       "      <td>0.745</td>\n",
       "      <td>0</td>\n",
       "    </tr>\n",
       "  </tbody>\n",
       "</table>\n",
       "</div>"
      ],
      "text/plain": [
       "            ROLL_HOME_PTS  GAME_RESULT\n",
       "GAME_DATE                             \n",
       "2021-10-23          0.745            1\n",
       "2021-10-23          0.000            0\n",
       "2021-10-23          0.691            1\n",
       "2021-10-23          0.727            0\n",
       "2021-10-24          0.745            0"
      ]
     },
     "execution_count": 5,
     "metadata": {},
     "output_type": "execute_result"
    }
   ],
   "source": [
    "# automated feature selection\n",
    "res_scaled_df_selected = utl.sequential_feature_selection(\n",
    "    df=res_scaled_df, \n",
    "    outcome_name='GAME_RESULT', \n",
    "    estimator=LinearRegression(), \n",
    "    forward=True\n",
    ")\n",
    " \n",
    "res_scaled_df_selected.head()"
   ]
  },
  {
   "cell_type": "code",
   "execution_count": null,
   "id": "8bd28fc3-830f-4854-a625-fb2e15eca456",
   "metadata": {},
   "outputs": [],
   "source": []
  }
 ],
 "metadata": {
  "kernelspec": {
   "display_name": "Python 3 (ipykernel)",
   "language": "python",
   "name": "python3"
  },
  "language_info": {
   "codemirror_mode": {
    "name": "ipython",
    "version": 3
   },
   "file_extension": ".py",
   "mimetype": "text/x-python",
   "name": "python",
   "nbconvert_exporter": "python",
   "pygments_lexer": "ipython3",
   "version": "3.9.18"
  }
 },
 "nbformat": 4,
 "nbformat_minor": 5
}
