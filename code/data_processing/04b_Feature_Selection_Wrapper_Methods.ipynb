{
 "cells": [
  {
   "cell_type": "markdown",
   "id": "5b0d228a-fe57-4099-b4bf-363ea6651d06",
   "metadata": {},
   "source": [
    "<div class=\"alert alert-danger\">\n",
    "    <h4 style=\"font-weight: bold; font-size: 28px;\">Feature Selection using Wrapper Methods</h4>\n",
    "    <p style=\"font-size: 20px;\">NBA API Data (2022-2024)</p>\n",
    "</div>\n",
    "\n",
    "<a name=\"Feature-Selection\"></a>"
   ]
  },
  {
   "cell_type": "markdown",
   "id": "770b41dc-89f8-49bd-baf2-6be1f18ff61e",
   "metadata": {},
   "source": [
    "# Table of Contents"
   ]
  },
  {
   "cell_type": "markdown",
   "id": "1f899b84-6b19-4ef2-b95a-a1f3dcf6beac",
   "metadata": {},
   "source": [
    "[Setup](#Setup)\n",
    "\n",
    "[Data](#Data)\n",
    "\n",
    "**[1. Wrapper Methods for Total Points](#1.-Wrapper-Methods-for-Total-Points)**\n",
    "\n",
    "**[2. Wrapper Methods for Plus Minus](#2.-Wrapper-Methods-for-Plus-Minus)**\n",
    "\n",
    "**[3. Wrapper Methods for Game Winner](#3.-Wrapper-Methods-for-Game-Winner)**"
   ]
  },
  {
   "cell_type": "markdown",
   "id": "99f9bd3a-0688-40d7-a0c9-1fde55fb4a25",
   "metadata": {
    "jp-MarkdownHeadingCollapsed": true
   },
   "source": [
    "# Setup\n",
    "\n",
    "[Return to top](#Feature-Selection)"
   ]
  },
  {
   "cell_type": "code",
   "execution_count": 1,
   "id": "ddc970cb-94f0-471f-bb7e-6777c192bcdb",
   "metadata": {},
   "outputs": [
    {
     "name": "stderr",
     "output_type": "stream",
     "text": [
      "IProgress not found. Please update jupyter and ipywidgets. See https://ipywidgets.readthedocs.io/en/stable/user_install.html\n"
     ]
    }
   ],
   "source": [
    "import sys\n",
    "from pathlib import Path\n",
    "# get current working directory\n",
    "cwd = %pwd\n",
    "# add shared_code directory to Python sys.path\n",
    "sys.path.append(str(Path(cwd).parent / \"shared_code\"))\n",
    "# import all libraries in shared_code directory 'imports.py' file\n",
    "from imports import *\n",
    "%matplotlib inline"
   ]
  },
  {
   "cell_type": "markdown",
   "id": "118609df-2a49-45f5-8f09-cf57b65e1fd6",
   "metadata": {
    "jp-MarkdownHeadingCollapsed": true
   },
   "source": [
    "# Data\n",
    "\n",
    "[Return to top](#Feature-Selection)"
   ]
  },
  {
   "cell_type": "code",
   "execution_count": 2,
   "id": "e6e7f056-41c5-41d8-bc0b-86f914af0dc6",
   "metadata": {},
   "outputs": [
    {
     "name": "stdout",
     "output_type": "stream",
     "text": [
      "Season 2021-22: 1186 games\n",
      "Season 2022-23: 1181 games\n",
      "Season 2023-24: 692 games\n",
      "Total number of games across sampled seasons: 3059 games\n"
     ]
    }
   ],
   "source": [
    "# load, filter (by time) and scale data\n",
    "pts_scaled_df, pm_scaled_df, res_scaled_df, test_set_obs = utl.load_and_scale_data(\n",
    "    file_path='../../data/processed/nba_team_matchups_rolling_box_scores_2022_2024_r05.csv',\n",
    "    seasons_to_keep=['2021-22', '2022-23', '2023-24'],\n",
    "    training_season='2021-22',\n",
    "    feature_prefix='ROLL_',\n",
    "    scaler_type='minmax', \n",
    "    scale_target=False\n",
    ")"
   ]
  },
  {
   "cell_type": "markdown",
   "id": "986982b1-d0f1-4f05-91e7-cf98b46a4010",
   "metadata": {
    "jp-MarkdownHeadingCollapsed": true
   },
   "source": [
    "<a name=\"1.-Wrapper-Methods-for-Total-Points\"></a>\n",
    "# 1. Wrapper Methods for Total Points\n",
    "\n",
    "[Return to top](#Feature-Selection)"
   ]
  },
  {
   "cell_type": "code",
   "execution_count": 3,
   "id": "7ff516e0-867d-4ea1-a62a-7afb775535e1",
   "metadata": {},
   "outputs": [
    {
     "name": "stdout",
     "output_type": "stream",
     "text": [
      "{\n",
      "    \"forward_selected\": [\n",
      "        \"ROLL_HOME_PTS\",\n",
      "        \"ROLL_HOME_FG3M\",\n",
      "        \"ROLL_HOME_FTA\",\n",
      "        \"ROLL_HOME_REB\",\n",
      "        \"ROLL_HOME_AST\",\n",
      "        \"ROLL_HOME_PF\",\n",
      "        \"ROLL_AWAY_PTS\",\n",
      "        \"ROLL_AWAY_FG3_PCT\",\n",
      "        \"ROLL_AWAY_DREB\"\n",
      "    ],\n",
      "    \"backward_selected\": [\n",
      "        \"ROLL_HOME_PTS\",\n",
      "        \"ROLL_HOME_FG3A\",\n",
      "        \"ROLL_HOME_FG3_PCT\",\n",
      "        \"ROLL_HOME_REB\",\n",
      "        \"ROLL_HOME_AST\",\n",
      "        \"ROLL_HOME_STL\",\n",
      "        \"ROLL_HOME_PF\",\n",
      "        \"ROLL_AWAY_FGM\",\n",
      "        \"ROLL_AWAY_FG_PCT\",\n",
      "        \"ROLL_AWAY_FTA\",\n",
      "        \"ROLL_AWAY_REB\",\n",
      "        \"ROLL_AWAY_STL\"\n",
      "    ]\n",
      "}\n",
      "Total time taken: 5.90 seconds\n"
     ]
    }
   ],
   "source": [
    "start_time = time.time()\n",
    "\n",
    "# sequential feature selection\n",
    "pts_selected_lr = utl.sequential_feature_selection(\n",
    "    df=pts_scaled_df, \n",
    "    outcome_name='TOTAL_PTS', \n",
    "    estimator=LinearRegression()\n",
    ")\n",
    "\n",
    "end_time = time.time()\n",
    "print(f\"Total time taken: {end_time - start_time:.2f} seconds\")"
   ]
  },
  {
   "cell_type": "code",
   "execution_count": 4,
   "id": "fbdd4180-8832-41da-bcf3-c711405dfe7e",
   "metadata": {},
   "outputs": [
    {
     "name": "stdout",
     "output_type": "stream",
     "text": [
      "{\n",
      "    \"forward_selected\": [\n",
      "        \"ROLL_HOME_FGM\",\n",
      "        \"ROLL_HOME_FTA\",\n",
      "        \"ROLL_HOME_STL\",\n",
      "        \"ROLL_HOME_PF\",\n",
      "        \"ROLL_AWAY_PTS\",\n",
      "        \"ROLL_AWAY_FG3A\",\n",
      "        \"ROLL_AWAY_DREB\"\n",
      "    ],\n",
      "    \"backward_selected\": [\n",
      "        \"ROLL_HOME_FG3A\",\n",
      "        \"ROLL_HOME_FTM\",\n",
      "        \"ROLL_HOME_AST\",\n",
      "        \"ROLL_HOME_STL\",\n",
      "        \"ROLL_HOME_PF\",\n",
      "        \"ROLL_AWAY_PTS\"\n",
      "    ]\n",
      "}\n",
      "Total time taken: 458.79 seconds\n"
     ]
    }
   ],
   "source": [
    "start_time = time.time()\n",
    "\n",
    "# sequential feature selection\n",
    "pts_selected_rf = utl.sequential_feature_selection(\n",
    "    df=pts_scaled_df, \n",
    "    outcome_name='TOTAL_PTS', \n",
    "    estimator=RandomForestRegressor(random_state=599, n_jobs=-1, max_depth=8, max_features=0.3)\n",
    ")\n",
    "\n",
    "end_time = time.time()\n",
    "print(f\"Total time taken: {end_time - start_time:.2f} seconds\")"
   ]
  },
  {
   "cell_type": "markdown",
   "id": "f1d3ba76-5a95-4d74-9692-4c52a493c874",
   "metadata": {
    "jp-MarkdownHeadingCollapsed": true
   },
   "source": [
    "<a name=\"2.-Wrapper-Methods-for-Plus-Minus\"></a>\n",
    "# 2. Wrapper Methods for Plus Minus\n",
    "\n",
    "[Return to top](#Feature-Selection)"
   ]
  },
  {
   "cell_type": "code",
   "execution_count": 5,
   "id": "0444f09e-092a-4d8d-afa8-b8c12f332f2e",
   "metadata": {},
   "outputs": [
    {
     "name": "stdout",
     "output_type": "stream",
     "text": [
      "{\n",
      "    \"forward_selected\": [\n",
      "        \"ROLL_HOME_FGA\",\n",
      "        \"ROLL_HOME_FG_PCT\",\n",
      "        \"ROLL_HOME_FG3A\",\n",
      "        \"ROLL_HOME_FTA\",\n",
      "        \"ROLL_HOME_DREB\",\n",
      "        \"ROLL_HOME_REB\",\n",
      "        \"ROLL_AWAY_FGM\",\n",
      "        \"ROLL_AWAY_FT_PCT\",\n",
      "        \"ROLL_AWAY_AST\"\n",
      "    ],\n",
      "    \"backward_selected\": [\n",
      "        \"ROLL_HOME_FGM\",\n",
      "        \"ROLL_HOME_FGA\",\n",
      "        \"ROLL_HOME_FG3A\",\n",
      "        \"ROLL_HOME_FTM\",\n",
      "        \"ROLL_HOME_FTA\",\n",
      "        \"ROLL_HOME_FT_PCT\",\n",
      "        \"ROLL_HOME_REB\",\n",
      "        \"ROLL_AWAY_FGM\",\n",
      "        \"ROLL_AWAY_FT_PCT\"\n",
      "    ]\n",
      "}\n",
      "Total time taken: 5.94 seconds\n"
     ]
    }
   ],
   "source": [
    "start_time = time.time()\n",
    "\n",
    "# sequential feature selection\n",
    "pm_selected_lr = utl.sequential_feature_selection(\n",
    "    df=pm_scaled_df, \n",
    "    outcome_name='PLUS_MINUS', \n",
    "    estimator=LinearRegression()\n",
    ")\n",
    "\n",
    "end_time = time.time()\n",
    "print(f\"Total time taken: {end_time - start_time:.2f} seconds\")"
   ]
  },
  {
   "cell_type": "code",
   "execution_count": 6,
   "id": "d5d2c11f-d40e-4ad3-b827-383e7e912238",
   "metadata": {},
   "outputs": [
    {
     "name": "stdout",
     "output_type": "stream",
     "text": [
      "{\n",
      "    \"forward_selected\": [\n",
      "        \"ROLL_HOME_FG_PCT\",\n",
      "        \"ROLL_HOME_FG3M\",\n",
      "        \"ROLL_HOME_FG3A\",\n",
      "        \"ROLL_HOME_FG3_PCT\",\n",
      "        \"ROLL_HOME_FT_PCT\",\n",
      "        \"ROLL_HOME_DREB\",\n",
      "        \"ROLL_HOME_TOV\",\n",
      "        \"ROLL_AWAY_PTS\",\n",
      "        \"ROLL_AWAY_FGM\",\n",
      "        \"ROLL_AWAY_FG3A\",\n",
      "        \"ROLL_AWAY_FT_PCT\",\n",
      "        \"ROLL_AWAY_AST\",\n",
      "        \"ROLL_AWAY_BLK\",\n",
      "        \"ROLL_AWAY_PF\"\n",
      "    ],\n",
      "    \"backward_selected\": [\n",
      "        \"ROLL_HOME_FG_PCT\",\n",
      "        \"ROLL_HOME_FT_PCT\",\n",
      "        \"ROLL_HOME_DREB\",\n",
      "        \"ROLL_HOME_BLK\",\n",
      "        \"ROLL_HOME_TOV\",\n",
      "        \"ROLL_AWAY_FG3A\",\n",
      "        \"ROLL_AWAY_FT_PCT\",\n",
      "        \"ROLL_AWAY_AST\",\n",
      "        \"ROLL_AWAY_STL\"\n",
      "    ]\n",
      "}\n",
      "Total time taken: 473.23 seconds\n"
     ]
    }
   ],
   "source": [
    "start_time = time.time()\n",
    "\n",
    "# sequential feature selection\n",
    "pm_selected_rf = utl.sequential_feature_selection(\n",
    "    df=pm_scaled_df, \n",
    "    outcome_name='PLUS_MINUS', \n",
    "    estimator=RandomForestRegressor(random_state=599, n_jobs=-1, max_depth=8, max_features=0.3)\n",
    ")\n",
    "\n",
    "end_time = time.time()\n",
    "print(f\"Total time taken: {end_time - start_time:.2f} seconds\")"
   ]
  },
  {
   "cell_type": "markdown",
   "id": "fb231f2f-75e6-4cb2-8143-4da61cb95a12",
   "metadata": {
    "jp-MarkdownHeadingCollapsed": true
   },
   "source": [
    "<a name=\"3.-Wrapper-Methods-for-Game-Winner\"></a>\n",
    "# 3. Wrapper Methods for Game Winner\n",
    "\n",
    "[Return to top](#Feature-Selection)"
   ]
  },
  {
   "cell_type": "code",
   "execution_count": 7,
   "id": "0d437b84-af4e-448c-9455-9384a38eaa92",
   "metadata": {},
   "outputs": [
    {
     "name": "stdout",
     "output_type": "stream",
     "text": [
      "{\n",
      "    \"forward_selected\": [\n",
      "        \"ROLL_HOME_PTS\"\n",
      "    ],\n",
      "    \"backward_selected\": [\n",
      "        \"ROLL_HOME_PTS\",\n",
      "        \"ROLL_HOME_FGM\",\n",
      "        \"ROLL_HOME_FGA\",\n",
      "        \"ROLL_HOME_FG_PCT\",\n",
      "        \"ROLL_HOME_FG3M\",\n",
      "        \"ROLL_HOME_FG3A\",\n",
      "        \"ROLL_HOME_FG3_PCT\",\n",
      "        \"ROLL_HOME_FTM\",\n",
      "        \"ROLL_HOME_FTA\",\n",
      "        \"ROLL_HOME_FT_PCT\",\n",
      "        \"ROLL_HOME_OREB\",\n",
      "        \"ROLL_HOME_DREB\",\n",
      "        \"ROLL_HOME_REB\",\n",
      "        \"ROLL_HOME_AST\",\n",
      "        \"ROLL_HOME_STL\",\n",
      "        \"ROLL_HOME_BLK\",\n",
      "        \"ROLL_HOME_TOV\",\n",
      "        \"ROLL_HOME_PF\",\n",
      "        \"ROLL_AWAY_PTS\",\n",
      "        \"ROLL_AWAY_FGM\",\n",
      "        \"ROLL_AWAY_FGA\",\n",
      "        \"ROLL_AWAY_FG_PCT\",\n",
      "        \"ROLL_AWAY_FG3M\",\n",
      "        \"ROLL_AWAY_FG3A\",\n",
      "        \"ROLL_AWAY_FG3_PCT\",\n",
      "        \"ROLL_AWAY_FTM\",\n",
      "        \"ROLL_AWAY_FTA\",\n",
      "        \"ROLL_AWAY_FT_PCT\",\n",
      "        \"ROLL_AWAY_OREB\",\n",
      "        \"ROLL_AWAY_DREB\",\n",
      "        \"ROLL_AWAY_REB\",\n",
      "        \"ROLL_AWAY_AST\",\n",
      "        \"ROLL_AWAY_STL\",\n",
      "        \"ROLL_AWAY_BLK\",\n",
      "        \"ROLL_AWAY_TOV\",\n",
      "        \"ROLL_AWAY_PF\"\n",
      "    ]\n",
      "}\n",
      "Total time taken: 6.41 seconds\n"
     ]
    }
   ],
   "source": [
    "start_time = time.time()\n",
    "\n",
    "# sequential feature selection\n",
    "res_selected_lr = utl.sequential_feature_selection(\n",
    "    df=res_scaled_df, \n",
    "    outcome_name='GAME_RESULT', \n",
    "    estimator=LinearRegression()\n",
    ")\n",
    "\n",
    "end_time = time.time()\n",
    "print(f\"Total time taken: {end_time - start_time:.2f} seconds\")"
   ]
  },
  {
   "cell_type": "code",
   "execution_count": 8,
   "id": "8bd28fc3-830f-4854-a625-fb2e15eca456",
   "metadata": {},
   "outputs": [
    {
     "name": "stdout",
     "output_type": "stream",
     "text": [
      "{\n",
      "    \"forward_selected\": [\n",
      "        \"ROLL_HOME_FG3_PCT\",\n",
      "        \"ROLL_HOME_DREB\",\n",
      "        \"ROLL_HOME_AST\",\n",
      "        \"ROLL_HOME_STL\",\n",
      "        \"ROLL_HOME_TOV\",\n",
      "        \"ROLL_AWAY_FGM\",\n",
      "        \"ROLL_AWAY_FG_PCT\",\n",
      "        \"ROLL_AWAY_AST\"\n",
      "    ],\n",
      "    \"backward_selected\": [\n",
      "        \"ROLL_HOME_FGM\",\n",
      "        \"ROLL_HOME_FG3A\",\n",
      "        \"ROLL_HOME_AST\",\n",
      "        \"ROLL_HOME_TOV\",\n",
      "        \"ROLL_AWAY_FG_PCT\",\n",
      "        \"ROLL_AWAY_FG3A\",\n",
      "        \"ROLL_AWAY_AST\",\n",
      "        \"ROLL_AWAY_STL\",\n",
      "        \"ROLL_AWAY_TOV\"\n",
      "    ]\n",
      "}\n",
      "Total time taken: 590.41 seconds\n"
     ]
    }
   ],
   "source": [
    "start_time = time.time()\n",
    "\n",
    "# sequential feature selection\n",
    "res_selected_rf = utl.sequential_feature_selection(\n",
    "    df=res_scaled_df, \n",
    "    outcome_name='GAME_RESULT', \n",
    "    estimator=RandomForestClassifier(random_state=599, n_jobs=-1, max_depth=8, max_features='sqrt')\n",
    ")\n",
    "\n",
    "end_time = time.time()\n",
    "print(f\"Total time taken: {end_time - start_time:.2f} seconds\")"
   ]
  }
 ],
 "metadata": {
  "kernelspec": {
   "display_name": "Python 3 (ipykernel)",
   "language": "python",
   "name": "python3"
  },
  "language_info": {
   "codemirror_mode": {
    "name": "ipython",
    "version": 3
   },
   "file_extension": ".py",
   "mimetype": "text/x-python",
   "name": "python",
   "nbconvert_exporter": "python",
   "pygments_lexer": "ipython3",
   "version": "3.9.18"
  }
 },
 "nbformat": 4,
 "nbformat_minor": 5
}
