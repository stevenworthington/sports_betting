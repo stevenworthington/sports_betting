{
 "cells": [
  {
   "cell_type": "markdown",
   "id": "5b0d228a-fe57-4099-b4bf-363ea6651d06",
   "metadata": {},
   "source": [
    "<div class=\"alert alert-danger\">\n",
    "    <h4 style=\"font-weight: bold; font-size: 28px;\">Feature Selection using Filter Methods</h4>\n",
    "    <p style=\"font-size: 20px;\">NBA API Data (2022-2024)</p>\n",
    "</div>\n",
    "\n",
    "<a name=\"Feature-Selection\"></a>"
   ]
  },
  {
   "cell_type": "markdown",
   "id": "770b41dc-89f8-49bd-baf2-6be1f18ff61e",
   "metadata": {},
   "source": [
    "# Table of Contents"
   ]
  },
  {
   "cell_type": "markdown",
   "id": "1f899b84-6b19-4ef2-b95a-a1f3dcf6beac",
   "metadata": {},
   "source": [
    "[Setup](#Setup)\n",
    "\n",
    "[Data](#Data)\n",
    "\n",
    "**[1. Filter Methods for Total Points](#1.-Filter-Methods-for-Total-Points)**\n",
    "\n",
    "- [1.1. Correlation Based](#1.1.-Correlation-Based)\n",
    "\n",
    "- [1.2. `vtreat` Library](#1.2.-vtreat-Library)\n",
    "\n",
    "**[2. Filter Methods for Plus Minus](#2.-Filter-Methods-for-Plus-Minus)**\n",
    "\n",
    "- [2.1. Correlation Based](#2.1.-Correlation-Based)\n",
    "\n",
    "- [2.2. `vtreat` Library](#2.2.-vtreat-Library)\n",
    "\n",
    "**[3. Filter Methods for Game Winner](#3.-Filter-Methods-for-Game-Winner)**\n",
    "\n",
    "- [2.1. Correlation Based](#2.1.-Correlation-Based)\n",
    "\n",
    "- [2.2. `vtreat` Library](#2.2.-vtreat-Library)"
   ]
  },
  {
   "cell_type": "markdown",
   "id": "99f9bd3a-0688-40d7-a0c9-1fde55fb4a25",
   "metadata": {
    "jp-MarkdownHeadingCollapsed": true
   },
   "source": [
    "# Setup\n",
    "\n",
    "[Return to top](#Feature-Selection)"
   ]
  },
  {
   "cell_type": "code",
   "execution_count": 1,
   "id": "ddc970cb-94f0-471f-bb7e-6777c192bcdb",
   "metadata": {},
   "outputs": [
    {
     "name": "stderr",
     "output_type": "stream",
     "text": [
      "IProgress not found. Please update jupyter and ipywidgets. See https://ipywidgets.readthedocs.io/en/stable/user_install.html\n"
     ]
    }
   ],
   "source": [
    "import sys\n",
    "from pathlib import Path\n",
    "# get current working directory\n",
    "cwd = %pwd\n",
    "# add shared_code directory to Python sys.path\n",
    "sys.path.append(str(Path(cwd).parent / \"shared_code\"))\n",
    "# import all libraries in shared_code directory 'imports.py' file\n",
    "from imports import *\n",
    "%matplotlib inline"
   ]
  },
  {
   "cell_type": "markdown",
   "id": "118609df-2a49-45f5-8f09-cf57b65e1fd6",
   "metadata": {
    "jp-MarkdownHeadingCollapsed": true
   },
   "source": [
    "# Data\n",
    "\n",
    "[Return to top](#Feature-Selection)"
   ]
  },
  {
   "cell_type": "code",
   "execution_count": 2,
   "id": "e6e7f056-41c5-41d8-bc0b-86f914af0dc6",
   "metadata": {},
   "outputs": [
    {
     "name": "stdout",
     "output_type": "stream",
     "text": [
      "Season 2021-22: 1186 games\n",
      "Season 2022-23: 1181 games\n",
      "Season 2023-24: 692 games\n",
      "Total number of games across sampled seasons: 3059 games\n"
     ]
    }
   ],
   "source": [
    "# load, filter (by time) and scale data\n",
    "pts_scaled_df, pm_scaled_df, res_scaled_df, test_set_obs = utl.load_and_scale_data(\n",
    "    file_path='../../data/processed/nba_team_matchups_rolling_box_scores_2022_2024_r05.csv',\n",
    "    seasons_to_keep=['2021-22', '2022-23', '2023-24'],\n",
    "    training_season='2021-22',\n",
    "    feature_prefix='ROLL_',\n",
    "    scaler_type='minmax', \n",
    "    scale_target=False\n",
    ")"
   ]
  },
  {
   "cell_type": "markdown",
   "id": "986982b1-d0f1-4f05-91e7-cf98b46a4010",
   "metadata": {
    "jp-MarkdownHeadingCollapsed": true
   },
   "source": [
    "<a name=\"1.-Filter-Methods-for-Total-Points\"></a>\n",
    "# 1. Filter Methods for Total Points\n",
    "\n",
    "[Return to top](#Feature-Selection)"
   ]
  },
  {
   "cell_type": "markdown",
   "id": "abd760fb-919b-4cdf-99b6-1adf4a171911",
   "metadata": {
    "jp-MarkdownHeadingCollapsed": true
   },
   "source": [
    "<a name=\"1.1.-Correlation-Based\"></a>\n",
    "## 1.1. Correlation Based\n",
    "\n",
    "[Return to top](#Feature-Selection)"
   ]
  },
  {
   "cell_type": "code",
   "execution_count": 3,
   "id": "f4fb3fc1-1e67-45ee-9e37-99f3a7652db6",
   "metadata": {},
   "outputs": [
    {
     "name": "stdout",
     "output_type": "stream",
     "text": [
      "{\n",
      "    \"outcome_correlation\": [\n",
      "        \"ROLL_HOME_PTS\",\n",
      "        \"ROLL_HOME_FGM\",\n",
      "        \"ROLL_HOME_FG_PCT\",\n",
      "        \"ROLL_HOME_FTM\",\n",
      "        \"ROLL_HOME_FTA\",\n",
      "        \"ROLL_HOME_AST\",\n",
      "        \"ROLL_AWAY_PTS\",\n",
      "        \"ROLL_AWAY_FGM\",\n",
      "        \"ROLL_AWAY_FGA\",\n",
      "        \"ROLL_AWAY_FG_PCT\",\n",
      "        \"ROLL_AWAY_FTM\",\n",
      "        \"ROLL_AWAY_FTA\",\n",
      "        \"ROLL_AWAY_AST\"\n",
      "    ],\n",
      "    \"feature_correlation\": [\n",
      "        \"ROLL_HOME_PTS\",\n",
      "        \"ROLL_HOME_FGA\",\n",
      "        \"ROLL_HOME_FG3M\",\n",
      "        \"ROLL_HOME_FG3_PCT\",\n",
      "        \"ROLL_HOME_FTM\",\n",
      "        \"ROLL_HOME_FT_PCT\",\n",
      "        \"ROLL_HOME_OREB\",\n",
      "        \"ROLL_HOME_DREB\",\n",
      "        \"ROLL_HOME_AST\",\n",
      "        \"ROLL_HOME_STL\",\n",
      "        \"ROLL_HOME_BLK\",\n",
      "        \"ROLL_HOME_TOV\",\n",
      "        \"ROLL_HOME_PF\",\n",
      "        \"ROLL_AWAY_PTS\",\n",
      "        \"ROLL_AWAY_FGA\",\n",
      "        \"ROLL_AWAY_FG3M\",\n",
      "        \"ROLL_AWAY_FTM\",\n",
      "        \"ROLL_AWAY_FT_PCT\",\n",
      "        \"ROLL_AWAY_OREB\",\n",
      "        \"ROLL_AWAY_DREB\",\n",
      "        \"ROLL_AWAY_STL\",\n",
      "        \"ROLL_AWAY_BLK\",\n",
      "        \"ROLL_AWAY_TOV\",\n",
      "        \"ROLL_AWAY_PF\"\n",
      "    ],\n",
      "    \"VIF\": [\n",
      "        \"ROLL_HOME_STL\",\n",
      "        \"ROLL_AWAY_STL\"\n",
      "    ],\n",
      "    \"feature_intersection\": []\n",
      "}\n"
     ]
    }
   ],
   "source": [
    "pts_selection = utl.filter_feature_selection(\n",
    "    df=pts_scaled_df, \n",
    "    outcome_name='TOTAL_PTS'\n",
    ")"
   ]
  },
  {
   "cell_type": "markdown",
   "id": "d763357f-ed3b-49ca-9c0d-150910aaa460",
   "metadata": {
    "jp-MarkdownHeadingCollapsed": true
   },
   "source": [
    "<a name=\"1.2.-vtreat-Library\"></a>\n",
    "## 1.2. `vtreat` Library\n",
    "\n",
    "[Return to top](#Feature-Selection)"
   ]
  },
  {
   "cell_type": "code",
   "execution_count": 4,
   "id": "a5089673-096c-4f47-b350-0820ecbb9d91",
   "metadata": {},
   "outputs": [
    {
     "name": "stdout",
     "output_type": "stream",
     "text": [
      "There were 18 features selected out of 36 original features\n",
      "\n"
     ]
    }
   ],
   "source": [
    "# automated feature selection and preprocessing\n",
    "pts_scaled_df_selected, pts_selection = utl.vtreat_feature_selection(\n",
    "    df=pts_scaled_df,\n",
    "    outcome_name='TOTAL_PTS'\n",
    ")"
   ]
  },
  {
   "cell_type": "code",
   "execution_count": 5,
   "id": "5fc2efef-b15c-4391-828e-1a58722512de",
   "metadata": {},
   "outputs": [
    {
     "data": {
      "text/html": [
       "<div>\n",
       "<style scoped>\n",
       "    .dataframe tbody tr th:only-of-type {\n",
       "        vertical-align: middle;\n",
       "    }\n",
       "\n",
       "    .dataframe tbody tr th {\n",
       "        vertical-align: top;\n",
       "    }\n",
       "\n",
       "    .dataframe thead th {\n",
       "        text-align: right;\n",
       "    }\n",
       "</style>\n",
       "<table border=\"1\" class=\"dataframe\">\n",
       "  <thead>\n",
       "    <tr style=\"text-align: right;\">\n",
       "      <th></th>\n",
       "      <th>ROLL_AWAY_FTA</th>\n",
       "      <th>ROLL_HOME_FG3A</th>\n",
       "      <th>ROLL_AWAY_DREB</th>\n",
       "      <th>ROLL_HOME_FG3_PCT</th>\n",
       "      <th>ROLL_HOME_FGM</th>\n",
       "      <th>ROLL_HOME_FTA</th>\n",
       "      <th>ROLL_HOME_FTM</th>\n",
       "      <th>ROLL_HOME_AST</th>\n",
       "      <th>ROLL_AWAY_PTS</th>\n",
       "      <th>ROLL_AWAY_FGM</th>\n",
       "      <th>ROLL_AWAY_FTM</th>\n",
       "      <th>ROLL_AWAY_FG_PCT</th>\n",
       "      <th>ROLL_HOME_PTS</th>\n",
       "      <th>ROLL_AWAY_FGA</th>\n",
       "      <th>ROLL_AWAY_TOV</th>\n",
       "      <th>ROLL_HOME_FG_PCT</th>\n",
       "      <th>ROLL_AWAY_AST</th>\n",
       "      <th>ROLL_HOME_PF</th>\n",
       "      <th>TOTAL_PTS</th>\n",
       "    </tr>\n",
       "  </thead>\n",
       "  <tbody>\n",
       "    <tr>\n",
       "      <th>0</th>\n",
       "      <td>0.285</td>\n",
       "      <td>0.580</td>\n",
       "      <td>0.369</td>\n",
       "      <td>0.731</td>\n",
       "      <td>0.522</td>\n",
       "      <td>0.878</td>\n",
       "      <td>0.805</td>\n",
       "      <td>0.612</td>\n",
       "      <td>0.577</td>\n",
       "      <td>0.586</td>\n",
       "      <td>0.336</td>\n",
       "      <td>0.704</td>\n",
       "      <td>0.745</td>\n",
       "      <td>0.202</td>\n",
       "      <td>0.391</td>\n",
       "      <td>0.753</td>\n",
       "      <td>0.500</td>\n",
       "      <td>0.661</td>\n",
       "      <td>185</td>\n",
       "    </tr>\n",
       "    <tr>\n",
       "      <th>1</th>\n",
       "      <td>0.163</td>\n",
       "      <td>0.412</td>\n",
       "      <td>0.685</td>\n",
       "      <td>0.000</td>\n",
       "      <td>0.000</td>\n",
       "      <td>0.534</td>\n",
       "      <td>0.466</td>\n",
       "      <td>0.000</td>\n",
       "      <td>0.096</td>\n",
       "      <td>0.017</td>\n",
       "      <td>0.294</td>\n",
       "      <td>0.000</td>\n",
       "      <td>0.000</td>\n",
       "      <td>0.362</td>\n",
       "      <td>0.348</td>\n",
       "      <td>0.000</td>\n",
       "      <td>0.083</td>\n",
       "      <td>0.576</td>\n",
       "      <td>198</td>\n",
       "    </tr>\n",
       "    <tr>\n",
       "      <th>2</th>\n",
       "      <td>0.772</td>\n",
       "      <td>0.454</td>\n",
       "      <td>0.685</td>\n",
       "      <td>0.466</td>\n",
       "      <td>0.652</td>\n",
       "      <td>0.534</td>\n",
       "      <td>0.593</td>\n",
       "      <td>0.561</td>\n",
       "      <td>0.635</td>\n",
       "      <td>0.586</td>\n",
       "      <td>0.672</td>\n",
       "      <td>0.728</td>\n",
       "      <td>0.691</td>\n",
       "      <td>0.176</td>\n",
       "      <td>0.174</td>\n",
       "      <td>0.758</td>\n",
       "      <td>0.708</td>\n",
       "      <td>0.661</td>\n",
       "      <td>239</td>\n",
       "    </tr>\n",
       "    <tr>\n",
       "      <th>3</th>\n",
       "      <td>0.813</td>\n",
       "      <td>0.244</td>\n",
       "      <td>0.369</td>\n",
       "      <td>0.772</td>\n",
       "      <td>0.826</td>\n",
       "      <td>0.382</td>\n",
       "      <td>0.297</td>\n",
       "      <td>0.918</td>\n",
       "      <td>0.250</td>\n",
       "      <td>0.069</td>\n",
       "      <td>0.588</td>\n",
       "      <td>0.225</td>\n",
       "      <td>0.727</td>\n",
       "      <td>0.122</td>\n",
       "      <td>0.348</td>\n",
       "      <td>0.827</td>\n",
       "      <td>0.208</td>\n",
       "      <td>0.661</td>\n",
       "      <td>232</td>\n",
       "    </tr>\n",
       "    <tr>\n",
       "      <th>4</th>\n",
       "      <td>0.569</td>\n",
       "      <td>0.580</td>\n",
       "      <td>0.730</td>\n",
       "      <td>0.820</td>\n",
       "      <td>0.783</td>\n",
       "      <td>0.229</td>\n",
       "      <td>0.254</td>\n",
       "      <td>0.765</td>\n",
       "      <td>1.000</td>\n",
       "      <td>0.897</td>\n",
       "      <td>0.504</td>\n",
       "      <td>0.362</td>\n",
       "      <td>0.745</td>\n",
       "      <td>1.000</td>\n",
       "      <td>0.478</td>\n",
       "      <td>0.848</td>\n",
       "      <td>0.833</td>\n",
       "      <td>0.322</td>\n",
       "      <td>204</td>\n",
       "    </tr>\n",
       "  </tbody>\n",
       "</table>\n",
       "</div>"
      ],
      "text/plain": [
       "   ROLL_AWAY_FTA  ROLL_HOME_FG3A  ROLL_AWAY_DREB  ROLL_HOME_FG3_PCT  \\\n",
       "0          0.285           0.580           0.369              0.731   \n",
       "1          0.163           0.412           0.685              0.000   \n",
       "2          0.772           0.454           0.685              0.466   \n",
       "3          0.813           0.244           0.369              0.772   \n",
       "4          0.569           0.580           0.730              0.820   \n",
       "\n",
       "   ROLL_HOME_FGM  ROLL_HOME_FTA  ROLL_HOME_FTM  ROLL_HOME_AST  ROLL_AWAY_PTS  \\\n",
       "0          0.522          0.878          0.805          0.612          0.577   \n",
       "1          0.000          0.534          0.466          0.000          0.096   \n",
       "2          0.652          0.534          0.593          0.561          0.635   \n",
       "3          0.826          0.382          0.297          0.918          0.250   \n",
       "4          0.783          0.229          0.254          0.765          1.000   \n",
       "\n",
       "   ROLL_AWAY_FGM  ROLL_AWAY_FTM  ROLL_AWAY_FG_PCT  ROLL_HOME_PTS  \\\n",
       "0          0.586          0.336             0.704          0.745   \n",
       "1          0.017          0.294             0.000          0.000   \n",
       "2          0.586          0.672             0.728          0.691   \n",
       "3          0.069          0.588             0.225          0.727   \n",
       "4          0.897          0.504             0.362          0.745   \n",
       "\n",
       "   ROLL_AWAY_FGA  ROLL_AWAY_TOV  ROLL_HOME_FG_PCT  ROLL_AWAY_AST  \\\n",
       "0          0.202          0.391             0.753          0.500   \n",
       "1          0.362          0.348             0.000          0.083   \n",
       "2          0.176          0.174             0.758          0.708   \n",
       "3          0.122          0.348             0.827          0.208   \n",
       "4          1.000          0.478             0.848          0.833   \n",
       "\n",
       "   ROLL_HOME_PF  TOTAL_PTS  \n",
       "0         0.661        185  \n",
       "1         0.576        198  \n",
       "2         0.661        239  \n",
       "3         0.661        232  \n",
       "4         0.322        204  "
      ]
     },
     "execution_count": 5,
     "metadata": {},
     "output_type": "execute_result"
    }
   ],
   "source": [
    "pts_scaled_df_selected.head()"
   ]
  },
  {
   "cell_type": "code",
   "execution_count": 6,
   "id": "43154fc9-ebeb-4875-a8a2-e23a325dfefd",
   "metadata": {},
   "outputs": [
    {
     "data": {
      "text/plain": [
       "['ROLL_AWAY_FTA',\n",
       " 'ROLL_HOME_FG3A',\n",
       " 'ROLL_AWAY_DREB',\n",
       " 'ROLL_HOME_FG3_PCT',\n",
       " 'ROLL_HOME_FGM',\n",
       " 'ROLL_HOME_FTA',\n",
       " 'ROLL_HOME_FTM',\n",
       " 'ROLL_HOME_AST',\n",
       " 'ROLL_AWAY_PTS',\n",
       " 'ROLL_AWAY_FGM',\n",
       " 'ROLL_AWAY_FTM',\n",
       " 'ROLL_AWAY_FG_PCT',\n",
       " 'ROLL_HOME_PTS',\n",
       " 'ROLL_AWAY_FGA',\n",
       " 'ROLL_AWAY_TOV',\n",
       " 'ROLL_HOME_FG_PCT',\n",
       " 'ROLL_AWAY_AST',\n",
       " 'ROLL_HOME_PF']"
      ]
     },
     "execution_count": 6,
     "metadata": {},
     "output_type": "execute_result"
    }
   ],
   "source": [
    "pts_selection"
   ]
  },
  {
   "cell_type": "markdown",
   "id": "f1d3ba76-5a95-4d74-9692-4c52a493c874",
   "metadata": {
    "jp-MarkdownHeadingCollapsed": true
   },
   "source": [
    "<a name=\"2.-Filter-Methods-for-Plus-Minus\"></a>\n",
    "# 2. Filter Methods for Plus Minus\n",
    "\n",
    "[Return to top](#Feature-Selection)"
   ]
  },
  {
   "cell_type": "markdown",
   "id": "27e12ebd-b533-4d86-b59c-2ae89140bcc0",
   "metadata": {
    "jp-MarkdownHeadingCollapsed": true
   },
   "source": [
    "<a name=\"2.1.-Correlation-Based\"></a>\n",
    "## 2.1. Correlation Based\n",
    "\n",
    "[Return to top](#Feature-Selection)"
   ]
  },
  {
   "cell_type": "code",
   "execution_count": 7,
   "id": "c233e5a6-20b0-48de-a7a7-5ad58b95646a",
   "metadata": {},
   "outputs": [
    {
     "name": "stdout",
     "output_type": "stream",
     "text": [
      "{\n",
      "    \"outcome_correlation\": [\n",
      "        \"ROLL_HOME_PTS\",\n",
      "        \"ROLL_HOME_FG_PCT\",\n",
      "        \"ROLL_AWAY_FT_PCT\"\n",
      "    ],\n",
      "    \"feature_correlation\": [\n",
      "        \"ROLL_HOME_PTS\",\n",
      "        \"ROLL_HOME_FGA\",\n",
      "        \"ROLL_HOME_FG3M\",\n",
      "        \"ROLL_HOME_FG3_PCT\",\n",
      "        \"ROLL_HOME_FTM\",\n",
      "        \"ROLL_HOME_FT_PCT\",\n",
      "        \"ROLL_HOME_OREB\",\n",
      "        \"ROLL_HOME_DREB\",\n",
      "        \"ROLL_HOME_AST\",\n",
      "        \"ROLL_HOME_STL\",\n",
      "        \"ROLL_HOME_BLK\",\n",
      "        \"ROLL_HOME_TOV\",\n",
      "        \"ROLL_HOME_PF\",\n",
      "        \"ROLL_AWAY_PTS\",\n",
      "        \"ROLL_AWAY_FGA\",\n",
      "        \"ROLL_AWAY_FG3M\",\n",
      "        \"ROLL_AWAY_FTM\",\n",
      "        \"ROLL_AWAY_FT_PCT\",\n",
      "        \"ROLL_AWAY_OREB\",\n",
      "        \"ROLL_AWAY_DREB\",\n",
      "        \"ROLL_AWAY_STL\",\n",
      "        \"ROLL_AWAY_BLK\",\n",
      "        \"ROLL_AWAY_TOV\",\n",
      "        \"ROLL_AWAY_PF\"\n",
      "    ],\n",
      "    \"VIF\": [\n",
      "        \"ROLL_HOME_STL\",\n",
      "        \"ROLL_AWAY_STL\"\n",
      "    ],\n",
      "    \"feature_intersection\": []\n",
      "}\n"
     ]
    }
   ],
   "source": [
    "pm_selection = utl.filter_feature_selection(\n",
    "    df=pm_scaled_df, \n",
    "    outcome_name='PLUS_MINUS'\n",
    ")"
   ]
  },
  {
   "cell_type": "markdown",
   "id": "59bd0d27-46fc-416c-afa4-5d2c30a4452f",
   "metadata": {
    "jp-MarkdownHeadingCollapsed": true
   },
   "source": [
    "<a name=\"2.2.-vtreat-Library\"></a>\n",
    "## 2.2. `vtreat` Library\n",
    "\n",
    "[Return to top](#Feature-Selection)"
   ]
  },
  {
   "cell_type": "code",
   "execution_count": 8,
   "id": "0444f09e-092a-4d8d-afa8-b8c12f332f2e",
   "metadata": {},
   "outputs": [
    {
     "name": "stdout",
     "output_type": "stream",
     "text": [
      "There were 14 features selected out of 36 original features\n",
      "\n"
     ]
    }
   ],
   "source": [
    "# automated feature selection and preprocessing\n",
    "pm_scaled_df_selected, pm_selection = utl.vtreat_feature_selection(\n",
    "    df=pm_scaled_df,\n",
    "    outcome_name='PLUS_MINUS'\n",
    ")"
   ]
  },
  {
   "cell_type": "code",
   "execution_count": 9,
   "id": "859bb68d-81be-46a3-a9a7-68bc39078a65",
   "metadata": {},
   "outputs": [
    {
     "data": {
      "text/html": [
       "<div>\n",
       "<style scoped>\n",
       "    .dataframe tbody tr th:only-of-type {\n",
       "        vertical-align: middle;\n",
       "    }\n",
       "\n",
       "    .dataframe tbody tr th {\n",
       "        vertical-align: top;\n",
       "    }\n",
       "\n",
       "    .dataframe thead th {\n",
       "        text-align: right;\n",
       "    }\n",
       "</style>\n",
       "<table border=\"1\" class=\"dataframe\">\n",
       "  <thead>\n",
       "    <tr style=\"text-align: right;\">\n",
       "      <th></th>\n",
       "      <th>ROLL_HOME_FG3A</th>\n",
       "      <th>ROLL_AWAY_DREB</th>\n",
       "      <th>ROLL_HOME_FG3_PCT</th>\n",
       "      <th>ROLL_HOME_FGM</th>\n",
       "      <th>ROLL_HOME_FG3M</th>\n",
       "      <th>ROLL_HOME_AST</th>\n",
       "      <th>ROLL_AWAY_PTS</th>\n",
       "      <th>ROLL_AWAY_FGM</th>\n",
       "      <th>ROLL_AWAY_FT_PCT</th>\n",
       "      <th>ROLL_AWAY_FG_PCT</th>\n",
       "      <th>ROLL_HOME_DREB</th>\n",
       "      <th>ROLL_HOME_PTS</th>\n",
       "      <th>ROLL_HOME_FG_PCT</th>\n",
       "      <th>ROLL_AWAY_AST</th>\n",
       "      <th>PLUS_MINUS</th>\n",
       "    </tr>\n",
       "  </thead>\n",
       "  <tbody>\n",
       "    <tr>\n",
       "      <th>0</th>\n",
       "      <td>0.580</td>\n",
       "      <td>0.369</td>\n",
       "      <td>0.731</td>\n",
       "      <td>0.522</td>\n",
       "      <td>0.758</td>\n",
       "      <td>0.612</td>\n",
       "      <td>0.577</td>\n",
       "      <td>0.586</td>\n",
       "      <td>0.603</td>\n",
       "      <td>0.704</td>\n",
       "      <td>0.292</td>\n",
       "      <td>0.745</td>\n",
       "      <td>0.753</td>\n",
       "      <td>0.500</td>\n",
       "      <td>7.0</td>\n",
       "    </tr>\n",
       "    <tr>\n",
       "      <th>1</th>\n",
       "      <td>0.412</td>\n",
       "      <td>0.685</td>\n",
       "      <td>0.000</td>\n",
       "      <td>0.000</td>\n",
       "      <td>0.076</td>\n",
       "      <td>0.000</td>\n",
       "      <td>0.096</td>\n",
       "      <td>0.017</td>\n",
       "      <td>0.837</td>\n",
       "      <td>0.000</td>\n",
       "      <td>0.381</td>\n",
       "      <td>0.000</td>\n",
       "      <td>0.000</td>\n",
       "      <td>0.083</td>\n",
       "      <td>-8.0</td>\n",
       "    </tr>\n",
       "    <tr>\n",
       "      <th>2</th>\n",
       "      <td>0.454</td>\n",
       "      <td>0.685</td>\n",
       "      <td>0.466</td>\n",
       "      <td>0.652</td>\n",
       "      <td>0.455</td>\n",
       "      <td>0.561</td>\n",
       "      <td>0.635</td>\n",
       "      <td>0.586</td>\n",
       "      <td>0.469</td>\n",
       "      <td>0.728</td>\n",
       "      <td>0.602</td>\n",
       "      <td>0.691</td>\n",
       "      <td>0.758</td>\n",
       "      <td>0.708</td>\n",
       "      <td>29.0</td>\n",
       "    </tr>\n",
       "    <tr>\n",
       "      <th>3</th>\n",
       "      <td>0.244</td>\n",
       "      <td>0.369</td>\n",
       "      <td>0.772</td>\n",
       "      <td>0.826</td>\n",
       "      <td>0.530</td>\n",
       "      <td>0.918</td>\n",
       "      <td>0.250</td>\n",
       "      <td>0.069</td>\n",
       "      <td>0.268</td>\n",
       "      <td>0.225</td>\n",
       "      <td>0.159</td>\n",
       "      <td>0.727</td>\n",
       "      <td>0.827</td>\n",
       "      <td>0.208</td>\n",
       "      <td>-10.0</td>\n",
       "    </tr>\n",
       "    <tr>\n",
       "      <th>4</th>\n",
       "      <td>0.580</td>\n",
       "      <td>0.730</td>\n",
       "      <td>0.820</td>\n",
       "      <td>0.783</td>\n",
       "      <td>0.833</td>\n",
       "      <td>0.765</td>\n",
       "      <td>1.000</td>\n",
       "      <td>0.897</td>\n",
       "      <td>0.446</td>\n",
       "      <td>0.362</td>\n",
       "      <td>0.779</td>\n",
       "      <td>0.745</td>\n",
       "      <td>0.848</td>\n",
       "      <td>0.833</td>\n",
       "      <td>-10.0</td>\n",
       "    </tr>\n",
       "  </tbody>\n",
       "</table>\n",
       "</div>"
      ],
      "text/plain": [
       "   ROLL_HOME_FG3A  ROLL_AWAY_DREB  ROLL_HOME_FG3_PCT  ROLL_HOME_FGM  \\\n",
       "0           0.580           0.369              0.731          0.522   \n",
       "1           0.412           0.685              0.000          0.000   \n",
       "2           0.454           0.685              0.466          0.652   \n",
       "3           0.244           0.369              0.772          0.826   \n",
       "4           0.580           0.730              0.820          0.783   \n",
       "\n",
       "   ROLL_HOME_FG3M  ROLL_HOME_AST  ROLL_AWAY_PTS  ROLL_AWAY_FGM  \\\n",
       "0           0.758          0.612          0.577          0.586   \n",
       "1           0.076          0.000          0.096          0.017   \n",
       "2           0.455          0.561          0.635          0.586   \n",
       "3           0.530          0.918          0.250          0.069   \n",
       "4           0.833          0.765          1.000          0.897   \n",
       "\n",
       "   ROLL_AWAY_FT_PCT  ROLL_AWAY_FG_PCT  ROLL_HOME_DREB  ROLL_HOME_PTS  \\\n",
       "0             0.603             0.704           0.292          0.745   \n",
       "1             0.837             0.000           0.381          0.000   \n",
       "2             0.469             0.728           0.602          0.691   \n",
       "3             0.268             0.225           0.159          0.727   \n",
       "4             0.446             0.362           0.779          0.745   \n",
       "\n",
       "   ROLL_HOME_FG_PCT  ROLL_AWAY_AST  PLUS_MINUS  \n",
       "0             0.753          0.500         7.0  \n",
       "1             0.000          0.083        -8.0  \n",
       "2             0.758          0.708        29.0  \n",
       "3             0.827          0.208       -10.0  \n",
       "4             0.848          0.833       -10.0  "
      ]
     },
     "execution_count": 9,
     "metadata": {},
     "output_type": "execute_result"
    }
   ],
   "source": [
    "pm_scaled_df_selected.head()"
   ]
  },
  {
   "cell_type": "code",
   "execution_count": 10,
   "id": "11eba4ea-cd85-454f-a2ec-7e78fcc56b03",
   "metadata": {},
   "outputs": [
    {
     "data": {
      "text/plain": [
       "['ROLL_HOME_FG3A',\n",
       " 'ROLL_AWAY_DREB',\n",
       " 'ROLL_HOME_FG3_PCT',\n",
       " 'ROLL_HOME_FGM',\n",
       " 'ROLL_HOME_FG3M',\n",
       " 'ROLL_HOME_AST',\n",
       " 'ROLL_AWAY_PTS',\n",
       " 'ROLL_AWAY_FGM',\n",
       " 'ROLL_AWAY_FT_PCT',\n",
       " 'ROLL_AWAY_FG_PCT',\n",
       " 'ROLL_HOME_DREB',\n",
       " 'ROLL_HOME_PTS',\n",
       " 'ROLL_HOME_FG_PCT',\n",
       " 'ROLL_AWAY_AST']"
      ]
     },
     "execution_count": 10,
     "metadata": {},
     "output_type": "execute_result"
    }
   ],
   "source": [
    "pm_selection"
   ]
  },
  {
   "cell_type": "markdown",
   "id": "fb231f2f-75e6-4cb2-8143-4da61cb95a12",
   "metadata": {
    "jp-MarkdownHeadingCollapsed": true
   },
   "source": [
    "<a name=\"3.-Filter-Methods-for-Game-Winner\"></a>\n",
    "# 3. Filter Methods for Game Winner\n",
    "\n",
    "[Return to top](#Feature-Selection)"
   ]
  },
  {
   "cell_type": "markdown",
   "id": "45536981-515c-4608-8e5d-0db3fcc429b1",
   "metadata": {
    "jp-MarkdownHeadingCollapsed": true
   },
   "source": [
    "<a name=\"3.1.-Correlation-Based\"></a>\n",
    "## 3.1. Correlation Based\n",
    "\n",
    "[Return to top](#Feature-Selection)"
   ]
  },
  {
   "cell_type": "code",
   "execution_count": 11,
   "id": "b29e30a5-bebb-41bb-99b9-1b5a82486be1",
   "metadata": {},
   "outputs": [
    {
     "name": "stdout",
     "output_type": "stream",
     "text": [
      "{\n",
      "    \"outcome_correlation\": [\n",
      "        \"ROLL_HOME_FG_PCT\",\n",
      "        \"ROLL_AWAY_STL\"\n",
      "    ],\n",
      "    \"feature_correlation\": [\n",
      "        \"ROLL_HOME_PTS\",\n",
      "        \"ROLL_HOME_FGA\",\n",
      "        \"ROLL_HOME_FG3M\",\n",
      "        \"ROLL_HOME_FG3_PCT\",\n",
      "        \"ROLL_HOME_FTM\",\n",
      "        \"ROLL_HOME_FT_PCT\",\n",
      "        \"ROLL_HOME_OREB\",\n",
      "        \"ROLL_HOME_DREB\",\n",
      "        \"ROLL_HOME_AST\",\n",
      "        \"ROLL_HOME_STL\",\n",
      "        \"ROLL_HOME_BLK\",\n",
      "        \"ROLL_HOME_TOV\",\n",
      "        \"ROLL_HOME_PF\",\n",
      "        \"ROLL_AWAY_PTS\",\n",
      "        \"ROLL_AWAY_FGA\",\n",
      "        \"ROLL_AWAY_FG3M\",\n",
      "        \"ROLL_AWAY_FTM\",\n",
      "        \"ROLL_AWAY_FT_PCT\",\n",
      "        \"ROLL_AWAY_OREB\",\n",
      "        \"ROLL_AWAY_DREB\",\n",
      "        \"ROLL_AWAY_STL\",\n",
      "        \"ROLL_AWAY_BLK\",\n",
      "        \"ROLL_AWAY_TOV\",\n",
      "        \"ROLL_AWAY_PF\"\n",
      "    ],\n",
      "    \"VIF\": [\n",
      "        \"ROLL_HOME_STL\",\n",
      "        \"ROLL_AWAY_STL\"\n",
      "    ],\n",
      "    \"feature_intersection\": [\n",
      "        \"ROLL_AWAY_STL\"\n",
      "    ]\n",
      "}\n"
     ]
    }
   ],
   "source": [
    "res_selection = utl.filter_feature_selection(\n",
    "    df=res_scaled_df, \n",
    "    outcome_name='GAME_RESULT'\n",
    ")"
   ]
  },
  {
   "cell_type": "markdown",
   "id": "103414e3-ba1a-4441-ad14-8661dc878820",
   "metadata": {
    "jp-MarkdownHeadingCollapsed": true
   },
   "source": [
    "<a name=\"3.2.-vtreat-Library\"></a>\n",
    "## 3.2. `vtreat` Library\n",
    "\n",
    "[Return to top](#Feature-Selection)"
   ]
  },
  {
   "cell_type": "code",
   "execution_count": 12,
   "id": "0d437b84-af4e-448c-9455-9384a38eaa92",
   "metadata": {},
   "outputs": [
    {
     "name": "stdout",
     "output_type": "stream",
     "text": [
      "There were 12 features selected out of 36 original features\n",
      "\n"
     ]
    }
   ],
   "source": [
    "# automated feature selection and preprocessing\n",
    "res_scaled_df_selected, res_selection = utl.vtreat_feature_selection(\n",
    "    df=res_scaled_df,\n",
    "    outcome_name='GAME_RESULT'\n",
    ")"
   ]
  },
  {
   "cell_type": "code",
   "execution_count": 13,
   "id": "a5eeeffa-7274-47f9-a371-f4c12cfe0100",
   "metadata": {},
   "outputs": [
    {
     "data": {
      "text/html": [
       "<div>\n",
       "<style scoped>\n",
       "    .dataframe tbody tr th:only-of-type {\n",
       "        vertical-align: middle;\n",
       "    }\n",
       "\n",
       "    .dataframe tbody tr th {\n",
       "        vertical-align: top;\n",
       "    }\n",
       "\n",
       "    .dataframe thead th {\n",
       "        text-align: right;\n",
       "    }\n",
       "</style>\n",
       "<table border=\"1\" class=\"dataframe\">\n",
       "  <thead>\n",
       "    <tr style=\"text-align: right;\">\n",
       "      <th></th>\n",
       "      <th>ROLL_AWAY_STL</th>\n",
       "      <th>ROLL_HOME_REB</th>\n",
       "      <th>ROLL_HOME_FGM</th>\n",
       "      <th>ROLL_HOME_FG3M</th>\n",
       "      <th>ROLL_AWAY_PTS</th>\n",
       "      <th>ROLL_AWAY_FGM</th>\n",
       "      <th>ROLL_AWAY_FT_PCT</th>\n",
       "      <th>ROLL_HOME_DREB</th>\n",
       "      <th>ROLL_HOME_PTS</th>\n",
       "      <th>ROLL_AWAY_TOV</th>\n",
       "      <th>ROLL_HOME_FG_PCT</th>\n",
       "      <th>ROLL_AWAY_AST</th>\n",
       "      <th>GAME_RESULT</th>\n",
       "    </tr>\n",
       "  </thead>\n",
       "  <tbody>\n",
       "    <tr>\n",
       "      <th>0</th>\n",
       "      <td>0.28</td>\n",
       "      <td>0.478</td>\n",
       "      <td>0.522</td>\n",
       "      <td>0.758</td>\n",
       "      <td>0.577</td>\n",
       "      <td>0.586</td>\n",
       "      <td>0.603</td>\n",
       "      <td>0.292</td>\n",
       "      <td>0.745</td>\n",
       "      <td>0.391</td>\n",
       "      <td>0.753</td>\n",
       "      <td>0.500</td>\n",
       "      <td>1</td>\n",
       "    </tr>\n",
       "    <tr>\n",
       "      <th>1</th>\n",
       "      <td>0.28</td>\n",
       "      <td>0.826</td>\n",
       "      <td>0.000</td>\n",
       "      <td>0.076</td>\n",
       "      <td>0.096</td>\n",
       "      <td>0.017</td>\n",
       "      <td>0.837</td>\n",
       "      <td>0.381</td>\n",
       "      <td>0.000</td>\n",
       "      <td>0.348</td>\n",
       "      <td>0.000</td>\n",
       "      <td>0.083</td>\n",
       "      <td>0</td>\n",
       "    </tr>\n",
       "    <tr>\n",
       "      <th>2</th>\n",
       "      <td>0.36</td>\n",
       "      <td>0.609</td>\n",
       "      <td>0.652</td>\n",
       "      <td>0.455</td>\n",
       "      <td>0.635</td>\n",
       "      <td>0.586</td>\n",
       "      <td>0.469</td>\n",
       "      <td>0.602</td>\n",
       "      <td>0.691</td>\n",
       "      <td>0.174</td>\n",
       "      <td>0.758</td>\n",
       "      <td>0.708</td>\n",
       "      <td>1</td>\n",
       "    </tr>\n",
       "    <tr>\n",
       "      <th>3</th>\n",
       "      <td>0.20</td>\n",
       "      <td>0.348</td>\n",
       "      <td>0.826</td>\n",
       "      <td>0.530</td>\n",
       "      <td>0.250</td>\n",
       "      <td>0.069</td>\n",
       "      <td>0.268</td>\n",
       "      <td>0.159</td>\n",
       "      <td>0.727</td>\n",
       "      <td>0.348</td>\n",
       "      <td>0.827</td>\n",
       "      <td>0.208</td>\n",
       "      <td>0</td>\n",
       "    </tr>\n",
       "    <tr>\n",
       "      <th>4</th>\n",
       "      <td>0.76</td>\n",
       "      <td>0.826</td>\n",
       "      <td>0.783</td>\n",
       "      <td>0.833</td>\n",
       "      <td>1.000</td>\n",
       "      <td>0.897</td>\n",
       "      <td>0.446</td>\n",
       "      <td>0.779</td>\n",
       "      <td>0.745</td>\n",
       "      <td>0.478</td>\n",
       "      <td>0.848</td>\n",
       "      <td>0.833</td>\n",
       "      <td>0</td>\n",
       "    </tr>\n",
       "  </tbody>\n",
       "</table>\n",
       "</div>"
      ],
      "text/plain": [
       "   ROLL_AWAY_STL  ROLL_HOME_REB  ROLL_HOME_FGM  ROLL_HOME_FG3M  ROLL_AWAY_PTS  \\\n",
       "0           0.28          0.478          0.522           0.758          0.577   \n",
       "1           0.28          0.826          0.000           0.076          0.096   \n",
       "2           0.36          0.609          0.652           0.455          0.635   \n",
       "3           0.20          0.348          0.826           0.530          0.250   \n",
       "4           0.76          0.826          0.783           0.833          1.000   \n",
       "\n",
       "   ROLL_AWAY_FGM  ROLL_AWAY_FT_PCT  ROLL_HOME_DREB  ROLL_HOME_PTS  \\\n",
       "0          0.586             0.603           0.292          0.745   \n",
       "1          0.017             0.837           0.381          0.000   \n",
       "2          0.586             0.469           0.602          0.691   \n",
       "3          0.069             0.268           0.159          0.727   \n",
       "4          0.897             0.446           0.779          0.745   \n",
       "\n",
       "   ROLL_AWAY_TOV  ROLL_HOME_FG_PCT  ROLL_AWAY_AST  GAME_RESULT  \n",
       "0          0.391             0.753          0.500            1  \n",
       "1          0.348             0.000          0.083            0  \n",
       "2          0.174             0.758          0.708            1  \n",
       "3          0.348             0.827          0.208            0  \n",
       "4          0.478             0.848          0.833            0  "
      ]
     },
     "execution_count": 13,
     "metadata": {},
     "output_type": "execute_result"
    }
   ],
   "source": [
    "res_scaled_df_selected.head()"
   ]
  },
  {
   "cell_type": "code",
   "execution_count": 14,
   "id": "124ae2f3-12b8-436d-939f-3618439e11d9",
   "metadata": {},
   "outputs": [
    {
     "data": {
      "text/plain": [
       "['ROLL_AWAY_STL',\n",
       " 'ROLL_HOME_REB',\n",
       " 'ROLL_HOME_FGM',\n",
       " 'ROLL_HOME_FG3M',\n",
       " 'ROLL_AWAY_PTS',\n",
       " 'ROLL_AWAY_FGM',\n",
       " 'ROLL_AWAY_FT_PCT',\n",
       " 'ROLL_HOME_DREB',\n",
       " 'ROLL_HOME_PTS',\n",
       " 'ROLL_AWAY_TOV',\n",
       " 'ROLL_HOME_FG_PCT',\n",
       " 'ROLL_AWAY_AST']"
      ]
     },
     "execution_count": 14,
     "metadata": {},
     "output_type": "execute_result"
    }
   ],
   "source": [
    "res_selection"
   ]
  },
  {
   "cell_type": "code",
   "execution_count": null,
   "id": "8bd28fc3-830f-4854-a625-fb2e15eca456",
   "metadata": {},
   "outputs": [],
   "source": []
  }
 ],
 "metadata": {
  "kernelspec": {
   "display_name": "Python 3 (ipykernel)",
   "language": "python",
   "name": "python3"
  },
  "language_info": {
   "codemirror_mode": {
    "name": "ipython",
    "version": 3
   },
   "file_extension": ".py",
   "mimetype": "text/x-python",
   "name": "python",
   "nbconvert_exporter": "python",
   "pygments_lexer": "ipython3",
   "version": "3.9.18"
  }
 },
 "nbformat": 4,
 "nbformat_minor": 5
}
