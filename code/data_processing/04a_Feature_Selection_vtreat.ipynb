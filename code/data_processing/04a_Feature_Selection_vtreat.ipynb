{
 "cells": [
  {
   "cell_type": "code",
   "execution_count": null,
   "id": "83370583-5d49-4bdf-9548-a8aa2031bea5",
   "metadata": {},
   "outputs": [],
   "source": [
    "# vtreat\n",
    "\n",
    "# Setting up vtreat for a binomial classification problem\n",
    "treatment = vtreat.BinomialOutcomeTreatment(\n",
    "    outcome_name='readmitted',\n",
    "    outcome_target=1,  # Target for binary classification\n",
    "    cols_to_copy=None,  # Copy without any transformation\n",
    "    params={\n",
    "        'filter_to_recommended': True,\n",
    "        'indicator_min_fraction': 0.01\n",
    "    }\n",
    ")\n",
    "\n",
    "# Fitting the treatment to the training data\n",
    "Xy_train = pd.concat([X_train, y_train], axis=1)\n",
    "train_treated = treatment.fit_transform(Xy_train)\n",
    "\n",
    "# Transform the test data using the same treatment\n",
    "Xy_test = pd.concat([X_test, y_test], axis=1)\n",
    "test_treated = treatment.transform(Xy_test)\n",
    "\n",
    "# examine score frame\n",
    "# treatment.score_frame_\n",
    "\n",
    "# recommended variables\n",
    "# treatment.score_frame_.loc[treatment.score_frame_['recommended'], ['variable']]\n",
    "\n",
    "# not recommended variables\n",
    "# treatment.score_frame_.loc[~treatment.score_frame_['recommended'], ['variable']]"
   ]
  },
  {
   "cell_type": "code",
   "execution_count": null,
   "id": "f709e55e-d159-4fb8-9dfe-4bceb2b22fb5",
   "metadata": {},
   "outputs": [],
   "source": [
    "#data = (train_treated.drop(columns=['readmitted']), \n",
    "#        test_treated.drop(columns=['readmitted']), \n",
    "#        train_treated['readmitted'], \n",
    "#        test_treated['readmitted'])"
   ]
  }
 ],
 "metadata": {
  "kernelspec": {
   "display_name": "Python 3 (ipykernel)",
   "language": "python",
   "name": "python3"
  },
  "language_info": {
   "codemirror_mode": {
    "name": "ipython",
    "version": 3
   },
   "file_extension": ".py",
   "mimetype": "text/x-python",
   "name": "python",
   "nbconvert_exporter": "python",
   "pygments_lexer": "ipython3",
   "version": "3.9.18"
  }
 },
 "nbformat": 4,
 "nbformat_minor": 5
}
