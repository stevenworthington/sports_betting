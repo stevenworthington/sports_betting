{
 "cells": [
  {
   "cell_type": "markdown",
   "id": "326c377e-37a5-4027-a059-902c097675a9",
   "metadata": {},
   "source": [
    "<div class=\"alert alert-danger\">\n",
    "    <h4 style=\"font-weight: bold; font-size: 28px;\">NBA API</h4>\n",
    "    <p style=\"font-size: 20px;\">Data Gathering</p>\n",
    "</div>\n",
    "\n",
    "<a name=\"NBA\"></a>"
   ]
  },
  {
   "cell_type": "markdown",
   "id": "ef6e8996-bf1e-4d91-9135-7ffc5c045fb1",
   "metadata": {
    "jp-MarkdownHeadingCollapsed": true
   },
   "source": [
    "# Setup"
   ]
  },
  {
   "cell_type": "code",
   "execution_count": null,
   "id": "b83b3e21-bbe3-47dd-a7f9-cbcdf4e8b00b",
   "metadata": {},
   "outputs": [],
   "source": [
    "import pandas as pd\n",
    "from datetime import datetime, timedelta\n",
    "import time"
   ]
  },
  {
   "cell_type": "code",
   "execution_count": null,
   "id": "c6e2fa89-39d6-4ce2-896b-c91769b02c24",
   "metadata": {},
   "outputs": [],
   "source": [
    "from nba_api.stats.static import teams, players\n",
    "from nba_api.stats.endpoints import (\n",
    "  scoreboard, leaguegamefinder, playercareerstats,\n",
    "  boxscorematchupsv3, boxscoreadvancedv2, teamestimatedmetrics, \n",
    "  teamgamelogs, TeamGameLogs, TeamEstimatedMetrics, leaguedashteamstats\n",
    ")"
   ]
  },
  {
   "cell_type": "markdown",
   "id": "aac8033e-5d55-46da-8518-d1ff6796eb8a",
   "metadata": {
    "jp-MarkdownHeadingCollapsed": true
   },
   "source": [
    "# Team Data"
   ]
  },
  {
   "cell_type": "code",
   "execution_count": null,
   "id": "8c155a58-7a65-415e-bb25-0ae22646d2f5",
   "metadata": {},
   "outputs": [],
   "source": [
    "# get_teams returns a list of 30 dictionaries, each an NBA team\n",
    "nba_teams = teams.get_teams()\n",
    "print(\"Number of teams fetched: {}\".format(len(nba_teams)))\n",
    "nba_teams_df = pd.DataFrame(nba_teams)\n",
    "nba_teams_df.head()"
   ]
  },
  {
   "cell_type": "markdown",
   "id": "5fcbb24b-c25c-4b01-bed1-57476ff80517",
   "metadata": {
    "jp-MarkdownHeadingCollapsed": true
   },
   "source": [
    "# Players"
   ]
  },
  {
   "cell_type": "code",
   "execution_count": null,
   "id": "9e2ee6e9-9fd3-443d-8cad-3dc0079a8627",
   "metadata": {},
   "outputs": [],
   "source": [
    "# get_players returns a list of dictionaries, each representing a player\n",
    "nba_players = players.get_players()\n",
    "print(\"Number of players fetched: {}\".format(len(nba_players)))\n",
    "nba_players_df = pd.DataFrame(nba_players)\n",
    "nba_players_df.head()"
   ]
  },
  {
   "cell_type": "markdown",
   "id": "0f6d9172-2469-4fcd-b326-6b2b50c40f3d",
   "metadata": {
    "jp-MarkdownHeadingCollapsed": true
   },
   "source": [
    "# Scoreboard"
   ]
  },
  {
   "cell_type": "code",
   "execution_count": null,
   "id": "80b56ff6-7519-4fd3-9f48-41c023dd3eaf",
   "metadata": {},
   "outputs": [],
   "source": [
    "# Today's Score Board\n",
    "games = scoreboard.ScoreBoard()\n",
    "\n",
    "# json\n",
    "games.get_json()\n",
    "\n",
    "# dictionary\n",
    "games.get_dict()"
   ]
  },
  {
   "cell_type": "markdown",
   "id": "c8312a72-4ff7-49b9-9d8e-55931bba3396",
   "metadata": {
    "jp-MarkdownHeadingCollapsed": true
   },
   "source": [
    "# League Game Finder"
   ]
  },
  {
   "cell_type": "code",
   "execution_count": null,
   "id": "cfb9ba79-27a0-4266-9653-56db8dba16b8",
   "metadata": {},
   "outputs": [],
   "source": [
    "# get game data\n",
    "team_ids = nba_teams_df['id'].tolist()\n",
    "\n",
    "games_list = []\n",
    "\n",
    "for id in team_ids:\n",
    "    print(id)\n",
    "    # query for games\n",
    "    gamefinder = leaguegamefinder.LeagueGameFinder(team_id_nullable=id)\n",
    "    # we want the first DataFrame of those returned\n",
    "    games_list.append(gamefinder.get_data_frames()[0])\n",
    "    # add time delay between requests\n",
    "    time.sleep(3)"
   ]
  },
  {
   "cell_type": "code",
   "execution_count": null,
   "id": "723886c5-d2ed-4857-b1cf-dc9f9aac9e6d",
   "metadata": {},
   "outputs": [],
   "source": [
    "games_df = pd.concat(games_list)\n",
    "print(games_df.shape)\n",
    "games_df.head()"
   ]
  },
  {
   "cell_type": "code",
   "execution_count": null,
   "id": "4eeb706b-b511-4b38-a282-4f3dcbecf650",
   "metadata": {},
   "outputs": [],
   "source": [
    "games_df['GAME_DATE'] = pd.to_datetime(games_df['GAME_DATE'])\n",
    "\n",
    "# get the latest date\n",
    "earliest_date = games_df['GAME_DATE'].max()\n",
    "print(earliest_date)"
   ]
  },
  {
   "cell_type": "code",
   "execution_count": null,
   "id": "ed639a8f-a874-470d-983e-f3042fe440a4",
   "metadata": {},
   "outputs": [],
   "source": [
    "games_df.to_csv('../data/original/nba_games_box_scores_1984_2024.csv', index=False)"
   ]
  },
  {
   "cell_type": "markdown",
   "id": "90f3548e-8c9e-4dba-84dc-246cd80e9b5f",
   "metadata": {
    "jp-MarkdownHeadingCollapsed": true
   },
   "source": [
    "# League Dash Team Stats"
   ]
  },
  {
   "cell_type": "code",
   "execution_count": null,
   "id": "b6835fd4-e89e-4329-888b-9de14f73c2a8",
   "metadata": {},
   "outputs": [],
   "source": [
    "ldts = leaguedashteamstats.LeagueDashTeamStats(month=5, season='2023-24')"
   ]
  },
  {
   "cell_type": "code",
   "execution_count": null,
   "id": "edad4d0d-78ea-42bb-95d1-9b757d454a5b",
   "metadata": {},
   "outputs": [],
   "source": [
    "ldts.get_data_frames()[0].head()"
   ]
  },
  {
   "cell_type": "code",
   "execution_count": null,
   "id": "43456731-dc70-45a9-8776-0f83e6b3d1c6",
   "metadata": {},
   "outputs": [],
   "source": [
    "ldts_list = []\n",
    "seasons = []\n",
    "for year in range(1996, 2024):\n",
    "    season = f\"{year}-{str(year + 1)[-2:]}\"\n",
    "    seasons.append(season)\n",
    "months = range(1, 13)\n",
    "\n",
    "for season in seasons:\n",
    "    for month in months:\n",
    "        print(f\"Querying season {season}, month {month}\")\n",
    "        # query for months\n",
    "        ldts = leaguedashteamstats.LeagueDashTeamStats(month=month, season=season)\n",
    "        # get the first DataFrame of those returned\n",
    "        df = ldts.get_data_frames()[0]\n",
    "        \n",
    "        # add columns for 'season' and 'month'\n",
    "        df['SEASON'] = season\n",
    "        df['MONTH'] = month\n",
    "        \n",
    "        # append the DataFrame to the list\n",
    "        ldts_list.append(df)\n",
    "        \n",
    "        # add time delay between requests\n",
    "        time.sleep(3)\n",
    "\n",
    "# concatenate all DataFrames in the list into one large DataFrame\n",
    "ldts_df = pd.concat(ldts_list, ignore_index=True)"
   ]
  },
  {
   "cell_type": "code",
   "execution_count": null,
   "id": "5b185a99-2d6b-4fb7-af3f-c9ddc89fdbea",
   "metadata": {},
   "outputs": [],
   "source": [
    "ldts_df.head()"
   ]
  },
  {
   "cell_type": "code",
   "execution_count": null,
   "id": "d0c9fa2d-3a0c-426e-afe0-04dce340b84e",
   "metadata": {},
   "outputs": [],
   "source": [
    "ldts_df.to_csv('../data/original/nba_dash_team_stats_1997_2024.csv', index=False)"
   ]
  },
  {
   "cell_type": "code",
   "execution_count": null,
   "id": "d8b4692d-94fd-407b-95ad-fdf53b0ed335",
   "metadata": {},
   "outputs": [],
   "source": [
    "ldts_df.value_counts('TEAM_NAME')"
   ]
  },
  {
   "cell_type": "code",
   "execution_count": null,
   "id": "80f256cc-e333-452a-afa7-8add61f62bc3",
   "metadata": {},
   "outputs": [],
   "source": [
    "BC_2023 = ldts_df[(ldts_df['TEAM_NAME'] == 'Boston Celtics') & (ldts_df['SEASON'] == '2022-23')]\n",
    "BC_2023.head()"
   ]
  },
  {
   "cell_type": "markdown",
   "id": "4d270d5d-ef93-41b2-91f0-05a3d6296752",
   "metadata": {
    "jp-MarkdownHeadingCollapsed": true
   },
   "source": [
    "# Player Career Statistics"
   ]
  },
  {
   "cell_type": "code",
   "execution_count": null,
   "id": "14610423-d9b6-4671-8bca-541cf759322b",
   "metadata": {},
   "outputs": [],
   "source": [
    "# get player data\n",
    "player_ids = nba_players_df['id'].tolist()\n",
    "\n",
    "players_stats_list = []\n",
    "\n",
    "for id in player_ids:\n",
    "    print(id)\n",
    "    # query for games\n",
    "    career = playercareerstats.PlayerCareerStats(player_id=id)\n",
    "    # we want the first DataFrame of those returned\n",
    "    players_stats_list.append(career.get_data_frames()[0])\n",
    "    # add time delay between requests\n",
    "    time.sleep(1)"
   ]
  },
  {
   "cell_type": "code",
   "execution_count": null,
   "id": "3b5da0da-209e-4d1c-957f-4217192af8c2",
   "metadata": {},
   "outputs": [],
   "source": [
    "players_stats_df = pd.concat(players_stats_list)\n",
    "print(players_stats_df.shape)\n",
    "players_stats_df.head()"
   ]
  },
  {
   "cell_type": "code",
   "execution_count": null,
   "id": "781ffce1-4cf1-44f2-9f44-79847cf7508c",
   "metadata": {},
   "outputs": [],
   "source": [
    "# get the latest season\n",
    "earliest_date = players_stats_df['SEASON_ID'].min()\n",
    "print(earliest_date)"
   ]
  },
  {
   "cell_type": "code",
   "execution_count": null,
   "id": "f8df6c52-2041-4ae2-baf3-b202498d9dc7",
   "metadata": {},
   "outputs": [],
   "source": [
    "players_stats_df.to_csv('../data/original/nba_players_statistics_1946_2024.csv', index=False)"
   ]
  },
  {
   "cell_type": "markdown",
   "id": "169b9139-b4e8-4e66-9f03-622666b267db",
   "metadata": {
    "jp-MarkdownHeadingCollapsed": true
   },
   "source": [
    "# Box Score Matchups V3"
   ]
  },
  {
   "cell_type": "code",
   "execution_count": null,
   "id": "99e9d7d9-4509-402f-a354-4899cdd9c570",
   "metadata": {},
   "outputs": [],
   "source": [
    "games_df = pd.read_csv('../data/original/nba_games_box_scores_1984_2024.csv')\n",
    "# get player data\n",
    "game_ids = games_df['GAME_ID'].tolist()"
   ]
  },
  {
   "cell_type": "code",
   "execution_count": null,
   "id": "a867285e-44b8-4ed7-9b91-a0b2fa2abfd8",
   "metadata": {},
   "outputs": [],
   "source": [
    "game_ids[5000]"
   ]
  },
  {
   "cell_type": "code",
   "execution_count": null,
   "id": "361e304d-8747-4e72-9a7f-5adf8e82eba7",
   "metadata": {},
   "outputs": [],
   "source": [
    "bs_matchups = boxscorematchupsv3.BoxScoreMatchupsV3(game_id=21000400)\n",
    "#bs_matchups.get_data_frames()"
   ]
  },
  {
   "cell_type": "markdown",
   "id": "a55037cd-9bae-49d3-b30b-9461945834c7",
   "metadata": {
    "jp-MarkdownHeadingCollapsed": true
   },
   "source": [
    "# Box Score Advanced V3"
   ]
  },
  {
   "cell_type": "code",
   "execution_count": null,
   "id": "3d5fdf18-e6da-4ac3-8b7d-6ec05ace72ee",
   "metadata": {},
   "outputs": [],
   "source": [
    "bs_adv = boxscoreadvancedv2.BoxScoreAdvancedV2(game_id=21000400)\n",
    "check = bs_adv.get_data_frames()[1]\n",
    "check"
   ]
  },
  {
   "cell_type": "code",
   "execution_count": null,
   "id": "7277641b",
   "metadata": {},
   "outputs": [],
   "source": [
    "# function to get game_ids\n",
    "def get_game_ids(season_id):\n",
    "    game_ids = []\n",
    "    game_ids = games_df['GAME_ID'][(games_df.SEASON_ID == season_id)].tolist()\n",
    "    return game_ids\n",
    "\n",
    "#get game ids for 2023 - 2024 season\n",
    "game_ids_2023_2024 = get_game_ids('22023')\n",
    "\n",
    "#get game ids for 2022 - 2023 season\n",
    "game_ids_2022_2023 = get_game_ids('22022')\n",
    "\n",
    "#get game ids for 2021 - 2022 season\n",
    "game_ids_2021_2022 = get_game_ids('22021')\n",
    "game_ids_2021_2022"
   ]
  },
  {
   "cell_type": "code",
   "execution_count": null,
   "id": "0cedd244",
   "metadata": {},
   "outputs": [],
   "source": [
    "# function to get team advanced stats per game for a given season\n",
    "def get_adv_stats_df(game_id_list):\n",
    "    adv_games_stats_list = []\n",
    "    for id in game_id_list:\n",
    "        print(id)\n",
    "        # query for games\n",
    "        games = boxscoreadvancedv3.BoxScoreAdvancedV3(game_id=id)\n",
    "        adv_games_stats_list.append(games.get_data_frames()[1])\n",
    "        time.sleep(3)\n",
    "    adv_stats_df = pd.concat(adv_games_stats_list, ignore_index=True)\n",
    "    adv_stats_df = adv_stats_df.drop_duplicates()\n",
    "    return adv_stats_df"
   ]
  },
  {
   "cell_type": "code",
   "execution_count": null,
   "id": "a17ad645",
   "metadata": {},
   "outputs": [],
   "source": [
    "# get advanced stats df for 2021 - 2022 season\n",
    "adv_stats_df_2021_2022 = get_adv_stats_df(game_ids_2021_2022)\n",
    "adv_stats_df_2021_2022.head()"
   ]
  },
  {
   "cell_type": "code",
   "execution_count": null,
   "id": "6026614a",
   "metadata": {},
   "outputs": [],
   "source": [
    "# get advanced stats df for 2022 - 2023 season\n",
    "adv_stats_df_2022_2023 = get_adv_stats_df(game_ids_2022_2023)\n",
    "adv_stats_df_2022_2023.head()"
   ]
  },
  {
   "cell_type": "code",
   "execution_count": null,
   "id": "ba0bb1c5",
   "metadata": {},
   "outputs": [],
   "source": [
    "# get advanced stats df for 2023 - 2024 season\n",
    "adv_stats_df_2023_2024 = get_adv_stats_df(game_ids_2023_2024)\n",
    "adv_stats_df_2023_2024.head()"
   ]
  },
  {
   "cell_type": "code",
   "execution_count": null,
   "id": "5ad19f49",
   "metadata": {},
   "outputs": [],
   "source": [
    "#combine advanced stat dataframes into one combined datafram\n",
    "adv_stats_frames = [adv_stats_df_2021_2022, adv_stats_df_2022_2023, adv_stats_df_2023_2024]\n",
    "adv_stats_df = pd.concat(adv_stat_frames)\n",
    "adv_stats_df.head()"
   ]
  },
  {
   "cell_type": "code",
   "execution_count": null,
   "id": "da42fa73",
   "metadata": {},
   "outputs": [],
   "source": [
    "#creates team name field to match games_df\n",
    "adv_stats_df['TEAM_NAME'] = adv_stats_df['teamCity'] + \" \" + adv_stats_df['teamName']\n",
    "\n",
    "#renames fields that match games_df\n",
    "adv_stats_df.rename(columns={'gameId':'GAME_ID','teamId':'TEAM_ID', 'teamTricode': 'TEAM_ABBREVIATION'}, inplace=True)\n",
    "\n",
    "#drop redundant columns\n",
    "adv_stats_df.drop(['teamCity', 'teamName', 'teamSlug'], inplace=True, axis=1)\n",
    "\n",
    "adv_stats_df.head()"
   ]
  },
  {
   "cell_type": "code",
   "execution_count": null,
   "id": "47d1e6d9",
   "metadata": {},
   "outputs": [],
   "source": [
    "#get GAME_DATE, MATCHUP, GAME_ID, TEAM_ABBREVIATION fields from games_df\n",
    "adv_stats_df = pd.merge(adv_stats_df, games_df[['SEASON_ID','GAME_DATE','MATCHUP', 'GAME_ID','TEAM_ID', 'TEAM_ABBREVIATION']], on=['GAME_ID','TEAM_ID', 'TEAM_ABBREVIATION'])\n",
    "\n",
    "adv_stats_df.head()"
   ]
  },
  {
   "cell_type": "code",
   "execution_count": null,
   "id": "bcdff6d5",
   "metadata": {},
   "outputs": [],
   "source": [
    "#export csv\n",
    "adv_stats_df.to_csv('../data/original/nba_advanced_statistics_2021_2024.csv', index=False)"
   ]
  },
  {
   "cell_type": "markdown",
   "id": "a5181acc-bd17-48fb-9ade-8aebbd12a858",
   "metadata": {
    "jp-MarkdownHeadingCollapsed": true
   },
   "source": [
    "# Team Game Logs"
   ]
  },
  {
   "cell_type": "code",
   "execution_count": null,
   "id": "fef5c625-136c-4bae-9135-713259faf71a",
   "metadata": {},
   "outputs": [],
   "source": [
    "mav_id = '1610612742'\n",
    "logs = teamgamelogs.TeamGameLogs.DataSet(data=)\n",
    "#logs.get_data_frame(data=)"
   ]
  },
  {
   "cell_type": "markdown",
   "id": "7210f626-bf35-488f-888f-7ed12259ab27",
   "metadata": {
    "jp-MarkdownHeadingCollapsed": true
   },
   "source": [
    "# Team Estimated Metrics"
   ]
  },
  {
   "cell_type": "code",
   "execution_count": null,
   "id": "16a83e6a-19ec-48fd-bf46-c0ea04903173",
   "metadata": {},
   "outputs": [],
   "source": [
    "team_metrics = teamestimatedmetrics.TeamEstimatedMetrics.DataSet(data=)"
   ]
  },
  {
   "cell_type": "code",
   "execution_count": null,
   "id": "ff42bb7e-5182-4945-895a-9484970c2a80",
   "metadata": {},
   "outputs": [],
   "source": []
  },
  {
   "cell_type": "code",
   "execution_count": null,
   "id": "7e6174bd-172e-4fbc-bd6d-2b58d04d1e39",
   "metadata": {},
   "outputs": [],
   "source": [
    "from nba_api.stats.endpoints import commonplayerinfo\n",
    "\n",
    "# Basic Request\n",
    "player_info = commonplayerinfo.CommonPlayerInfo(player_id=2544)"
   ]
  },
  {
   "cell_type": "code",
   "execution_count": null,
   "id": "72ff3808-1d83-4b95-9609-f0adcf324331",
   "metadata": {},
   "outputs": [],
   "source": [
    "player_info.available_seasons.get_data_frame()"
   ]
  },
  {
   "cell_type": "code",
   "execution_count": null,
   "id": "455a1610-f27d-40ad-94fd-9e9dd26b0e93",
   "metadata": {},
   "outputs": [],
   "source": []
  }
 ],
 "metadata": {
  "kernelspec": {
   "display_name": "Python 3",
   "language": "python",
   "name": "python3"
  },
  "language_info": {
   "codemirror_mode": {
    "name": "ipython",
    "version": 3
   },
   "file_extension": ".py",
   "mimetype": "text/x-python",
   "name": "python",
   "nbconvert_exporter": "python",
   "pygments_lexer": "ipython3",
   "version": "3.8.8"
  }
 },
 "nbformat": 4,
 "nbformat_minor": 5
}
