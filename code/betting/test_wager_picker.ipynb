{
 "cells": [
  {
   "cell_type": "code",
   "execution_count": 1,
   "id": "4aadf7e3-f956-4571-b1db-909bfccc240a",
   "metadata": {
    "tags": []
   },
   "outputs": [],
   "source": [
    "from make_wagers import joined_odds, pick_odds_greater_than, kelly_wagers, fixed_wagers, evaluation_dataframe, fixed_proportion_wagers, pick_random_bets\n",
    "from simulate_wagers import simulate_wagers\n",
    "import pandas as pd\n",
    "import matplotlib.pyplot as plt\n",
    "from dotenv import find_dotenv, load_dotenv\n",
    "import os\n",
    "from os import listdir"
   ]
  },
  {
   "cell_type": "code",
   "execution_count": 2,
   "id": "1bdd8f73-46fb-40db-823c-e26f5c667f24",
   "metadata": {},
   "outputs": [
    {
     "name": "stdout",
     "output_type": "stream",
     "text": [
      "None None 0 results found\n",
      "Market: Moneyline\n",
      "Betting Strategy: Full Kelly\n",
      "Average bet size: 2313\n",
      "Net Profit: -10000\n"
     ]
    },
    {
     "data": {
      "image/png": "[encoded data removed]",
      "text/plain": [
       "<Figure size 1152x288 with 1 Axes>"
      ]
     },
     "metadata": {
      "needs_background": "light"
     },
     "output_type": "display_data"
    },
    {
     "data": {
      "image/png": "[encoded data removed]",
      "text/plain": [
       "<Figure size 1152x288 with 1 Axes>"
      ]
     },
     "metadata": {
      "needs_background": "light"
     },
     "output_type": "display_data"
    }
   ],
   "source": [
    "fn = 'BEST_MODELS_PREDICTIONS.csv'\n",
    "odds = joined_odds(fn, 'moneyline')\n",
    "\n",
    "bets = pick_odds_greater_than(odds, 0)\n",
    "wagers = kelly_wagers(bets, multiplier=1, cap=1)\n",
    "results = simulate_wagers(wagers)\n",
    "df_eval = evaluation_dataframe(bets, wagers, results)\n",
    "\n",
    "print('Market: Moneyline') \n",
    "print('Betting Strategy: Full Kelly')\n",
    "tmp = (df_eval.bet_amount * df_eval.bankroll.iloc[:-1])\n",
    "tmp = tmp[tmp>10]\n",
    "print(f'Average bet size: {int(tmp.mean())}')\n",
    "print(f'Net Profit: {int(df_eval.bankroll.iloc[-1]) - 10000}')\n",
    "\n",
    "pd.Series(results).plot(figsize=(16,4))\n",
    "plt.title('Bankroll Over 2023-2024 Season')\n",
    "plt.show()\n",
    "\n",
    "plt.figure(figsize=(16,4))\n",
    "plt.boxplot(df_eval.win_amount, vert=False)\n",
    "plt.title('Bet Result Distribution')\n",
    "plt.show()"
   ]
  },
  {
   "cell_type": "code",
   "execution_count": null,
   "id": "6aa5fede-3f1e-4484-bdca-d88c9f836253",
   "metadata": {},
   "outputs": [],
   "source": [
    "df_eval.win.sum()"
   ]
  },
  {
   "cell_type": "code",
   "execution_count": null,
   "id": "f85d93e4-835f-45bc-a7b8-6a548ee620fd",
   "metadata": {},
   "outputs": [],
   "source": [
    "fn = 'BEST_MODELS_PREDICTIONS.csv'\n",
    "odds = joined_odds(fn, 'moneyline')\n",
    "\n",
    "bets = pick_odds_greater_than(odds, 0)\n",
    "wagers = kelly_wagers(bets, multiplier=.1, cap=.1)\n",
    "results = simulate_wagers(wagers)\n",
    "df_eval = evaluation_dataframe(bets, wagers, results)\n",
    "\n",
    "print('Market:Moneyline')\n",
    "print('Betting Strategy: .1*Kelly')\n",
    "print(f'Average bet size: {int((df_eval.bet_amount * df_eval.bankroll.iloc[:-1]).mean())}')\n",
    "print(f'Net Profit: {int(df_eval.bankroll.iloc[-1]) - 10000}')\n",
    "\n",
    "pd.Series(results).plot(figsize=(16,4))\n",
    "plt.title('Bankroll Over 2023-2024 Season')\n",
    "plt.show()\n",
    "\n",
    "plt.figure(figsize=(16,4))\n",
    "plt.boxplot(df_eval.win_amount, vert=False)\n",
    "plt.title('Bet Result Distribution')\n",
    "plt.show()"
   ]
  },
  {
   "cell_type": "code",
   "execution_count": null,
   "id": "d898e9a9-2f04-4b27-9887-9fe872620d5b",
   "metadata": {},
   "outputs": [],
   "source": [
    "fn = 'BEST_MODELS_PREDICTIONS.csv'\n",
    "odds = joined_odds(fn, 'moneyline')\n",
    "\n",
    "bets = pick_odds_greater_than(odds, 0)\n",
    "wagers = fixed_wagers(bets, amount=665)\n",
    "results = simulate_wagers(wagers)\n",
    "df_eval = evaluation_dataframe(bets, wagers, results)\n",
    "\n",
    "print('Market:Moneyline')\n",
    "print('Betting Strategy: Fixed $665')\n",
    "print(f'Average bet size: {int((df_eval.bet_amount).mean())}')\n",
    "print(f'Net Profit: {int(df_eval.bankroll.iloc[-1]) - 10000}')\n",
    "\n",
    "pd.Series(results).plot(figsize=(16,4))\n",
    "plt.title('Bankroll Over 2023-2024 Season')\n",
    "plt.show()\n",
    "\n",
    "plt.figure(figsize=(16,4))\n",
    "plt.boxplot(df_eval.win_amount, vert=False)\n",
    "plt.title('Bet Result Distribution')\n",
    "plt.show()"
   ]
  },
  {
   "cell_type": "code",
   "execution_count": 4,
   "id": "cb7c7246-5b60-475f-af6d-85caa772bd21",
   "metadata": {},
   "outputs": [
    {
     "data": {
      "text/html": [
       "<div>\n",
       "<style scoped>\n",
       "    .dataframe tbody tr th:only-of-type {\n",
       "        vertical-align: middle;\n",
       "    }\n",
       "\n",
       "    .dataframe tbody tr th {\n",
       "        vertical-align: top;\n",
       "    }\n",
       "\n",
       "    .dataframe thead th {\n",
       "        text-align: right;\n",
       "    }\n",
       "</style>\n",
       "<table border=\"1\" class=\"dataframe\">\n",
       "  <thead>\n",
       "    <tr style=\"text-align: right;\">\n",
       "      <th></th>\n",
       "      <th>date</th>\n",
       "      <th>market</th>\n",
       "      <th>name</th>\n",
       "      <th>handicap</th>\n",
       "      <th>payout_odds</th>\n",
       "      <th>predicted_odds</th>\n",
       "      <th>game</th>\n",
       "    </tr>\n",
       "  </thead>\n",
       "  <tbody>\n",
       "    <tr>\n",
       "      <th>306</th>\n",
       "      <td>2023-12-13</td>\n",
       "      <td>moneyline</td>\n",
       "      <td>Brooklyn Nets</td>\n",
       "      <td>0.0</td>\n",
       "      <td>0.050000</td>\n",
       "      <td>0.448896</td>\n",
       "      <td>2023-12-13 Phoenix Suns v. Brooklyn Nets</td>\n",
       "    </tr>\n",
       "    <tr>\n",
       "      <th>215</th>\n",
       "      <td>2023-11-28</td>\n",
       "      <td>moneyline</td>\n",
       "      <td>Dallas Mavericks</td>\n",
       "      <td>0.0</td>\n",
       "      <td>0.020000</td>\n",
       "      <td>0.693124</td>\n",
       "      <td>2023-11-28 Dallas Mavericks v. Houston Rockets</td>\n",
       "    </tr>\n",
       "    <tr>\n",
       "      <th>184</th>\n",
       "      <td>2023-11-24</td>\n",
       "      <td>moneyline</td>\n",
       "      <td>Milwaukee Bucks</td>\n",
       "      <td>0.0</td>\n",
       "      <td>0.222222</td>\n",
       "      <td>0.709831</td>\n",
       "      <td>2023-11-24 Milwaukee Bucks v. Washington Wizards</td>\n",
       "    </tr>\n",
       "    <tr>\n",
       "      <th>389</th>\n",
       "      <td>2023-12-23</td>\n",
       "      <td>moneyline</td>\n",
       "      <td>Toronto Raptors</td>\n",
       "      <td>0.0</td>\n",
       "      <td>8.750000</td>\n",
       "      <td>0.697472</td>\n",
       "      <td>2023-12-23 Toronto Raptors v. Utah Jazz</td>\n",
       "    </tr>\n",
       "    <tr>\n",
       "      <th>175</th>\n",
       "      <td>2023-11-22</td>\n",
       "      <td>moneyline</td>\n",
       "      <td>Denver Nuggets</td>\n",
       "      <td>0.0</td>\n",
       "      <td>2.100000</td>\n",
       "      <td>0.284497</td>\n",
       "      <td>2023-11-22 Orlando Magic v. Denver Nuggets</td>\n",
       "    </tr>\n",
       "    <tr>\n",
       "      <th>...</th>\n",
       "      <td>...</td>\n",
       "      <td>...</td>\n",
       "      <td>...</td>\n",
       "      <td>...</td>\n",
       "      <td>...</td>\n",
       "      <td>...</td>\n",
       "      <td>...</td>\n",
       "    </tr>\n",
       "    <tr>\n",
       "      <th>409</th>\n",
       "      <td>2023-12-27</td>\n",
       "      <td>moneyline</td>\n",
       "      <td>New York Knicks</td>\n",
       "      <td>0.0</td>\n",
       "      <td>5.250000</td>\n",
       "      <td>0.195948</td>\n",
       "      <td>2023-12-27 Oklahoma City Thunder v. New York K...</td>\n",
       "    </tr>\n",
       "    <tr>\n",
       "      <th>484</th>\n",
       "      <td>2024-01-06</td>\n",
       "      <td>moneyline</td>\n",
       "      <td>Houston Rockets</td>\n",
       "      <td>0.0</td>\n",
       "      <td>6.250000</td>\n",
       "      <td>0.570479</td>\n",
       "      <td>2024-01-06 Houston Rockets v. Milwaukee Bucks</td>\n",
       "    </tr>\n",
       "    <tr>\n",
       "      <th>625</th>\n",
       "      <td>2024-01-26</td>\n",
       "      <td>moneyline</td>\n",
       "      <td>Cleveland Cavaliers</td>\n",
       "      <td>0.0</td>\n",
       "      <td>22.000000</td>\n",
       "      <td>0.458006</td>\n",
       "      <td>2024-01-26 Milwaukee Bucks v. Cleveland Cavaliers</td>\n",
       "    </tr>\n",
       "    <tr>\n",
       "      <th>548</th>\n",
       "      <td>2024-01-15</td>\n",
       "      <td>moneyline</td>\n",
       "      <td>Brooklyn Nets</td>\n",
       "      <td>0.0</td>\n",
       "      <td>1.100000</td>\n",
       "      <td>0.395488</td>\n",
       "      <td>2024-01-15 Brooklyn Nets v. Miami Heat</td>\n",
       "    </tr>\n",
       "    <tr>\n",
       "      <th>355</th>\n",
       "      <td>2023-12-20</td>\n",
       "      <td>moneyline</td>\n",
       "      <td>Cleveland Cavaliers</td>\n",
       "      <td>0.0</td>\n",
       "      <td>0.010000</td>\n",
       "      <td>0.718717</td>\n",
       "      <td>2023-12-20 Cleveland Cavaliers v. Utah Jazz</td>\n",
       "    </tr>\n",
       "  </tbody>\n",
       "</table>\n",
       "<p>264 rows × 7 columns</p>\n",
       "</div>"
      ],
      "text/plain": [
       "           date     market                 name  handicap  payout_odds  \\\n",
       "306  2023-12-13  moneyline        Brooklyn Nets       0.0     0.050000   \n",
       "215  2023-11-28  moneyline     Dallas Mavericks       0.0     0.020000   \n",
       "184  2023-11-24  moneyline      Milwaukee Bucks       0.0     0.222222   \n",
       "389  2023-12-23  moneyline      Toronto Raptors       0.0     8.750000   \n",
       "175  2023-11-22  moneyline       Denver Nuggets       0.0     2.100000   \n",
       "..          ...        ...                  ...       ...          ...   \n",
       "409  2023-12-27  moneyline      New York Knicks       0.0     5.250000   \n",
       "484  2024-01-06  moneyline      Houston Rockets       0.0     6.250000   \n",
       "625  2024-01-26  moneyline  Cleveland Cavaliers       0.0    22.000000   \n",
       "548  2024-01-15  moneyline        Brooklyn Nets       0.0     1.100000   \n",
       "355  2023-12-20  moneyline  Cleveland Cavaliers       0.0     0.010000   \n",
       "\n",
       "     predicted_odds                                               game  \n",
       "306        0.448896           2023-12-13 Phoenix Suns v. Brooklyn Nets  \n",
       "215        0.693124     2023-11-28 Dallas Mavericks v. Houston Rockets  \n",
       "184        0.709831   2023-11-24 Milwaukee Bucks v. Washington Wizards  \n",
       "389        0.697472            2023-12-23 Toronto Raptors v. Utah Jazz  \n",
       "175        0.284497         2023-11-22 Orlando Magic v. Denver Nuggets  \n",
       "..              ...                                                ...  \n",
       "409        0.195948  2023-12-27 Oklahoma City Thunder v. New York K...  \n",
       "484        0.570479      2024-01-06 Houston Rockets v. Milwaukee Bucks  \n",
       "625        0.458006  2024-01-26 Milwaukee Bucks v. Cleveland Cavaliers  \n",
       "548        0.395488             2024-01-15 Brooklyn Nets v. Miami Heat  \n",
       "355        0.718717        2023-12-20 Cleveland Cavaliers v. Utah Jazz  \n",
       "\n",
       "[264 rows x 7 columns]"
      ]
     },
     "execution_count": 4,
     "metadata": {},
     "output_type": "execute_result"
    }
   ],
   "source": [
    "bets"
   ]
  },
  {
   "cell_type": "code",
   "execution_count": 5,
   "id": "02b85212-89b9-43ec-a4b4-4c13e937828e",
   "metadata": {},
   "outputs": [
    {
     "data": {
      "text/html": [
       "<div>\n",
       "<style scoped>\n",
       "    .dataframe tbody tr th:only-of-type {\n",
       "        vertical-align: middle;\n",
       "    }\n",
       "\n",
       "    .dataframe tbody tr th {\n",
       "        vertical-align: top;\n",
       "    }\n",
       "\n",
       "    .dataframe thead th {\n",
       "        text-align: right;\n",
       "    }\n",
       "</style>\n",
       "<table border=\"1\" class=\"dataframe\">\n",
       "  <thead>\n",
       "    <tr style=\"text-align: right;\">\n",
       "      <th></th>\n",
       "      <th>date</th>\n",
       "      <th>market</th>\n",
       "      <th>name</th>\n",
       "      <th>handicap</th>\n",
       "      <th>payout_odds</th>\n",
       "      <th>predicted_odds</th>\n",
       "    </tr>\n",
       "  </thead>\n",
       "  <tbody>\n",
       "    <tr>\n",
       "      <th>136</th>\n",
       "      <td>2023-11-17</td>\n",
       "      <td>moneyline</td>\n",
       "      <td>Chicago Bulls</td>\n",
       "      <td>0.0</td>\n",
       "      <td>0.540541</td>\n",
       "      <td>0.653000</td>\n",
       "    </tr>\n",
       "    <tr>\n",
       "      <th>139</th>\n",
       "      <td>2023-11-17</td>\n",
       "      <td>moneyline</td>\n",
       "      <td>LA Clippers</td>\n",
       "      <td>0.0</td>\n",
       "      <td>0.689655</td>\n",
       "      <td>0.875590</td>\n",
       "    </tr>\n",
       "    <tr>\n",
       "      <th>130</th>\n",
       "      <td>2023-11-17</td>\n",
       "      <td>moneyline</td>\n",
       "      <td>Sacramento Kings</td>\n",
       "      <td>0.0</td>\n",
       "      <td>0.200000</td>\n",
       "      <td>0.529376</td>\n",
       "    </tr>\n",
       "    <tr>\n",
       "      <th>129</th>\n",
       "      <td>2023-11-17</td>\n",
       "      <td>moneyline</td>\n",
       "      <td>Phoenix Suns</td>\n",
       "      <td>0.0</td>\n",
       "      <td>0.062500</td>\n",
       "      <td>0.557169</td>\n",
       "    </tr>\n",
       "    <tr>\n",
       "      <th>129</th>\n",
       "      <td>2023-11-17</td>\n",
       "      <td>moneyline</td>\n",
       "      <td>Utah Jazz</td>\n",
       "      <td>0.0</td>\n",
       "      <td>7.750000</td>\n",
       "      <td>0.442831</td>\n",
       "    </tr>\n",
       "    <tr>\n",
       "      <th>...</th>\n",
       "      <td>...</td>\n",
       "      <td>...</td>\n",
       "      <td>...</td>\n",
       "      <td>...</td>\n",
       "      <td>...</td>\n",
       "      <td>...</td>\n",
       "    </tr>\n",
       "    <tr>\n",
       "      <th>682</th>\n",
       "      <td>2024-02-03</td>\n",
       "      <td>moneyline</td>\n",
       "      <td>Los Angeles Lakers</td>\n",
       "      <td>0.0</td>\n",
       "      <td>2.300000</td>\n",
       "      <td>0.436250</td>\n",
       "    </tr>\n",
       "    <tr>\n",
       "      <th>686</th>\n",
       "      <td>2024-02-03</td>\n",
       "      <td>moneyline</td>\n",
       "      <td>Golden State Warriors</td>\n",
       "      <td>0.0</td>\n",
       "      <td>0.909091</td>\n",
       "      <td>0.514014</td>\n",
       "    </tr>\n",
       "    <tr>\n",
       "      <th>686</th>\n",
       "      <td>2024-02-03</td>\n",
       "      <td>moneyline</td>\n",
       "      <td>Atlanta Hawks</td>\n",
       "      <td>0.0</td>\n",
       "      <td>0.869565</td>\n",
       "      <td>0.485986</td>\n",
       "    </tr>\n",
       "    <tr>\n",
       "      <th>685</th>\n",
       "      <td>2024-02-03</td>\n",
       "      <td>moneyline</td>\n",
       "      <td>Dallas Mavericks</td>\n",
       "      <td>0.0</td>\n",
       "      <td>12.000000</td>\n",
       "      <td>0.511033</td>\n",
       "    </tr>\n",
       "    <tr>\n",
       "      <th>685</th>\n",
       "      <td>2024-02-03</td>\n",
       "      <td>moneyline</td>\n",
       "      <td>Milwaukee Bucks</td>\n",
       "      <td>0.0</td>\n",
       "      <td>0.020000</td>\n",
       "      <td>0.488967</td>\n",
       "    </tr>\n",
       "  </tbody>\n",
       "</table>\n",
       "<p>422 rows × 6 columns</p>\n",
       "</div>"
      ],
      "text/plain": [
       "           date     market                   name  handicap  payout_odds  \\\n",
       "136  2023-11-17  moneyline          Chicago Bulls       0.0     0.540541   \n",
       "139  2023-11-17  moneyline            LA Clippers       0.0     0.689655   \n",
       "130  2023-11-17  moneyline       Sacramento Kings       0.0     0.200000   \n",
       "129  2023-11-17  moneyline           Phoenix Suns       0.0     0.062500   \n",
       "129  2023-11-17  moneyline              Utah Jazz       0.0     7.750000   \n",
       "..          ...        ...                    ...       ...          ...   \n",
       "682  2024-02-03  moneyline     Los Angeles Lakers       0.0     2.300000   \n",
       "686  2024-02-03  moneyline  Golden State Warriors       0.0     0.909091   \n",
       "686  2024-02-03  moneyline          Atlanta Hawks       0.0     0.869565   \n",
       "685  2024-02-03  moneyline       Dallas Mavericks       0.0    12.000000   \n",
       "685  2024-02-03  moneyline        Milwaukee Bucks       0.0     0.020000   \n",
       "\n",
       "     predicted_odds  \n",
       "136        0.653000  \n",
       "139        0.875590  \n",
       "130        0.529376  \n",
       "129        0.557169  \n",
       "129        0.442831  \n",
       "..              ...  \n",
       "682        0.436250  \n",
       "686        0.514014  \n",
       "686        0.485986  \n",
       "685        0.511033  \n",
       "685        0.488967  \n",
       "\n",
       "[422 rows x 6 columns]"
      ]
     },
     "execution_count": 5,
     "metadata": {},
     "output_type": "execute_result"
    }
   ],
   "source": [
    "odds"
   ]
  },
  {
   "cell_type": "code",
   "execution_count": 23,
   "id": "0277aac1-0284-4a65-95f4-faf837d2e3fe",
   "metadata": {},
   "outputs": [
    {
     "name": "stdout",
     "output_type": "stream",
     "text": [
      "None None 0 results found\n",
      "Market: Moneyline\n",
      "Betting Strategy: Fixed $665, Random Picks\n",
      "Average bet size: 665\n",
      "Net Profit: 61158\n"
     ]
    },
    {
     "data": {
      "image/png": "[encoded data removed]",
      "text/plain": [
       "<Figure size 1152x288 with 1 Axes>"
      ]
     },
     "metadata": {
      "needs_background": "light"
     },
     "output_type": "display_data"
    },
    {
     "data": {
      "image/png": "[encoded data removed]",
      "text/plain": [
       "<Figure size 1152x288 with 1 Axes>"
      ]
     },
     "metadata": {
      "needs_background": "light"
     },
     "output_type": "display_data"
    }
   ],
   "source": [
    "fn = 'BEST_MODELS_PREDICTIONS.csv'\n",
    "odds = joined_odds(fn, 'moneyline')\n",
    "\n",
    "bets = pick_random_bets(odds)\n",
    "wagers = fixed_wagers(bets, amount=665)\n",
    "results = simulate_wagers(wagers)\n",
    "df_eval = evaluation_dataframe(bets, wagers, results)\n",
    "\n",
    "print('Market: Moneyline') \n",
    "print('Betting Strategy: Fixed $665, Random Picks')\n",
    "tmp = (df_eval.bet_amount)\n",
    "tmp = tmp[tmp>10]\n",
    "print(f'Average bet size: {int(tmp.mean())}')\n",
    "print(f'Net Profit: {int(df_eval.bankroll.iloc[-1]) - 10000}')\n",
    "\n",
    "pd.Series(results).plot(figsize=(16,4))\n",
    "plt.title('Bankroll Over 2023-2024 Season')\n",
    "plt.show()\n",
    "\n",
    "plt.figure(figsize=(16,4))\n",
    "plt.boxplot(df_eval.win_amount, vert=False)\n",
    "plt.title('Bet Result Distribution')\n",
    "plt.show()"
   ]
  },
  {
   "cell_type": "code",
   "execution_count": 16,
   "id": "517bc030-e554-42d6-afc4-1d210096be84",
   "metadata": {
    "collapsed": true,
    "jupyter": {
     "outputs_hidden": true
    },
    "tags": []
   },
   "outputs": [
    {
     "name": "stdout",
     "output_type": "stream",
     "text": [
      "None None 0 results found\n",
      "None None 0 results found\n",
      "None None 0 results found\n",
      "None None 0 results found\n",
      "None None 0 results found\n",
      "None None 0 results found\n",
      "None None 0 results found\n",
      "None None 0 results found\n",
      "None None 0 results found\n",
      "None None 0 results found\n",
      "None None 0 results found\n",
      "None None 0 results found\n",
      "None None 0 results found\n",
      "None None 0 results found\n",
      "None None 0 results found\n",
      "None None 0 results found\n",
      "None None 0 results found\n",
      "None None 0 results found\n",
      "None None 0 results found\n",
      "None None 0 results found\n",
      "None None 0 results found\n",
      "None None 0 results found\n",
      "None None 0 results found\n",
      "None None 0 results found\n",
      "None None 0 results found\n",
      "None None 0 results found\n",
      "None None 0 results found\n",
      "None None 0 results found\n",
      "None None 0 results found\n",
      "None None 0 results found\n",
      "None None 0 results found\n",
      "None None 0 results found\n",
      "None None 0 results found\n",
      "None None 0 results found\n",
      "None None 0 results found\n",
      "None None 0 results found\n",
      "None None 0 results found\n",
      "None None 0 results found\n",
      "None None 0 results found\n",
      "None None 0 results found\n",
      "None None 0 results found\n",
      "None None 0 results found\n",
      "None None 0 results found\n",
      "None None 0 results found\n",
      "None None 0 results found\n",
      "None None 0 results found\n",
      "None None 0 results found\n",
      "None None 0 results found\n",
      "None None 0 results found\n",
      "None None 0 results found\n",
      "None None 0 results found\n",
      "None None 0 results found\n",
      "None None 0 results found\n",
      "None None 0 results found\n",
      "None None 0 results found\n",
      "None None 0 results found\n",
      "None None 0 results found\n",
      "None None 0 results found\n",
      "None None 0 results found\n",
      "None None 0 results found\n",
      "None None 0 results found\n",
      "None None 0 results found\n",
      "None None 0 results found\n",
      "None None 0 results found\n",
      "None None 0 results found\n",
      "None None 0 results found\n",
      "None None 0 results found\n",
      "None None 0 results found\n",
      "None None 0 results found\n",
      "None None 0 results found\n",
      "None None 0 results found\n",
      "None None 0 results found\n",
      "None None 0 results found\n",
      "None None 0 results found\n",
      "None None 0 results found\n",
      "None None 0 results found\n",
      "None None 0 results found\n",
      "None None 0 results found\n",
      "None None 0 results found\n",
      "None None 0 results found\n",
      "None None 0 results found\n",
      "None None 0 results found\n",
      "None None 0 results found\n",
      "None None 0 results found\n",
      "None None 0 results found\n",
      "None None 0 results found\n",
      "None None 0 results found\n",
      "None None 0 results found\n",
      "None None 0 results found\n",
      "None None 0 results found\n",
      "None None 0 results found\n",
      "None None 0 results found\n",
      "None None 0 results found\n",
      "None None 0 results found\n",
      "None None 0 results found\n",
      "None None 0 results found\n",
      "None None 0 results found\n",
      "None None 0 results found\n",
      "None None 0 results found\n",
      "None None 0 results found\n"
     ]
    }
   ],
   "source": [
    "profits = []\n",
    "for i in range(100):\n",
    "    bets = pick_random_bets(odds)\n",
    "    wagers = fixed_wagers(bets, amount=665)\n",
    "    results = simulate_wagers(wagers)\n",
    "    df_eval = evaluation_dataframe(bets, wagers, results)\n",
    "    profit = int(df_eval.bankroll.iloc[-1]) - 10000\n",
    "    profits.append(profit)"
   ]
  },
  {
   "cell_type": "code",
   "execution_count": 17,
   "id": "70a9027f-2a88-45a8-af86-8d648b16f1bf",
   "metadata": {},
   "outputs": [
    {
     "data": {
      "text/plain": [
       "(46037.49, 32612.75070351932)"
      ]
     },
     "execution_count": 17,
     "metadata": {},
     "output_type": "execute_result"
    }
   ],
   "source": [
    "import numpy as np\n",
    "\n",
    "np.mean(profits), np.std(profits)"
   ]
  },
  {
   "cell_type": "code",
   "execution_count": 24,
   "id": "a7f8333f-b6b3-4f56-aa76-d84b5701a9d6",
   "metadata": {},
   "outputs": [
    {
     "name": "stdout",
     "output_type": "stream",
     "text": [
      "None None 0 results found\n",
      "Market: Spread\n",
      "Betting Strategy: Fixed $665, Random Picks\n",
      "Average bet size: 135\n",
      "Net Profit: -1748\n"
     ]
    },
    {
     "data": {
      "image/png": "[encoded data removed]",
      "text/plain": [
       "<Figure size 1152x288 with 1 Axes>"
      ]
     },
     "metadata": {
      "needs_background": "light"
     },
     "output_type": "display_data"
    },
    {
     "data": {
      "image/png": "[encoded data removed]",
      "text/plain": [
       "<Figure size 1152x288 with 1 Axes>"
      ]
     },
     "metadata": {
      "needs_background": "light"
     },
     "output_type": "display_data"
    }
   ],
   "source": [
    "fn = 'BEST_MODELS_PREDICTIONS.csv'\n",
    "odds = joined_odds(fn, 'spread')\n",
    "\n",
    "bets = pick_random_bets(odds)\n",
    "wagers = fixed_wagers(bets, amount=135)\n",
    "results = simulate_wagers(wagers)\n",
    "df_eval = evaluation_dataframe(bets, wagers, results)\n",
    "\n",
    "print('Market: Spread') \n",
    "print('Betting Strategy: Fixed $665, Random Picks')\n",
    "tmp = (df_eval.bet_amount)\n",
    "tmp = tmp[tmp>10]\n",
    "print(f'Average bet size: {int(tmp.mean())}')\n",
    "print(f'Net Profit: {int(df_eval.bankroll.iloc[-1]) - 10000}')\n",
    "\n",
    "pd.Series(results).plot(figsize=(16,4))\n",
    "plt.title('Bankroll Over 2023-2024 Season')\n",
    "plt.show()\n",
    "\n",
    "plt.figure(figsize=(16,4))\n",
    "plt.boxplot(df_eval.win_amount, vert=False)\n",
    "plt.title('Bet Result Distribution')\n",
    "plt.show()"
   ]
  },
  {
   "cell_type": "code",
   "execution_count": 25,
   "id": "9d7da9e0-bdab-4c0a-b1a9-c25cae7ad1ad",
   "metadata": {},
   "outputs": [
    {
     "name": "stdout",
     "output_type": "stream",
     "text": [
      "None None 0 results found\n",
      "None None 0 results found\n",
      "None None 0 results found\n",
      "None None 0 results found\n",
      "None None 0 results found\n",
      "None None 0 results found\n",
      "None None 0 results found\n",
      "None None 0 results found\n",
      "None None 0 results found\n",
      "None None 0 results found\n",
      "None None 0 results found\n",
      "None None 0 results found\n",
      "None None 0 results found\n",
      "None None 0 results found\n",
      "None None 0 results found\n",
      "None None 0 results found\n",
      "None None 0 results found\n",
      "None None 0 results found\n",
      "None None 0 results found\n",
      "None None 0 results found\n",
      "None None 0 results found\n",
      "None None 0 results found\n",
      "None None 0 results found\n",
      "None None 0 results found\n",
      "None None 0 results found\n",
      "None None 0 results found\n",
      "None None 0 results found\n",
      "None None 0 results found\n",
      "None None 0 results found\n",
      "None None 0 results found\n",
      "None None 0 results found\n",
      "None None 0 results found\n",
      "None None 0 results found\n",
      "None None 0 results found\n",
      "None None 0 results found\n",
      "None None 0 results found\n",
      "None None 0 results found\n",
      "None None 0 results found\n",
      "None None 0 results found\n",
      "None None 0 results found\n",
      "None None 0 results found\n",
      "None None 0 results found\n",
      "None None 0 results found\n",
      "None None 0 results found\n",
      "None None 0 results found\n",
      "None None 0 results found\n",
      "None None 0 results found\n",
      "None None 0 results found\n",
      "None None 0 results found\n",
      "None None 0 results found\n",
      "None None 0 results found\n",
      "None None 0 results found\n",
      "None None 0 results found\n",
      "None None 0 results found\n",
      "None None 0 results found\n",
      "None None 0 results found\n",
      "None None 0 results found\n",
      "None None 0 results found\n",
      "None None 0 results found\n",
      "None None 0 results found\n",
      "None None 0 results found\n",
      "None None 0 results found\n",
      "None None 0 results found\n",
      "None None 0 results found\n",
      "None None 0 results found\n",
      "None None 0 results found\n",
      "None None 0 results found\n",
      "None None 0 results found\n",
      "None None 0 results found\n",
      "None None 0 results found\n",
      "None None 0 results found\n",
      "None None 0 results found\n",
      "None None 0 results found\n",
      "None None 0 results found\n",
      "None None 0 results found\n",
      "None None 0 results found\n",
      "None None 0 results found\n",
      "None None 0 results found\n",
      "None None 0 results found\n",
      "None None 0 results found\n",
      "None None 0 results found\n",
      "None None 0 results found\n",
      "None None 0 results found\n",
      "None None 0 results found\n",
      "None None 0 results found\n",
      "None None 0 results found\n",
      "None None 0 results found\n",
      "None None 0 results found\n",
      "None None 0 results found\n",
      "None None 0 results found\n",
      "None None 0 results found\n",
      "None None 0 results found\n",
      "None None 0 results found\n",
      "None None 0 results found\n",
      "None None 0 results found\n",
      "None None 0 results found\n",
      "None None 0 results found\n",
      "None None 0 results found\n",
      "None None 0 results found\n",
      "None None 0 results found\n"
     ]
    },
    {
     "data": {
      "text/plain": [
       "(-9130.0, 4237.033795003292)"
      ]
     },
     "execution_count": 25,
     "metadata": {},
     "output_type": "execute_result"
    }
   ],
   "source": [
    "profits = []\n",
    "for i in range(100):\n",
    "    bets = pick_random_bets(odds)\n",
    "    wagers = fixed_wagers(bets, amount=665)\n",
    "    results = simulate_wagers(wagers)\n",
    "    df_eval = evaluation_dataframe(bets, wagers, results)\n",
    "    profit = int(df_eval.bankroll.iloc[-1]) - 10000\n",
    "    profits.append(profit)\n",
    "np.mean(profits), np.std(profits)"
   ]
  },
  {
   "cell_type": "code",
   "execution_count": null,
   "id": "c56fb84a-1115-4423-b990-5d2022fad0ff",
   "metadata": {},
   "outputs": [],
   "source": [
    "fn = 'BEST_MODELS_PREDICTIONS.csv'\n",
    "odds = joined_odds(fn, 'moneyline')\n",
    "\n",
    "bets = pick_odds_greater_than(odds, 0)\n",
    "wagers = kelly_wagers(bets, multiplier=1, cap=.1)\n",
    "results = simulate_wagers(wagers)\n",
    "df_eval = evaluation_dataframe(bets, wagers, results)\n",
    "\n",
    "print('Market:Moneyline')\n",
    "print('Betting Strategy: Kelly, .1 Cap')\n",
    "print(f'Average bet size: {int((df_eval.bet_amount * df_eval.bankroll.iloc[:-1]).mean())}')\n",
    "print(f'Net Profit: {int(df_eval.bankroll.iloc[-1]) - 10000}')\n",
    "\n",
    "pd.Series(results).plot(figsize=(16,4))\n",
    "plt.title('Bankroll Over 2023-2024 Season')\n",
    "plt.show()\n",
    "\n",
    "plt.figure(figsize=(16,4))\n",
    "plt.boxplot(df_eval.win_amount, vert=False)\n",
    "plt.title('Bet Result Distribution')\n",
    "plt.show()"
   ]
  },
  {
   "cell_type": "code",
   "execution_count": null,
   "id": "63cd2502-2734-4ef1-93ab-9abc280cfdfd",
   "metadata": {},
   "outputs": [],
   "source": [
    "df_eval.win.sum()/len(df_eval)"
   ]
  },
  {
   "cell_type": "code",
   "execution_count": null,
   "id": "7a47242d-5ba3-4324-9d53-d9571466822d",
   "metadata": {},
   "outputs": [],
   "source": [
    "fn = 'BEST_MODELS_PREDICTIONS.csv'\n",
    "odds = joined_odds(fn, 'moneyline')\n",
    "\n",
    "bets = pick_odds_greater_than(odds, 0)\n",
    "wagers = mixed_wagers(bets, fixed_amount=332.5, kelly_multiplier=1, kelly_cap=.1)\n",
    "results = simulate_wagers(wagers)\n",
    "df_eval = evaluation_dataframe(bets, wagers, results)\n",
    "\n",
    "print('Market:Moneyline')\n",
    "print('Betting Strategy: Mixed $332.5 + .1*Kelly')\n",
    "print(f'Average bet size: {int((df_eval.bet_amount).mean())}')\n",
    "print(f'Net Profit: {int(df_eval.bankroll.iloc[-1]) - 10000}')\n",
    "\n",
    "pd.Series(results).plot(figsize=(16,4))\n",
    "plt.title('Bankroll Over 2023-2024 Season')\n",
    "plt.show()\n",
    "\n",
    "plt.figure(figsize=(16,4))\n",
    "plt.boxplot(df_eval.win_amount, vert=False)\n",
    "plt.title('Bet Result Distribution')\n",
    "plt.show()"
   ]
  },
  {
   "cell_type": "code",
   "execution_count": null,
   "id": "e24518d8-5285-4b8a-9b98-92cee72c59b7",
   "metadata": {},
   "outputs": [],
   "source": []
  },
  {
   "cell_type": "code",
   "execution_count": null,
   "id": "f03c489f-6243-4704-a87c-9b6dca337604",
   "metadata": {},
   "outputs": [],
   "source": []
  },
  {
   "cell_type": "code",
   "execution_count": null,
   "id": "f8ad7ec3-a4b5-4fb9-8ae8-97545c4f6a48",
   "metadata": {},
   "outputs": [],
   "source": []
  },
  {
   "cell_type": "code",
   "execution_count": null,
   "id": "ef9b091f-07c4-499c-889e-0ccd835fda3c",
   "metadata": {},
   "outputs": [],
   "source": [
    "fn = 'BEST_MODELS_PREDICTIONS.csv'\n",
    "odds = joined_odds(fn, 'spread')\n",
    "\n",
    "bets = pick_odds_greater_than(odds, 0)\n",
    "wagers = kelly_wagers(bets, multiplier=1, cap=1)\n",
    "results = simulate_wagers(wagers)\n",
    "df_eval = evaluation_dataframe(bets, wagers, results)\n",
    "\n",
    "print('Market:Spread')\n",
    "print('Betting Strategy: Full Kelly')\n",
    "print(f'Average bet size: {int((df_eval.bet_amount * df_eval.bankroll.iloc[:-1]).mean())}')\n",
    "print(f'Net Profit: {int(df_eval.bankroll.iloc[-1]) - 10000}')\n",
    "\n",
    "pd.Series(results).plot(figsize=(16,4))\n",
    "plt.title('Bankroll Over 2023-2024 Season')\n",
    "plt.show()\n",
    "\n",
    "plt.figure(figsize=(16,4))\n",
    "plt.boxplot(df_eval.win_amount, vert=False)\n",
    "plt.title('Bet Result Distribution')\n",
    "plt.show()"
   ]
  },
  {
   "cell_type": "code",
   "execution_count": null,
   "id": "ca6fdc8d-a6a4-4793-b163-24417711cccd",
   "metadata": {},
   "outputs": [],
   "source": [
    "df_eval.win.sum()/len(df_eval)"
   ]
  },
  {
   "cell_type": "code",
   "execution_count": null,
   "id": "72e1e706-323d-492b-a210-ad83c9c97e97",
   "metadata": {},
   "outputs": [],
   "source": [
    "fn = 'BEST_MODELS_PREDICTIONS.csv'\n",
    "odds = joined_odds(fn, 'spread')\n",
    "\n",
    "bets = pick_odds_greater_than(odds, 0)\n",
    "wagers = kelly_wagers(bets, multiplier=.1, cap=.1)\n",
    "results = simulate_wagers(wagers)\n",
    "df_eval = evaluation_dataframe(bets, wagers, results)\n",
    "\n",
    "print('Market:Spread')\n",
    "print('Betting Strategy: .1 * Kelly')\n",
    "print(f'Average bet size: {int((df_eval.bet_amount * df_eval.bankroll.iloc[:-1]).mean())}')\n",
    "print(f'Net Profit: {int(df_eval.bankroll.iloc[-1]) - 10000}')\n",
    "\n",
    "pd.Series(results).plot(figsize=(16,4))\n",
    "plt.title('Bankroll Over 2023-2024 Season')\n",
    "plt.show()\n",
    "\n",
    "plt.figure(figsize=(16,4))\n",
    "plt.boxplot(df_eval.win_amount, vert=False)\n",
    "plt.title('Bet Result Distribution')\n",
    "plt.show()"
   ]
  },
  {
   "cell_type": "code",
   "execution_count": null,
   "id": "09c3c5a4-a245-47c4-a4a8-3dd83236118e",
   "metadata": {},
   "outputs": [],
   "source": [
    "fn = 'BEST_MODELS_PREDICTIONS.csv'\n",
    "odds = joined_odds(fn, 'spread')\n",
    "\n",
    "bets = pick_odds_greater_than(odds, 0)\n",
    "wagers = fixed_wagers(bets, amount=135)\n",
    "results = simulate_wagers(wagers)\n",
    "df_eval = evaluation_dataframe(bets, wagers, results)\n",
    "\n",
    "print('Market:Spread')\n",
    "print('Betting Strategy: Fixed $135')\n",
    "print(f'Average bet size: {int((df_eval.bet_amount).mean())}')\n",
    "print(f'Net Profit: {int(df_eval.bankroll.iloc[-1]) - 10000}')\n",
    "\n",
    "pd.Series(results).plot(figsize=(16,4))\n",
    "plt.title('Bankroll Over 2023-2024 Season')\n",
    "plt.show()\n",
    "\n",
    "plt.figure(figsize=(16,4))\n",
    "plt.boxplot(df_eval.win_amount, vert=False)\n",
    "plt.title('Bet Result Distribution')\n",
    "plt.show()"
   ]
  },
  {
   "cell_type": "code",
   "execution_count": null,
   "id": "e1ad2185-41b1-45ba-9a30-50a459e44df5",
   "metadata": {},
   "outputs": [],
   "source": [
    "5454/df_eval.bet_amount.sum()"
   ]
  },
  {
   "cell_type": "code",
   "execution_count": null,
   "id": "5e280803-ae05-4a16-941f-a96cd6bbe63e",
   "metadata": {},
   "outputs": [],
   "source": [
    "sum(df_eval.win)"
   ]
  },
  {
   "cell_type": "code",
   "execution_count": null,
   "id": "954bdbc3-7d93-48cf-b025-3da5c84d9b22",
   "metadata": {},
   "outputs": [],
   "source": [
    "fn = 'BEST_MODELS_PREDICTIONS.csv'\n",
    "odds = joined_odds(fn, 'spread')\n",
    "\n",
    "bets = pick_odds_greater_than(odds, 0)\n",
    "wagers = kelly_wagers(bets, multiplier=1, cap=.1)\n",
    "results = simulate_wagers(wagers)\n",
    "df_eval = evaluation_dataframe(bets, wagers, results)\n",
    "\n",
    "print('Market:Spread')\n",
    "print('Betting Strategy: Kelly, .1 Cap')\n",
    "print(f'Average bet size: {int((df_eval.bet_amount*df_eval.bankroll).mean())}')\n",
    "print(f'Net Profit: {int(df_eval.bankroll.iloc[-1]) - 10000}')\n",
    "\n",
    "pd.Series(results).plot(figsize=(16,4))\n",
    "plt.title('Bankroll Over 2023-2024 Season')\n",
    "plt.show()\n",
    "\n",
    "plt.figure(figsize=(16,4))\n",
    "plt.boxplot(df_eval.win_amount, vert=False)\n",
    "plt.title('Bet Result Distribution')\n",
    "plt.show()"
   ]
  },
  {
   "cell_type": "code",
   "execution_count": null,
   "id": "159c13c3-4a70-485f-aa35-359f7b6da48e",
   "metadata": {},
   "outputs": [],
   "source": [
    "from dotenv import find_dotenv, load_dotenv\n",
    "\n",
    "load_dotenv(find_dotenv())\n",
    "REPO_ROOT = os.environ['REPO_ROOT']\n",
    "PREDICTIONS_DIR = '../../data/model_predictions/'\n",
    "ODDS_DIR = '../../data/prop_odds_api/'\n",
    "GAME_DATA = f'{REPO_ROOT}/data/original/'\n",
    "\n",
    "ODDS = {\n",
    "    'moneyline': pd.read_csv(ODDS_DIR + 'moneyline.csv'),\n",
    "    'spread': pd.read_csv(ODDS_DIR + 'spread.csv')\n",
    "}\n",
    "ODDS_GAMES = pd.read_csv(ODDS_DIR + 'prop_odds_games.csv')\n",
    "ODDS_GAMES"
   ]
  },
  {
   "cell_type": "code",
   "execution_count": null,
   "id": "08cce7d2-5112-42fd-8c57-714c1002edc6",
   "metadata": {},
   "outputs": [],
   "source": [
    "odds"
   ]
  },
  {
   "cell_type": "code",
   "execution_count": null,
   "id": "7c65c908-db1a-438f-b1f7-420a2ca78aa4",
   "metadata": {},
   "outputs": [],
   "source": [
    "def get_game(row):\n",
    "    games = ODDS_GAMES[\n",
    "        (\n",
    "            (ODDS_GAMES.away_team==row['name']) | (ODDS_GAMES.home_team==row['name'])\n",
    "        ) & (ODDS_GAMES.date==row.date)\n",
    "    ]\n",
    "    if len(games)==0:\n",
    "        return None\n",
    "    return f\"{games.iloc[0]['date']} {games.iloc[0]['home_team']} v. {games.iloc[0]['away_team']}\"\n",
    "\n",
    "odds = odds.copy(deep=True)\n",
    "odds['game'] = odds.apply(get_game, axis=1)\n",
    "odds = odds.sample(frac=1)\n",
    "odds.drop_duplicates('game', inplace=True)\n",
    "odds"
   ]
  },
  {
   "cell_type": "code",
   "execution_count": null,
   "id": "696a895e-aac5-48cd-b923-9b65bb91df81",
   "metadata": {},
   "outputs": [],
   "source": [
    "fn = 'BEST_MODELS_PREDICTIONS.csv'\n",
    "odds = joined_odds(fn, 'spread')\n",
    "\n",
    "bets = pick_odds_greater_than(odds, 0)\n",
    "wagers = fixed_proportion_wagers(bets, frac=.05)\n",
    "results = simulate_wagers(wagers)\n",
    "df_eval = evaluation_dataframe(bets, wagers, results)\n",
    "\n",
    "print(f'Average bet size: {int((df_eval.bet_amount * df_eval.bankroll).mean())}')\n",
    "print(f'Net Profit: {int(df_eval.bankroll.iloc[-1]) - 10000}')\n",
    "\n",
    "pd.Series(results).plot(figsize=(16,4))\n",
    "plt.title('Bankroll Over 2023-2024 Season')\n",
    "plt.show()\n",
    "\n",
    "plt.figure(figsize=(16,4))\n",
    "plt.boxplot(df_eval.win_amount, vert=False)\n",
    "plt.title('Bet Result Distribution')\n",
    "plt.show()"
   ]
  },
  {
   "cell_type": "code",
   "execution_count": null,
   "id": "d1c7c962-9527-4431-a6df-e5825dd9d583",
   "metadata": {},
   "outputs": [],
   "source": [
    "odds"
   ]
  },
  {
   "cell_type": "code",
   "execution_count": null,
   "id": "1168685a-3fd0-449b-923d-e893d31b0c29",
   "metadata": {},
   "outputs": [],
   "source": [
    "fn = 'BEST_MODELS_PREDICTIONS.csv'\n",
    "odds = joined_odds(fn, 'spread')\n",
    "\n",
    "bets = pick_odds_greater_than(odds)\n",
    "wagers = fixed_wagers(bets, 100)\n",
    "results = simulate_wagers(wagers)\n",
    "\n",
    "pd.Series(results).plot(figsize=(16,4))\n",
    "plt.title('Bankroll Over 2023-2024 Season')\n",
    "plt.show()\n",
    "\n",
    "plt.figure(figsize=(16,4))\n",
    "df_eval = evaluation_dataframe(bets, wagers, results)\n",
    "plt.boxplot(df_eval.win_amount, vert=False)\n",
    "plt.title('Bet Result Distribution')\n",
    "plt.show()"
   ]
  },
  {
   "cell_type": "code",
   "execution_count": null,
   "id": "b2ad98d0-f532-4713-a783-ffbc320f79e0",
   "metadata": {},
   "outputs": [],
   "source": [
    "fn = 'BEST_MODELS_PREDICTIONS.csv'\n",
    "odds = joined_odds(fn, 'spread')\n",
    "\n",
    "bets = pick_odds_greater_than(odds, margin=0)\n",
    "wagers = kelly_wagers(bets, multiplier=.05, cap=.05)\n",
    "results = simulate_wagers(wagers)\n",
    "\n",
    "pd.Series(results).plot(figsize=(16,4))\n",
    "plt.title('Bankroll Over 2023-2024 Season')\n",
    "plt.show()\n",
    "\n",
    "plt.figure(figsize=(16,4))\n",
    "df_eval = evaluation_dataframe(bets, wagers, results)\n",
    "plt.boxplot(df_eval.win_amount, vert=False)\n",
    "plt.title('Bet Result Distribution')\n",
    "plt.show()"
   ]
  },
  {
   "cell_type": "code",
   "execution_count": null,
   "id": "3650edcd-ed64-4fda-abe1-127705739079",
   "metadata": {},
   "outputs": [],
   "source": [
    "fn = 'BEST_MODELS_PREDICTIONS.csv'\n",
    "odds = joined_odds(fn, 'spread')\n",
    "\n",
    "bets = pick_odds_greater_than(odds, 0)\n",
    "wagers = kelly_wagers(bets, multiplier=1, cap=.1)\n",
    "results = simulate_wagers(wagers)\n",
    "pd.Series(results).plot(figsize=(16,4))\n",
    "plt.title('Bankroll Over 2023-2024 Season')\n",
    "plt.show()\n",
    "\n",
    "plt.figure(figsize=(16,4))\n",
    "df_eval = evaluation_dataframe(bets, wagers, results)\n",
    "plt.boxplot(df_eval.win_amount, vert=False)\n",
    "plt.title('Bet Result Distribution')\n",
    "plt.show()"
   ]
  },
  {
   "cell_type": "code",
   "execution_count": null,
   "id": "d7c51088-7b6e-4e8b-8f89-38f5ae6a4c87",
   "metadata": {},
   "outputs": [],
   "source": [
    "fn = 'BEST_MODELS_PREDICTIONS.csv'\n",
    "odds = joined_odds(fn, 'spread')\n",
    "\n",
    "bets = pick_odds_greater_than(odds, 0)\n",
    "wagers = kelly_wagers(bets, multiplier=.1, cap=.1)\n",
    "results = simulate_wagers(wagers)\n",
    "pd.Series(results).plot(figsize=(16,4))\n",
    "plt.title('Bankroll Over 2023-2024 Season')\n",
    "plt.show()"
   ]
  },
  {
   "cell_type": "code",
   "execution_count": null,
   "id": "22384c33-b033-47cf-8f01-61becb20759e",
   "metadata": {},
   "outputs": [],
   "source": [
    "from simulate_wagers import get_other_team\n",
    "\n",
    "odds_df = pd.read_csv(f'../../data/original/nba_games_box_scores_2022_2024.csv', usecols=['TEAM_NAME', 'GAME_DATE', 'PTS'])"
   ]
  },
  {
   "cell_type": "code",
   "execution_count": null,
   "id": "d4341acc-1bf3-4013-abbe-f7b54ed02610",
   "metadata": {},
   "outputs": [],
   "source": [
    "odds_df[odds_df.GAME_DATE>='2023-09-01']"
   ]
  },
  {
   "cell_type": "code",
   "execution_count": null,
   "id": "e8b79b01-64f3-4f9d-9f31-59d3a67817d6",
   "metadata": {},
   "outputs": [],
   "source": [
    "809"
   ]
  },
  {
   "cell_type": "code",
   "execution_count": null,
   "id": "541a454e-39ca-49d3-acda-c6b5d0ba8de0",
   "metadata": {},
   "outputs": [],
   "source": [
    "tmp = tmp[column_order]\n",
    "tmp.sort_values('win_amount', ascending=False)"
   ]
  },
  {
   "cell_type": "code",
   "execution_count": null,
   "id": "b9b907e0-aff0-4283-91a3-fbc281950fae",
   "metadata": {},
   "outputs": [],
   "source": [
    "plt.figure(figsize=(16,4))\n",
    "plt.boxplot(tmp.win_amount, vert=False)\n",
    "plt.title('Bet Result Distribution')\n",
    "plt.show()"
   ]
  },
  {
   "cell_type": "code",
   "execution_count": null,
   "id": "6072c4a9-8c78-437b-8961-406c7339ec95",
   "metadata": {},
   "outputs": [],
   "source": [
    "bets = pick_odds_greater_than(odds)\n",
    "wagers = kelly_wagers(bets, multiplier=1, cap=.05)\n",
    "results = simulate_wagers(wagers)\n",
    "pd.Series(results).plot()"
   ]
  },
  {
   "cell_type": "code",
   "execution_count": null,
   "id": "e0ef660a-e746-47e8-bb2f-984910039938",
   "metadata": {
    "tags": []
   },
   "outputs": [],
   "source": [
    "pd.DataFrame(list(zip(range(len(wagers['wagers'])), simulate_wagers(wagers),  wagers['wagers'])))"
   ]
  },
  {
   "cell_type": "code",
   "execution_count": null,
   "id": "424fea1a-8c6a-4765-94aa-f36a740125d4",
   "metadata": {},
   "outputs": [],
   "source": [
    "load_dotenv(find_dotenv())\n",
    "REPO_ROOT = os.environ['REPO_ROOT']\n",
    "GAME_DATA = f'{REPO_ROOT}/data/original'\n",
    "df = pd.read_csv(f'{GAME_DATA}/nba_games_box_scores_2022_2024.csv', usecols=['TEAM_NAME', 'GAME_DATE', 'PTS'])"
   ]
  },
  {
   "cell_type": "code",
   "execution_count": null,
   "id": "817ac0aa-46b2-47ad-876c-560e1b811604",
   "metadata": {},
   "outputs": [],
   "source": [
    "df = pd.read_csv(f'{GAME_DATA}/nba_games_box_scores_2022_2024.csv')\n",
    "#df.groupby('GAME_ID')"
   ]
  },
  {
   "cell_type": "code",
   "execution_count": null,
   "id": "59f6d6ce-0fd9-425f-b7c7-ec939c92b913",
   "metadata": {},
   "outputs": [],
   "source": [
    "from numpy import std, mean\n",
    "\n",
    "df[df.GAME_DATE >= '2023-09-01'].PLUS_MINUS.std()"
   ]
  },
  {
   "cell_type": "code",
   "execution_count": null,
   "id": "2dea27bf-a1d4-4ec6-b49b-dfa87f0fe8a5",
   "metadata": {},
   "outputs": [],
   "source": [
    "df"
   ]
  },
  {
   "cell_type": "code",
   "execution_count": null,
   "id": "4240e892-818c-4699-906a-566706884eef",
   "metadata": {},
   "outputs": [],
   "source": [
    "df.groupby('TEAM_NAME').PLUS_MINUS.std().mean()"
   ]
  },
  {
   "cell_type": "code",
   "execution_count": null,
   "id": "c21468a2-52a3-4698-909c-e4ab7cd2ff32",
   "metadata": {},
   "outputs": [],
   "source": [
    "df.groupby('TEAM_NAME').PTS.std()"
   ]
  },
  {
   "cell_type": "code",
   "execution_count": null,
   "id": "2a3c8f6e-bb66-4c2e-b05c-e225169ee803",
   "metadata": {},
   "outputs": [],
   "source": [
    "from statistics import NormalDist\n",
    "\n",
    "NormalDist(mu=-5, sigma=14.5).cdf(0)"
   ]
  },
  {
   "cell_type": "code",
   "execution_count": null,
   "id": "d31a548b-63d9-4b9a-b948-8555f0596252",
   "metadata": {},
   "outputs": [],
   "source": []
  },
  {
   "cell_type": "code",
   "execution_count": null,
   "id": "a2afe5f2-439e-48d3-8aac-12d913d5a95c",
   "metadata": {},
   "outputs": [],
   "source": []
  },
  {
   "cell_type": "code",
   "execution_count": null,
   "id": "8555fa43-83f0-48bd-897e-f535fb0c33ad",
   "metadata": {},
   "outputs": [],
   "source": [
    "from betting_strategies import pick_random"
   ]
  },
  {
   "cell_type": "code",
   "execution_count": null,
   "id": "7a86b1fc-d013-420d-a7db-d146fb131ad7",
   "metadata": {},
   "outputs": [],
   "source": [
    "wagers = pick_random('2023-09-01', '2024-06-01', 'dollars', 10, 1)\n",
    "results = simulate_wagers(wagers)\n",
    "results"
   ]
  },
  {
   "cell_type": "code",
   "execution_count": null,
   "id": "aee909f0-ed2c-43e6-a366-f2b1db956c58",
   "metadata": {},
   "outputs": [],
   "source": [
    "wagers"
   ]
  },
  {
   "cell_type": "code",
   "execution_count": null,
   "id": "47fb926c-6549-44d3-acc3-36d3c969b6d4",
   "metadata": {},
   "outputs": [],
   "source": []
  }
 ],
 "metadata": {
  "kernelspec": {
   "display_name": "Python 3 (ipykernel)",
   "language": "python",
   "name": "python3"
  },
  "language_info": {
   "codemirror_mode": {
    "name": "ipython",
    "version": 3
   },
   "file_extension": ".py",
   "mimetype": "text/x-python",
   "name": "python",
   "nbconvert_exporter": "python",
   "pygments_lexer": "ipython3",
   "version": "3.9.12"
  }
 },
 "nbformat": 4,
 "nbformat_minor": 5
}
