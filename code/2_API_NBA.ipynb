{
 "cells": [
  {
   "cell_type": "markdown",
   "id": "326c377e-37a5-4027-a059-902c097675a9",
   "metadata": {},
   "source": [
    "<div class=\"alert alert-danger\">\n",
    "    <h4 style=\"font-weight: bold; font-size: 28px;\">NBA API</h4>\n",
    "    <p style=\"font-size: 20px;\">Data Gathering</p>\n",
    "</div>\n",
    "\n",
    "<a name=\"NBA\"></a>"
   ]
  },
  {
   "cell_type": "markdown",
   "id": "ef6e8996-bf1e-4d91-9135-7ffc5c045fb1",
   "metadata": {
    "jp-MarkdownHeadingCollapsed": true
   },
   "source": [
    "# Setup"
   ]
  },
  {
   "cell_type": "code",
   "execution_count": 35,
   "id": "b83b3e21-bbe3-47dd-a7f9-cbcdf4e8b00b",
   "metadata": {},
   "outputs": [],
   "source": [
    "import pandas as pd\n",
    "from datetime import datetime, timedelta\n",
    "import time"
   ]
  },
  {
   "cell_type": "code",
   "execution_count": 69,
   "id": "c6e2fa89-39d6-4ce2-896b-c91769b02c24",
   "metadata": {},
   "outputs": [],
   "source": [
    "from nba_api.stats.static import teams, players\n",
    "from nba_api.stats.endpoints import scoreboard, leaguegamefinder, playercareerstats\n",
    "from nba_api.stats.endpoints import boxscorematchupsv3, boxscoreadvancedv2, teamestimatedmetrics, teamgamelogs\n",
    "from nba_api.stats.endpoints import TeamGameLogs, TeamEstimatedMetrics"
   ]
  },
  {
   "cell_type": "markdown",
   "id": "aac8033e-5d55-46da-8518-d1ff6796eb8a",
   "metadata": {
    "jp-MarkdownHeadingCollapsed": true
   },
   "source": [
    "# Team Data"
   ]
  },
  {
   "cell_type": "code",
   "execution_count": 13,
   "id": "8c155a58-7a65-415e-bb25-0ae22646d2f5",
   "metadata": {},
   "outputs": [
    {
     "name": "stdout",
     "output_type": "stream",
     "text": [
      "Number of teams fetched: 30\n"
     ]
    },
    {
     "data": {
      "text/html": [
       "<div>\n",
       "<style scoped>\n",
       "    .dataframe tbody tr th:only-of-type {\n",
       "        vertical-align: middle;\n",
       "    }\n",
       "\n",
       "    .dataframe tbody tr th {\n",
       "        vertical-align: top;\n",
       "    }\n",
       "\n",
       "    .dataframe thead th {\n",
       "        text-align: right;\n",
       "    }\n",
       "</style>\n",
       "<table border=\"1\" class=\"dataframe\">\n",
       "  <thead>\n",
       "    <tr style=\"text-align: right;\">\n",
       "      <th></th>\n",
       "      <th>id</th>\n",
       "      <th>full_name</th>\n",
       "      <th>abbreviation</th>\n",
       "      <th>nickname</th>\n",
       "      <th>city</th>\n",
       "      <th>state</th>\n",
       "      <th>year_founded</th>\n",
       "    </tr>\n",
       "  </thead>\n",
       "  <tbody>\n",
       "    <tr>\n",
       "      <th>0</th>\n",
       "      <td>1610612737</td>\n",
       "      <td>Atlanta Hawks</td>\n",
       "      <td>ATL</td>\n",
       "      <td>Hawks</td>\n",
       "      <td>Atlanta</td>\n",
       "      <td>Georgia</td>\n",
       "      <td>1949</td>\n",
       "    </tr>\n",
       "    <tr>\n",
       "      <th>1</th>\n",
       "      <td>1610612738</td>\n",
       "      <td>Boston Celtics</td>\n",
       "      <td>BOS</td>\n",
       "      <td>Celtics</td>\n",
       "      <td>Boston</td>\n",
       "      <td>Massachusetts</td>\n",
       "      <td>1946</td>\n",
       "    </tr>\n",
       "    <tr>\n",
       "      <th>2</th>\n",
       "      <td>1610612739</td>\n",
       "      <td>Cleveland Cavaliers</td>\n",
       "      <td>CLE</td>\n",
       "      <td>Cavaliers</td>\n",
       "      <td>Cleveland</td>\n",
       "      <td>Ohio</td>\n",
       "      <td>1970</td>\n",
       "    </tr>\n",
       "    <tr>\n",
       "      <th>3</th>\n",
       "      <td>1610612740</td>\n",
       "      <td>New Orleans Pelicans</td>\n",
       "      <td>NOP</td>\n",
       "      <td>Pelicans</td>\n",
       "      <td>New Orleans</td>\n",
       "      <td>Louisiana</td>\n",
       "      <td>2002</td>\n",
       "    </tr>\n",
       "    <tr>\n",
       "      <th>4</th>\n",
       "      <td>1610612741</td>\n",
       "      <td>Chicago Bulls</td>\n",
       "      <td>CHI</td>\n",
       "      <td>Bulls</td>\n",
       "      <td>Chicago</td>\n",
       "      <td>Illinois</td>\n",
       "      <td>1966</td>\n",
       "    </tr>\n",
       "  </tbody>\n",
       "</table>\n",
       "</div>"
      ],
      "text/plain": [
       "           id             full_name abbreviation   nickname         city  \\\n",
       "0  1610612737         Atlanta Hawks          ATL      Hawks      Atlanta   \n",
       "1  1610612738        Boston Celtics          BOS    Celtics       Boston   \n",
       "2  1610612739   Cleveland Cavaliers          CLE  Cavaliers    Cleveland   \n",
       "3  1610612740  New Orleans Pelicans          NOP   Pelicans  New Orleans   \n",
       "4  1610612741         Chicago Bulls          CHI      Bulls      Chicago   \n",
       "\n",
       "           state  year_founded  \n",
       "0        Georgia          1949  \n",
       "1  Massachusetts          1946  \n",
       "2           Ohio          1970  \n",
       "3      Louisiana          2002  \n",
       "4       Illinois          1966  "
      ]
     },
     "execution_count": 13,
     "metadata": {},
     "output_type": "execute_result"
    }
   ],
   "source": [
    "# get_teams returns a list of 30 dictionaries, each an NBA team\n",
    "nba_teams = teams.get_teams()\n",
    "print(\"Number of teams fetched: {}\".format(len(nba_teams)))\n",
    "nba_teams_df = pd.DataFrame(nba_teams)\n",
    "nba_teams_df.head()"
   ]
  },
  {
   "cell_type": "markdown",
   "id": "5fcbb24b-c25c-4b01-bed1-57476ff80517",
   "metadata": {
    "jp-MarkdownHeadingCollapsed": true
   },
   "source": [
    "# Players"
   ]
  },
  {
   "cell_type": "code",
   "execution_count": 33,
   "id": "9e2ee6e9-9fd3-443d-8cad-3dc0079a8627",
   "metadata": {},
   "outputs": [
    {
     "name": "stdout",
     "output_type": "stream",
     "text": [
      "Number of players fetched: 4900\n"
     ]
    },
    {
     "data": {
      "text/html": [
       "<div>\n",
       "<style scoped>\n",
       "    .dataframe tbody tr th:only-of-type {\n",
       "        vertical-align: middle;\n",
       "    }\n",
       "\n",
       "    .dataframe tbody tr th {\n",
       "        vertical-align: top;\n",
       "    }\n",
       "\n",
       "    .dataframe thead th {\n",
       "        text-align: right;\n",
       "    }\n",
       "</style>\n",
       "<table border=\"1\" class=\"dataframe\">\n",
       "  <thead>\n",
       "    <tr style=\"text-align: right;\">\n",
       "      <th></th>\n",
       "      <th>id</th>\n",
       "      <th>full_name</th>\n",
       "      <th>first_name</th>\n",
       "      <th>last_name</th>\n",
       "      <th>is_active</th>\n",
       "    </tr>\n",
       "  </thead>\n",
       "  <tbody>\n",
       "    <tr>\n",
       "      <th>0</th>\n",
       "      <td>76001</td>\n",
       "      <td>Alaa Abdelnaby</td>\n",
       "      <td>Alaa</td>\n",
       "      <td>Abdelnaby</td>\n",
       "      <td>False</td>\n",
       "    </tr>\n",
       "    <tr>\n",
       "      <th>1</th>\n",
       "      <td>76002</td>\n",
       "      <td>Zaid Abdul-Aziz</td>\n",
       "      <td>Zaid</td>\n",
       "      <td>Abdul-Aziz</td>\n",
       "      <td>False</td>\n",
       "    </tr>\n",
       "    <tr>\n",
       "      <th>2</th>\n",
       "      <td>76003</td>\n",
       "      <td>Kareem Abdul-Jabbar</td>\n",
       "      <td>Kareem</td>\n",
       "      <td>Abdul-Jabbar</td>\n",
       "      <td>False</td>\n",
       "    </tr>\n",
       "    <tr>\n",
       "      <th>3</th>\n",
       "      <td>51</td>\n",
       "      <td>Mahmoud Abdul-Rauf</td>\n",
       "      <td>Mahmoud</td>\n",
       "      <td>Abdul-Rauf</td>\n",
       "      <td>False</td>\n",
       "    </tr>\n",
       "    <tr>\n",
       "      <th>4</th>\n",
       "      <td>1505</td>\n",
       "      <td>Tariq Abdul-Wahad</td>\n",
       "      <td>Tariq</td>\n",
       "      <td>Abdul-Wahad</td>\n",
       "      <td>False</td>\n",
       "    </tr>\n",
       "  </tbody>\n",
       "</table>\n",
       "</div>"
      ],
      "text/plain": [
       "      id            full_name first_name     last_name  is_active\n",
       "0  76001       Alaa Abdelnaby       Alaa     Abdelnaby      False\n",
       "1  76002      Zaid Abdul-Aziz       Zaid    Abdul-Aziz      False\n",
       "2  76003  Kareem Abdul-Jabbar     Kareem  Abdul-Jabbar      False\n",
       "3     51   Mahmoud Abdul-Rauf    Mahmoud    Abdul-Rauf      False\n",
       "4   1505    Tariq Abdul-Wahad      Tariq   Abdul-Wahad      False"
      ]
     },
     "execution_count": 33,
     "metadata": {},
     "output_type": "execute_result"
    }
   ],
   "source": [
    "# get_players returns a list of dictionaries, each representing a player\n",
    "nba_players = players.get_players()\n",
    "print(\"Number of players fetched: {}\".format(len(nba_players)))\n",
    "nba_players_df = pd.DataFrame(nba_players)\n",
    "nba_players_df.head()"
   ]
  },
  {
   "cell_type": "markdown",
   "id": "0f6d9172-2469-4fcd-b326-6b2b50c40f3d",
   "metadata": {
    "jp-MarkdownHeadingCollapsed": true
   },
   "source": [
    "# Scoreboard"
   ]
  },
  {
   "cell_type": "code",
   "execution_count": null,
   "id": "80b56ff6-7519-4fd3-9f48-41c023dd3eaf",
   "metadata": {},
   "outputs": [],
   "source": [
    "# Today's Score Board\n",
    "games = scoreboard.ScoreBoard()\n",
    "\n",
    "# json\n",
    "games.get_json()\n",
    "\n",
    "# dictionary\n",
    "games.get_dict()"
   ]
  },
  {
   "cell_type": "markdown",
   "id": "c8312a72-4ff7-49b9-9d8e-55931bba3396",
   "metadata": {
    "jp-MarkdownHeadingCollapsed": true
   },
   "source": [
    "# League Game Finder"
   ]
  },
  {
   "cell_type": "code",
   "execution_count": null,
   "id": "cfb9ba79-27a0-4266-9653-56db8dba16b8",
   "metadata": {},
   "outputs": [],
   "source": [
    "# get game data\n",
    "team_ids = nba_teams_df['id'].tolist()\n",
    "\n",
    "games_list = []\n",
    "\n",
    "for id in team_ids:\n",
    "    print(id)\n",
    "    # query for games\n",
    "    gamefinder = leaguegamefinder.LeagueGameFinder(team_id_nullable=id)\n",
    "    # we want the first DataFrame of those returned\n",
    "    games_list.append(gamefinder.get_data_frames()[0])\n",
    "    # add time delay between requests\n",
    "    time.sleep(3)"
   ]
  },
  {
   "cell_type": "code",
   "execution_count": 18,
   "id": "723886c5-d2ed-4857-b1cf-dc9f9aac9e6d",
   "metadata": {},
   "outputs": [
    {
     "name": "stdout",
     "output_type": "stream",
     "text": [
      "(104437, 28)\n"
     ]
    },
    {
     "data": {
      "text/html": [
       "<div>\n",
       "<style scoped>\n",
       "    .dataframe tbody tr th:only-of-type {\n",
       "        vertical-align: middle;\n",
       "    }\n",
       "\n",
       "    .dataframe tbody tr th {\n",
       "        vertical-align: top;\n",
       "    }\n",
       "\n",
       "    .dataframe thead th {\n",
       "        text-align: right;\n",
       "    }\n",
       "</style>\n",
       "<table border=\"1\" class=\"dataframe\">\n",
       "  <thead>\n",
       "    <tr style=\"text-align: right;\">\n",
       "      <th></th>\n",
       "      <th>SEASON_ID</th>\n",
       "      <th>TEAM_ID</th>\n",
       "      <th>TEAM_ABBREVIATION</th>\n",
       "      <th>TEAM_NAME</th>\n",
       "      <th>GAME_ID</th>\n",
       "      <th>GAME_DATE</th>\n",
       "      <th>MATCHUP</th>\n",
       "      <th>WL</th>\n",
       "      <th>MIN</th>\n",
       "      <th>PTS</th>\n",
       "      <th>...</th>\n",
       "      <th>FT_PCT</th>\n",
       "      <th>OREB</th>\n",
       "      <th>DREB</th>\n",
       "      <th>REB</th>\n",
       "      <th>AST</th>\n",
       "      <th>STL</th>\n",
       "      <th>BLK</th>\n",
       "      <th>TOV</th>\n",
       "      <th>PF</th>\n",
       "      <th>PLUS_MINUS</th>\n",
       "    </tr>\n",
       "  </thead>\n",
       "  <tbody>\n",
       "    <tr>\n",
       "      <th>0</th>\n",
       "      <td>22023</td>\n",
       "      <td>1610612737</td>\n",
       "      <td>ATL</td>\n",
       "      <td>Atlanta Hawks</td>\n",
       "      <td>0022300595</td>\n",
       "      <td>2024-01-20</td>\n",
       "      <td>ATL vs. CLE</td>\n",
       "      <td>L</td>\n",
       "      <td>239</td>\n",
       "      <td>95</td>\n",
       "      <td>...</td>\n",
       "      <td>0.667</td>\n",
       "      <td>11.0</td>\n",
       "      <td>34.0</td>\n",
       "      <td>45.0</td>\n",
       "      <td>25</td>\n",
       "      <td>5.0</td>\n",
       "      <td>4</td>\n",
       "      <td>11</td>\n",
       "      <td>15</td>\n",
       "      <td>-21.0</td>\n",
       "    </tr>\n",
       "    <tr>\n",
       "      <th>1</th>\n",
       "      <td>22023</td>\n",
       "      <td>1610612737</td>\n",
       "      <td>ATL</td>\n",
       "      <td>Atlanta Hawks</td>\n",
       "      <td>0022300587</td>\n",
       "      <td>2024-01-19</td>\n",
       "      <td>ATL @ MIA</td>\n",
       "      <td>W</td>\n",
       "      <td>241</td>\n",
       "      <td>109</td>\n",
       "      <td>...</td>\n",
       "      <td>0.824</td>\n",
       "      <td>9.0</td>\n",
       "      <td>29.0</td>\n",
       "      <td>38.0</td>\n",
       "      <td>23</td>\n",
       "      <td>6.0</td>\n",
       "      <td>2</td>\n",
       "      <td>13</td>\n",
       "      <td>20</td>\n",
       "      <td>1.0</td>\n",
       "    </tr>\n",
       "    <tr>\n",
       "      <th>2</th>\n",
       "      <td>22023</td>\n",
       "      <td>1610612737</td>\n",
       "      <td>ATL</td>\n",
       "      <td>Atlanta Hawks</td>\n",
       "      <td>0022300570</td>\n",
       "      <td>2024-01-17</td>\n",
       "      <td>ATL vs. ORL</td>\n",
       "      <td>W</td>\n",
       "      <td>239</td>\n",
       "      <td>106</td>\n",
       "      <td>...</td>\n",
       "      <td>0.909</td>\n",
       "      <td>10.0</td>\n",
       "      <td>31.0</td>\n",
       "      <td>41.0</td>\n",
       "      <td>21</td>\n",
       "      <td>8.0</td>\n",
       "      <td>2</td>\n",
       "      <td>23</td>\n",
       "      <td>17</td>\n",
       "      <td>2.0</td>\n",
       "    </tr>\n",
       "    <tr>\n",
       "      <th>3</th>\n",
       "      <td>22023</td>\n",
       "      <td>1610612737</td>\n",
       "      <td>ATL</td>\n",
       "      <td>Atlanta Hawks</td>\n",
       "      <td>0022300559</td>\n",
       "      <td>2024-01-15</td>\n",
       "      <td>ATL vs. SAS</td>\n",
       "      <td>W</td>\n",
       "      <td>241</td>\n",
       "      <td>109</td>\n",
       "      <td>...</td>\n",
       "      <td>0.762</td>\n",
       "      <td>13.0</td>\n",
       "      <td>44.0</td>\n",
       "      <td>57.0</td>\n",
       "      <td>24</td>\n",
       "      <td>8.0</td>\n",
       "      <td>6</td>\n",
       "      <td>16</td>\n",
       "      <td>19</td>\n",
       "      <td>10.0</td>\n",
       "    </tr>\n",
       "    <tr>\n",
       "      <th>4</th>\n",
       "      <td>22023</td>\n",
       "      <td>1610612737</td>\n",
       "      <td>ATL</td>\n",
       "      <td>Atlanta Hawks</td>\n",
       "      <td>0022300543</td>\n",
       "      <td>2024-01-13</td>\n",
       "      <td>ATL vs. WAS</td>\n",
       "      <td>L</td>\n",
       "      <td>240</td>\n",
       "      <td>99</td>\n",
       "      <td>...</td>\n",
       "      <td>0.727</td>\n",
       "      <td>16.0</td>\n",
       "      <td>34.0</td>\n",
       "      <td>50.0</td>\n",
       "      <td>21</td>\n",
       "      <td>9.0</td>\n",
       "      <td>7</td>\n",
       "      <td>14</td>\n",
       "      <td>20</td>\n",
       "      <td>-28.0</td>\n",
       "    </tr>\n",
       "  </tbody>\n",
       "</table>\n",
       "<p>5 rows × 28 columns</p>\n",
       "</div>"
      ],
      "text/plain": [
       "  SEASON_ID     TEAM_ID TEAM_ABBREVIATION      TEAM_NAME     GAME_ID  \\\n",
       "0     22023  1610612737               ATL  Atlanta Hawks  0022300595   \n",
       "1     22023  1610612737               ATL  Atlanta Hawks  0022300587   \n",
       "2     22023  1610612737               ATL  Atlanta Hawks  0022300570   \n",
       "3     22023  1610612737               ATL  Atlanta Hawks  0022300559   \n",
       "4     22023  1610612737               ATL  Atlanta Hawks  0022300543   \n",
       "\n",
       "    GAME_DATE      MATCHUP WL  MIN  PTS  ...  FT_PCT  OREB  DREB   REB  AST  \\\n",
       "0  2024-01-20  ATL vs. CLE  L  239   95  ...   0.667  11.0  34.0  45.0   25   \n",
       "1  2024-01-19    ATL @ MIA  W  241  109  ...   0.824   9.0  29.0  38.0   23   \n",
       "2  2024-01-17  ATL vs. ORL  W  239  106  ...   0.909  10.0  31.0  41.0   21   \n",
       "3  2024-01-15  ATL vs. SAS  W  241  109  ...   0.762  13.0  44.0  57.0   24   \n",
       "4  2024-01-13  ATL vs. WAS  L  240   99  ...   0.727  16.0  34.0  50.0   21   \n",
       "\n",
       "   STL  BLK  TOV  PF  PLUS_MINUS  \n",
       "0  5.0    4   11  15       -21.0  \n",
       "1  6.0    2   13  20         1.0  \n",
       "2  8.0    2   23  17         2.0  \n",
       "3  8.0    6   16  19        10.0  \n",
       "4  9.0    7   14  20       -28.0  \n",
       "\n",
       "[5 rows x 28 columns]"
      ]
     },
     "execution_count": 18,
     "metadata": {},
     "output_type": "execute_result"
    }
   ],
   "source": [
    "games_df = pd.concat(games_list)\n",
    "print(games_df.shape)\n",
    "games_df.head()"
   ]
  },
  {
   "cell_type": "code",
   "execution_count": 25,
   "id": "4eeb706b-b511-4b38-a282-4f3dcbecf650",
   "metadata": {},
   "outputs": [
    {
     "name": "stdout",
     "output_type": "stream",
     "text": [
      "2024-01-21 00:00:00\n"
     ]
    }
   ],
   "source": [
    "games_df['GAME_DATE'] = pd.to_datetime(games_df['GAME_DATE'])\n",
    "\n",
    "# get the latest date\n",
    "earliest_date = games_df['GAME_DATE'].max()\n",
    "print(earliest_date)"
   ]
  },
  {
   "cell_type": "code",
   "execution_count": 26,
   "id": "ed639a8f-a874-470d-983e-f3042fe440a4",
   "metadata": {},
   "outputs": [],
   "source": [
    "games_df.to_csv('../data/original/nba_games_1983_2024.csv', index=False)"
   ]
  },
  {
   "cell_type": "markdown",
   "id": "4d270d5d-ef93-41b2-91f0-05a3d6296752",
   "metadata": {
    "jp-MarkdownHeadingCollapsed": true
   },
   "source": [
    "# Player Career Statistics"
   ]
  },
  {
   "cell_type": "code",
   "execution_count": null,
   "id": "14610423-d9b6-4671-8bca-541cf759322b",
   "metadata": {},
   "outputs": [],
   "source": [
    "# get player data\n",
    "player_ids = nba_players_df['id'].tolist()\n",
    "\n",
    "players_stats_list = []\n",
    "\n",
    "for id in player_ids:\n",
    "    print(id)\n",
    "    # query for games\n",
    "    career = playercareerstats.PlayerCareerStats(player_id=id)\n",
    "    # we want the first DataFrame of those returned\n",
    "    players_stats_list.append(career.get_data_frames()[0])\n",
    "    # add time delay between requests\n",
    "    time.sleep(1)"
   ]
  },
  {
   "cell_type": "code",
   "execution_count": 38,
   "id": "3b5da0da-209e-4d1c-957f-4217192af8c2",
   "metadata": {},
   "outputs": [
    {
     "name": "stdout",
     "output_type": "stream",
     "text": [
      "(29746, 27)\n"
     ]
    },
    {
     "data": {
      "text/html": [
       "<div>\n",
       "<style scoped>\n",
       "    .dataframe tbody tr th:only-of-type {\n",
       "        vertical-align: middle;\n",
       "    }\n",
       "\n",
       "    .dataframe tbody tr th {\n",
       "        vertical-align: top;\n",
       "    }\n",
       "\n",
       "    .dataframe thead th {\n",
       "        text-align: right;\n",
       "    }\n",
       "</style>\n",
       "<table border=\"1\" class=\"dataframe\">\n",
       "  <thead>\n",
       "    <tr style=\"text-align: right;\">\n",
       "      <th></th>\n",
       "      <th>PLAYER_ID</th>\n",
       "      <th>SEASON_ID</th>\n",
       "      <th>LEAGUE_ID</th>\n",
       "      <th>TEAM_ID</th>\n",
       "      <th>TEAM_ABBREVIATION</th>\n",
       "      <th>PLAYER_AGE</th>\n",
       "      <th>GP</th>\n",
       "      <th>GS</th>\n",
       "      <th>MIN</th>\n",
       "      <th>FGM</th>\n",
       "      <th>...</th>\n",
       "      <th>FT_PCT</th>\n",
       "      <th>OREB</th>\n",
       "      <th>DREB</th>\n",
       "      <th>REB</th>\n",
       "      <th>AST</th>\n",
       "      <th>STL</th>\n",
       "      <th>BLK</th>\n",
       "      <th>TOV</th>\n",
       "      <th>PF</th>\n",
       "      <th>PTS</th>\n",
       "    </tr>\n",
       "  </thead>\n",
       "  <tbody>\n",
       "    <tr>\n",
       "      <th>0</th>\n",
       "      <td>76001</td>\n",
       "      <td>1990-91</td>\n",
       "      <td>00</td>\n",
       "      <td>1610612757</td>\n",
       "      <td>POR</td>\n",
       "      <td>23.0</td>\n",
       "      <td>43</td>\n",
       "      <td>0</td>\n",
       "      <td>290.0</td>\n",
       "      <td>55</td>\n",
       "      <td>...</td>\n",
       "      <td>0.568</td>\n",
       "      <td>27</td>\n",
       "      <td>62</td>\n",
       "      <td>89</td>\n",
       "      <td>12</td>\n",
       "      <td>4</td>\n",
       "      <td>12</td>\n",
       "      <td>22</td>\n",
       "      <td>39</td>\n",
       "      <td>135</td>\n",
       "    </tr>\n",
       "    <tr>\n",
       "      <th>1</th>\n",
       "      <td>76001</td>\n",
       "      <td>1991-92</td>\n",
       "      <td>00</td>\n",
       "      <td>1610612757</td>\n",
       "      <td>POR</td>\n",
       "      <td>24.0</td>\n",
       "      <td>71</td>\n",
       "      <td>1</td>\n",
       "      <td>934.0</td>\n",
       "      <td>178</td>\n",
       "      <td>...</td>\n",
       "      <td>0.752</td>\n",
       "      <td>81</td>\n",
       "      <td>179</td>\n",
       "      <td>260</td>\n",
       "      <td>30</td>\n",
       "      <td>25</td>\n",
       "      <td>16</td>\n",
       "      <td>66</td>\n",
       "      <td>132</td>\n",
       "      <td>432</td>\n",
       "    </tr>\n",
       "    <tr>\n",
       "      <th>2</th>\n",
       "      <td>76001</td>\n",
       "      <td>1992-93</td>\n",
       "      <td>00</td>\n",
       "      <td>1610612749</td>\n",
       "      <td>MIL</td>\n",
       "      <td>25.0</td>\n",
       "      <td>12</td>\n",
       "      <td>0</td>\n",
       "      <td>159.0</td>\n",
       "      <td>26</td>\n",
       "      <td>...</td>\n",
       "      <td>0.75</td>\n",
       "      <td>12</td>\n",
       "      <td>25</td>\n",
       "      <td>37</td>\n",
       "      <td>10</td>\n",
       "      <td>6</td>\n",
       "      <td>4</td>\n",
       "      <td>13</td>\n",
       "      <td>24</td>\n",
       "      <td>64</td>\n",
       "    </tr>\n",
       "    <tr>\n",
       "      <th>3</th>\n",
       "      <td>76001</td>\n",
       "      <td>1992-93</td>\n",
       "      <td>00</td>\n",
       "      <td>1610612738</td>\n",
       "      <td>BOS</td>\n",
       "      <td>25.0</td>\n",
       "      <td>63</td>\n",
       "      <td>52</td>\n",
       "      <td>1152.0</td>\n",
       "      <td>219</td>\n",
       "      <td>...</td>\n",
       "      <td>0.76</td>\n",
       "      <td>114</td>\n",
       "      <td>186</td>\n",
       "      <td>300</td>\n",
       "      <td>17</td>\n",
       "      <td>19</td>\n",
       "      <td>22</td>\n",
       "      <td>84</td>\n",
       "      <td>165</td>\n",
       "      <td>514</td>\n",
       "    </tr>\n",
       "    <tr>\n",
       "      <th>4</th>\n",
       "      <td>76001</td>\n",
       "      <td>1992-93</td>\n",
       "      <td>00</td>\n",
       "      <td>0</td>\n",
       "      <td>TOT</td>\n",
       "      <td>25.0</td>\n",
       "      <td>75</td>\n",
       "      <td>52</td>\n",
       "      <td>1311.0</td>\n",
       "      <td>245</td>\n",
       "      <td>...</td>\n",
       "      <td>0.759</td>\n",
       "      <td>126</td>\n",
       "      <td>211</td>\n",
       "      <td>337</td>\n",
       "      <td>27</td>\n",
       "      <td>25</td>\n",
       "      <td>26</td>\n",
       "      <td>97</td>\n",
       "      <td>189</td>\n",
       "      <td>578</td>\n",
       "    </tr>\n",
       "  </tbody>\n",
       "</table>\n",
       "<p>5 rows × 27 columns</p>\n",
       "</div>"
      ],
      "text/plain": [
       "  PLAYER_ID SEASON_ID LEAGUE_ID     TEAM_ID TEAM_ABBREVIATION  PLAYER_AGE  GP  \\\n",
       "0     76001   1990-91        00  1610612757               POR        23.0  43   \n",
       "1     76001   1991-92        00  1610612757               POR        24.0  71   \n",
       "2     76001   1992-93        00  1610612749               MIL        25.0  12   \n",
       "3     76001   1992-93        00  1610612738               BOS        25.0  63   \n",
       "4     76001   1992-93        00           0               TOT        25.0  75   \n",
       "\n",
       "   GS     MIN  FGM  ... FT_PCT OREB DREB  REB AST STL BLK TOV   PF  PTS  \n",
       "0   0   290.0   55  ...  0.568   27   62   89  12   4  12  22   39  135  \n",
       "1   1   934.0  178  ...  0.752   81  179  260  30  25  16  66  132  432  \n",
       "2   0   159.0   26  ...   0.75   12   25   37  10   6   4  13   24   64  \n",
       "3  52  1152.0  219  ...   0.76  114  186  300  17  19  22  84  165  514  \n",
       "4  52  1311.0  245  ...  0.759  126  211  337  27  25  26  97  189  578  \n",
       "\n",
       "[5 rows x 27 columns]"
      ]
     },
     "execution_count": 38,
     "metadata": {},
     "output_type": "execute_result"
    }
   ],
   "source": [
    "players_stats_df = pd.concat(players_stats_list)\n",
    "print(players_stats_df.shape)\n",
    "players_stats_df.head()"
   ]
  },
  {
   "cell_type": "code",
   "execution_count": 40,
   "id": "781ffce1-4cf1-44f2-9f44-79847cf7508c",
   "metadata": {},
   "outputs": [
    {
     "name": "stdout",
     "output_type": "stream",
     "text": [
      "1946-47\n"
     ]
    }
   ],
   "source": [
    "# get the latest season\n",
    "earliest_date = players_stats_df['SEASON_ID'].min()\n",
    "print(earliest_date)"
   ]
  },
  {
   "cell_type": "code",
   "execution_count": 41,
   "id": "f8df6c52-2041-4ae2-baf3-b202498d9dc7",
   "metadata": {},
   "outputs": [],
   "source": [
    "players_stats_df.to_csv('../data/original/nba_players_statistics_1946_2024.csv', index=False)"
   ]
  },
  {
   "cell_type": "markdown",
   "id": "169b9139-b4e8-4e66-9f03-622666b267db",
   "metadata": {
    "jp-MarkdownHeadingCollapsed": true
   },
   "source": [
    "# Box Score Matchups V3"
   ]
  },
  {
   "cell_type": "code",
   "execution_count": 43,
   "id": "99e9d7d9-4509-402f-a354-4899cdd9c570",
   "metadata": {},
   "outputs": [],
   "source": [
    "games_df = pd.read_csv('../data/original/nba_games_1983_2024.csv')\n",
    "# get player data\n",
    "game_ids = games_df['GAME_ID'].tolist()"
   ]
  },
  {
   "cell_type": "code",
   "execution_count": 63,
   "id": "a867285e-44b8-4ed7-9b91-a0b2fa2abfd8",
   "metadata": {},
   "outputs": [
    {
     "data": {
      "text/plain": [
       "21000400"
      ]
     },
     "execution_count": 63,
     "metadata": {},
     "output_type": "execute_result"
    }
   ],
   "source": [
    "game_ids[5000]"
   ]
  },
  {
   "cell_type": "code",
   "execution_count": null,
   "id": "361e304d-8747-4e72-9a7f-5adf8e82eba7",
   "metadata": {},
   "outputs": [],
   "source": [
    "bs_matchups = boxscorematchupsv3.BoxScoreMatchupsV3(game_id=21000400)\n",
    "#bs_matchups.get_data_frames()"
   ]
  },
  {
   "cell_type": "markdown",
   "id": "a55037cd-9bae-49d3-b30b-9461945834c7",
   "metadata": {
    "jp-MarkdownHeadingCollapsed": true
   },
   "source": [
    "# Box Score Advanced V2"
   ]
  },
  {
   "cell_type": "code",
   "execution_count": null,
   "id": "3d5fdf18-e6da-4ac3-8b7d-6ec05ace72ee",
   "metadata": {},
   "outputs": [],
   "source": [
    "bs_adv = boxscoreadvancedv2.BoxScoreAdvancedV2(game_id=21000400)\n",
    "bs_adv.data_sets.get_data_frame()"
   ]
  },
  {
   "cell_type": "markdown",
   "id": "a5181acc-bd17-48fb-9ade-8aebbd12a858",
   "metadata": {
    "jp-MarkdownHeadingCollapsed": true
   },
   "source": [
    "# Team Game Logs"
   ]
  },
  {
   "cell_type": "code",
   "execution_count": null,
   "id": "fef5c625-136c-4bae-9135-713259faf71a",
   "metadata": {},
   "outputs": [],
   "source": [
    "mav_id = '1610612742'\n",
    "logs = teamgamelogs.TeamGameLogs.DataSet(data=)\n",
    "#logs.get_data_frame(data=)"
   ]
  },
  {
   "cell_type": "markdown",
   "id": "7210f626-bf35-488f-888f-7ed12259ab27",
   "metadata": {
    "jp-MarkdownHeadingCollapsed": true
   },
   "source": [
    "# Team Estimated Metrics"
   ]
  },
  {
   "cell_type": "code",
   "execution_count": null,
   "id": "16a83e6a-19ec-48fd-bf46-c0ea04903173",
   "metadata": {},
   "outputs": [],
   "source": [
    "team_metrics = teamestimatedmetrics.TeamEstimatedMetrics.DataSet(data=)"
   ]
  },
  {
   "cell_type": "code",
   "execution_count": null,
   "id": "ff42bb7e-5182-4945-895a-9484970c2a80",
   "metadata": {},
   "outputs": [],
   "source": []
  },
  {
   "cell_type": "code",
   "execution_count": 65,
   "id": "7e6174bd-172e-4fbc-bd6d-2b58d04d1e39",
   "metadata": {},
   "outputs": [],
   "source": [
    "from nba_api.stats.endpoints import commonplayerinfo\n",
    "\n",
    "# Basic Request\n",
    "player_info = commonplayerinfo.CommonPlayerInfo(player_id=2544)"
   ]
  },
  {
   "cell_type": "code",
   "execution_count": 66,
   "id": "72ff3808-1d83-4b95-9609-f0adcf324331",
   "metadata": {},
   "outputs": [
    {
     "data": {
      "text/html": [
       "<div>\n",
       "<style scoped>\n",
       "    .dataframe tbody tr th:only-of-type {\n",
       "        vertical-align: middle;\n",
       "    }\n",
       "\n",
       "    .dataframe tbody tr th {\n",
       "        vertical-align: top;\n",
       "    }\n",
       "\n",
       "    .dataframe thead th {\n",
       "        text-align: right;\n",
       "    }\n",
       "</style>\n",
       "<table border=\"1\" class=\"dataframe\">\n",
       "  <thead>\n",
       "    <tr style=\"text-align: right;\">\n",
       "      <th></th>\n",
       "      <th>SEASON_ID</th>\n",
       "    </tr>\n",
       "  </thead>\n",
       "  <tbody>\n",
       "    <tr>\n",
       "      <th>0</th>\n",
       "      <td>12003</td>\n",
       "    </tr>\n",
       "    <tr>\n",
       "      <th>1</th>\n",
       "      <td>22003</td>\n",
       "    </tr>\n",
       "    <tr>\n",
       "      <th>2</th>\n",
       "      <td>12004</td>\n",
       "    </tr>\n",
       "    <tr>\n",
       "      <th>3</th>\n",
       "      <td>22004</td>\n",
       "    </tr>\n",
       "    <tr>\n",
       "      <th>4</th>\n",
       "      <td>32004</td>\n",
       "    </tr>\n",
       "    <tr>\n",
       "      <th>...</th>\n",
       "      <td>...</td>\n",
       "    </tr>\n",
       "    <tr>\n",
       "      <th>75</th>\n",
       "      <td>42022</td>\n",
       "    </tr>\n",
       "    <tr>\n",
       "      <th>76</th>\n",
       "      <td>52022</td>\n",
       "    </tr>\n",
       "    <tr>\n",
       "      <th>77</th>\n",
       "      <td>12023</td>\n",
       "    </tr>\n",
       "    <tr>\n",
       "      <th>78</th>\n",
       "      <td>22023</td>\n",
       "    </tr>\n",
       "    <tr>\n",
       "      <th>79</th>\n",
       "      <td>62023</td>\n",
       "    </tr>\n",
       "  </tbody>\n",
       "</table>\n",
       "<p>80 rows × 1 columns</p>\n",
       "</div>"
      ],
      "text/plain": [
       "   SEASON_ID\n",
       "0      12003\n",
       "1      22003\n",
       "2      12004\n",
       "3      22004\n",
       "4      32004\n",
       "..       ...\n",
       "75     42022\n",
       "76     52022\n",
       "77     12023\n",
       "78     22023\n",
       "79     62023\n",
       "\n",
       "[80 rows x 1 columns]"
      ]
     },
     "execution_count": 66,
     "metadata": {},
     "output_type": "execute_result"
    }
   ],
   "source": [
    "player_info.available_seasons.get_data_frame()"
   ]
  },
  {
   "cell_type": "code",
   "execution_count": null,
   "id": "455a1610-f27d-40ad-94fd-9e9dd26b0e93",
   "metadata": {},
   "outputs": [],
   "source": []
  }
 ],
 "metadata": {
  "kernelspec": {
   "display_name": "Python 3 (ipykernel)",
   "language": "python",
   "name": "python3"
  },
  "language_info": {
   "codemirror_mode": {
    "name": "ipython",
    "version": 3
   },
   "file_extension": ".py",
   "mimetype": "text/x-python",
   "name": "python",
   "nbconvert_exporter": "python",
   "pygments_lexer": "ipython3",
   "version": "3.8.18"
  }
 },
 "nbformat": 4,
 "nbformat_minor": 5
}
